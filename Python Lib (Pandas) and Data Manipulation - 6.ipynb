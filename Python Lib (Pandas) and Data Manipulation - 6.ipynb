{
 "cells": [
  {
   "cell_type": "markdown",
   "id": "54c935fb",
   "metadata": {},
   "source": [
    "## $\\color{blue}{\\text{Introduction to Python Libraries.}}$"
   ]
  },
  {
   "cell_type": "markdown",
   "id": "03b32538",
   "metadata": {},
   "source": [
    "### $\\text{What is library.}$"
   ]
  },
  {
   "cell_type": "markdown",
   "id": "6119f796",
   "metadata": {},
   "source": [
    "A Python **library** is a collection of related modules. It contains number of code that can be used frequently in various\n",
    "programs."
   ]
  },
  {
   "cell_type": "markdown",
   "id": "226c81aa",
   "metadata": {},
   "source": [
    "**Library** is used to avoid code reusability and from complexity of coding."
   ]
  },
  {
   "cell_type": "markdown",
   "id": "81854206",
   "metadata": {},
   "source": [
    "$\\text{Here some popular libraries will be discussed, which are used in machine learning and data Science}$"
   ]
  },
  {
   "cell_type": "markdown",
   "id": "25982725",
   "metadata": {},
   "source": [
    "## $\\color{blue}{\\text{Data Analysis with Python}}$"
   ]
  },
  {
   "cell_type": "markdown",
   "id": "1673939e",
   "metadata": {},
   "source": [
    "*Python has vast number of libraries and packages that allows us to deal with all the stages in a typical data science project. Libraries for multiple purposes*"
   ]
  },
  {
   "cell_type": "markdown",
   "id": "8ba4f55d",
   "metadata": {},
   "source": [
    "### $\\text{For Data Acquisition}$"
   ]
  },
  {
   "cell_type": "markdown",
   "id": "e5ffc5a9",
   "metadata": {},
   "source": [
    "*For data acquisition we have liabraies such as* **scrappy, BeutifulSoup, Pandas, Numpy, Spacy**\n"
   ]
  },
  {
   "cell_type": "markdown",
   "id": "5672735c",
   "metadata": {},
   "source": [
    "### $\\text{For Data Wrangling}$"
   ]
  },
  {
   "cell_type": "markdown",
   "id": "f1701ac0",
   "metadata": {},
   "source": [
    "*For data wrangling we have* **pandas**, and **numpy** that allow us to process, clean, and manipulate data****"
   ]
  },
  {
   "cell_type": "markdown",
   "id": "c5602156",
   "metadata": {},
   "source": [
    "### $\\text{For Data Exploration}$"
   ]
  },
  {
   "cell_type": "markdown",
   "id": "771bb547",
   "metadata": {},
   "source": [
    "*For data exploration there are,* **matplotlib** and **Seaborn** *that have variety of functions*"
   ]
  },
  {
   "cell_type": "markdown",
   "id": "a39d2e6f",
   "metadata": {},
   "source": [
    "### $\\text{For Modeling}$"
   ]
  },
  {
   "cell_type": "markdown",
   "id": "19de9396",
   "metadata": {},
   "source": [
    "*For modeling there is* **scikit-learn** *to build powerful models for machine learning*\n",
    "\n",
    "**TensorFlow** and **Keras** also provide tools and functions to build deep learning models"
   ]
  },
  {
   "cell_type": "markdown",
   "id": "fdedf348",
   "metadata": {},
   "source": [
    "### $\\text{For Visualization}$"
   ]
  },
  {
   "cell_type": "markdown",
   "id": "eebd9a00",
   "metadata": {},
   "source": [
    "*For visualization, there is **Bokeh** and **Scipy** *to build beautiful and powerful visulaization*"
   ]
  },
  {
   "cell_type": "markdown",
   "id": "5fb7070a",
   "metadata": {},
   "source": [
    "### Some Libraries which are used in AI and DataScince"
   ]
  },
  {
   "cell_type": "markdown",
   "id": "6001ef06",
   "metadata": {},
   "source": [
    "#### 1) Pandas \n",
    "#### 2) Numpy\n",
    "#### 3) Matplotlib\n",
    "#### 4) TensorFlow\n",
    "#### 5) Keras \n",
    "#### 6) Scikit-learn\n",
    "#### 7) Scipy\n"
   ]
  },
  {
   "cell_type": "markdown",
   "id": "3f8e1968",
   "metadata": {},
   "source": [
    "## $\\text{1. Pandas}$"
   ]
  },
  {
   "cell_type": "markdown",
   "id": "965d1be2",
   "metadata": {},
   "source": [
    "**Pandas** *is a fast, flexible, powerful, and easy to use Open Source data analysis and manipulation tool.It stqnds for* **Panel Data** and **Pythom Data Analysis library***\n",
    "\n",
    "*It is used for **loading, organizing, manipulating, modeling** and **analyzig** data in a dataset*"
   ]
  },
  {
   "cell_type": "markdown",
   "id": "e22fc46e",
   "metadata": {},
   "source": [
    "### $\\text{Pandas is used to handle DataFrames}$"
   ]
  },
  {
   "cell_type": "markdown",
   "id": "305ae77b",
   "metadata": {},
   "source": [
    "#### What is DataFrame?"
   ]
  },
  {
   "cell_type": "markdown",
   "id": "3d0beeeb",
   "metadata": {},
   "source": [
    "*It is a data structure that organizes data into a table of rows and columns, just like a spreadsheet*"
   ]
  },
  {
   "cell_type": "markdown",
   "id": "c33850b6",
   "metadata": {},
   "source": [
    "#### What is Data Structure?"
   ]
  },
  {
   "cell_type": "markdown",
   "id": "ce328281",
   "metadata": {},
   "source": [
    "*Organzing and storing data in specialized format in order to perform operations more effecently is knonwn as *data structures**"
   ]
  },
  {
   "cell_type": "markdown",
   "id": "4b06930c",
   "metadata": {},
   "source": [
    "### It will need to install Pandas in jupyter notebook.\n",
    "Every Library must be installed. Then it can be import."
   ]
  },
  {
   "cell_type": "markdown",
   "id": "b631e997",
   "metadata": {},
   "source": [
    "#### $\\text{Installing Pandas}$\n",
    "Just perform the followings to install Pandas."
   ]
  },
  {
   "cell_type": "markdown",
   "id": "698d8b90",
   "metadata": {},
   "source": [
    "pip install pandas (in Anaconda Prompt)\n",
    "\n",
    "********\n",
    "        or\n",
    "conda install pandas ((in Anaconda Prompt))\n",
    "\n",
    "********\n",
    "        or \n",
    " In Jupter You can try\n",
    " \n",
    "!pip install pandas\n",
    "\n",
    "********\n",
    "        or \n",
    "!conda install pandas\n",
    "\n",
    "********"
   ]
  },
  {
   "cell_type": "code",
   "execution_count": 1,
   "id": "76de35ac",
   "metadata": {},
   "outputs": [],
   "source": [
    "#!conda install pandas\n",
    "#remove the comment to install pandas. As here it is already installed."
   ]
  },
  {
   "cell_type": "markdown",
   "id": "9326b73a",
   "metadata": {},
   "source": [
    "****Let's import pandas****"
   ]
  },
  {
   "cell_type": "code",
   "execution_count": 2,
   "id": "609cc8b0",
   "metadata": {},
   "outputs": [],
   "source": [
    "import pandas"
   ]
  },
  {
   "cell_type": "markdown",
   "id": "ba979200",
   "metadata": {},
   "source": [
    "****To check the version of your package/library****"
   ]
  },
  {
   "cell_type": "code",
   "execution_count": 3,
   "id": "3a44cdc3",
   "metadata": {},
   "outputs": [
    {
     "name": "stdout",
     "output_type": "stream",
     "text": [
      "1.2.4\n"
     ]
    }
   ],
   "source": [
    "print(pandas.__version__)"
   ]
  },
  {
   "cell_type": "markdown",
   "id": "7691664c",
   "metadata": {},
   "source": [
    "*To check function pandas has, **dir()** function is used.*"
   ]
  },
  {
   "cell_type": "code",
   "execution_count": 4,
   "id": "c8bf50d5",
   "metadata": {},
   "outputs": [
    {
     "data": {
      "text/plain": [
       "['BooleanDtype',\n",
       " 'Categorical',\n",
       " 'CategoricalDtype',\n",
       " 'CategoricalIndex',\n",
       " 'DataFrame',\n",
       " 'DateOffset',\n",
       " 'DatetimeIndex',\n",
       " 'DatetimeTZDtype',\n",
       " 'ExcelFile',\n",
       " 'ExcelWriter',\n",
       " 'Flags',\n",
       " 'Float32Dtype',\n",
       " 'Float64Dtype',\n",
       " 'Float64Index',\n",
       " 'Grouper',\n",
       " 'HDFStore',\n",
       " 'Index',\n",
       " 'IndexSlice',\n",
       " 'Int16Dtype',\n",
       " 'Int32Dtype',\n",
       " 'Int64Dtype',\n",
       " 'Int64Index',\n",
       " 'Int8Dtype',\n",
       " 'Interval',\n",
       " 'IntervalDtype',\n",
       " 'IntervalIndex',\n",
       " 'MultiIndex',\n",
       " 'NA',\n",
       " 'NaT',\n",
       " 'NamedAgg',\n",
       " 'Period',\n",
       " 'PeriodDtype',\n",
       " 'PeriodIndex',\n",
       " 'RangeIndex',\n",
       " 'Series',\n",
       " 'SparseDtype',\n",
       " 'StringDtype',\n",
       " 'Timedelta',\n",
       " 'TimedeltaIndex',\n",
       " 'Timestamp',\n",
       " 'UInt16Dtype',\n",
       " 'UInt32Dtype',\n",
       " 'UInt64Dtype',\n",
       " 'UInt64Index',\n",
       " 'UInt8Dtype',\n",
       " '__builtins__',\n",
       " '__cached__',\n",
       " '__doc__',\n",
       " '__docformat__',\n",
       " '__file__',\n",
       " '__getattr__',\n",
       " '__git_version__',\n",
       " '__loader__',\n",
       " '__name__',\n",
       " '__package__',\n",
       " '__path__',\n",
       " '__spec__',\n",
       " '__version__',\n",
       " '_config',\n",
       " '_hashtable',\n",
       " '_is_numpy_dev',\n",
       " '_lib',\n",
       " '_libs',\n",
       " '_np_version_under1p17',\n",
       " '_np_version_under1p18',\n",
       " '_testing',\n",
       " '_tslib',\n",
       " '_typing',\n",
       " '_version',\n",
       " 'api',\n",
       " 'array',\n",
       " 'arrays',\n",
       " 'bdate_range',\n",
       " 'compat',\n",
       " 'concat',\n",
       " 'core',\n",
       " 'crosstab',\n",
       " 'cut',\n",
       " 'date_range',\n",
       " 'describe_option',\n",
       " 'errors',\n",
       " 'eval',\n",
       " 'factorize',\n",
       " 'get_dummies',\n",
       " 'get_option',\n",
       " 'infer_freq',\n",
       " 'interval_range',\n",
       " 'io',\n",
       " 'isna',\n",
       " 'isnull',\n",
       " 'json_normalize',\n",
       " 'lreshape',\n",
       " 'melt',\n",
       " 'merge',\n",
       " 'merge_asof',\n",
       " 'merge_ordered',\n",
       " 'notna',\n",
       " 'notnull',\n",
       " 'offsets',\n",
       " 'option_context',\n",
       " 'options',\n",
       " 'pandas',\n",
       " 'period_range',\n",
       " 'pivot',\n",
       " 'pivot_table',\n",
       " 'plotting',\n",
       " 'qcut',\n",
       " 'read_clipboard',\n",
       " 'read_csv',\n",
       " 'read_excel',\n",
       " 'read_feather',\n",
       " 'read_fwf',\n",
       " 'read_gbq',\n",
       " 'read_hdf',\n",
       " 'read_html',\n",
       " 'read_json',\n",
       " 'read_orc',\n",
       " 'read_parquet',\n",
       " 'read_pickle',\n",
       " 'read_sas',\n",
       " 'read_spss',\n",
       " 'read_sql',\n",
       " 'read_sql_query',\n",
       " 'read_sql_table',\n",
       " 'read_stata',\n",
       " 'read_table',\n",
       " 'reset_option',\n",
       " 'set_eng_float_format',\n",
       " 'set_option',\n",
       " 'show_versions',\n",
       " 'test',\n",
       " 'testing',\n",
       " 'timedelta_range',\n",
       " 'to_datetime',\n",
       " 'to_numeric',\n",
       " 'to_pickle',\n",
       " 'to_timedelta',\n",
       " 'tseries',\n",
       " 'unique',\n",
       " 'util',\n",
       " 'value_counts',\n",
       " 'wide_to_long']"
      ]
     },
     "execution_count": 4,
     "metadata": {},
     "output_type": "execute_result"
    }
   ],
   "source": [
    "dir(pandas)"
   ]
  },
  {
   "cell_type": "markdown",
   "id": "c69344a4",
   "metadata": {},
   "source": [
    "### i. Pandas Series"
   ]
  },
  {
   "cell_type": "markdown",
   "id": "650f6e2b",
   "metadata": {},
   "source": [
    "**Pandas** *series is used to handle 1-dimentional data. Such as integers, floats, complex numbers, strings and other Python Objects*"
   ]
  },
  {
   "cell_type": "markdown",
   "id": "cdc78430",
   "metadata": {},
   "source": [
    "*It is a 1D array that can handle data of any type****\n",
    "\n",
    "*Just like a coloumn in a table*"
   ]
  },
  {
   "cell_type": "markdown",
   "id": "3532e7b5",
   "metadata": {},
   "source": [
    "#### $Syntax$"
   ]
  },
  {
   "cell_type": "markdown",
   "id": "06b74ed4",
   "metadata": {},
   "source": [
    "$\\text{pandas.Series(data, index)}$"
   ]
  },
  {
   "cell_type": "markdown",
   "id": "4e67b3e5",
   "metadata": {},
   "source": [
    "* data  ==> int, float,  complext numbers, list, tuple, dictionary, etc\n",
    "* index ==> axis labels\n",
    "\n",
    "* if data is an ndarray, then index must be of same length as data"
   ]
  },
  {
   "cell_type": "markdown",
   "id": "52e82951",
   "metadata": {},
   "source": [
    "**Importing pandas**"
   ]
  },
  {
   "cell_type": "code",
   "execution_count": 5,
   "id": "965e964f",
   "metadata": {},
   "outputs": [],
   "source": [
    "import pandas as pd"
   ]
  },
  {
   "cell_type": "markdown",
   "id": "df96adda",
   "metadata": {},
   "source": [
    "##### **Now, generating Pandas Series from list**"
   ]
  },
  {
   "cell_type": "code",
   "execution_count": 6,
   "id": "bab5ce1d",
   "metadata": {},
   "outputs": [
    {
     "name": "stdout",
     "output_type": "stream",
     "text": [
      "[1, 2, 3, 4, 5, 6, 7, 8]\n"
     ]
    }
   ],
   "source": [
    "listt = [1,2,3,4,5,6,7,8]\n",
    "print(listt)"
   ]
  },
  {
   "cell_type": "code",
   "execution_count": 7,
   "id": "1dfe020b",
   "metadata": {},
   "outputs": [
    {
     "data": {
      "text/plain": [
       "0    1\n",
       "1    2\n",
       "2    3\n",
       "3    4\n",
       "4    5\n",
       "5    6\n",
       "6    7\n",
       "7    8\n",
       "dtype: int64"
      ]
     },
     "execution_count": 7,
     "metadata": {},
     "output_type": "execute_result"
    }
   ],
   "source": [
    "pan_ser = pd.Series(listt)\n",
    "pan_ser"
   ]
  },
  {
   "cell_type": "code",
   "execution_count": 8,
   "id": "c7e1d7e0",
   "metadata": {},
   "outputs": [
    {
     "data": {
      "text/plain": [
       "a    1\n",
       "b    2\n",
       "c    3\n",
       "d    4\n",
       "e    5\n",
       "f    6\n",
       "g    7\n",
       "h    8\n",
       "dtype: int64"
      ]
     },
     "execution_count": 8,
     "metadata": {},
     "output_type": "execute_result"
    }
   ],
   "source": [
    "ser1  = pd.Series(listt, index = ['a', 'b', 'c', 'd','e', 'f', 'g','h'])\n",
    "ser1"
   ]
  },
  {
   "cell_type": "markdown",
   "id": "c0178d6b",
   "metadata": {},
   "source": [
    "#### To get the first 2 elements of the series"
   ]
  },
  {
   "cell_type": "code",
   "execution_count": 9,
   "id": "a29e43ea",
   "metadata": {},
   "outputs": [
    {
     "data": {
      "text/plain": [
       "a    1\n",
       "b    2\n",
       "dtype: int64"
      ]
     },
     "execution_count": 9,
     "metadata": {},
     "output_type": "execute_result"
    }
   ],
   "source": [
    "ser1.head(2)"
   ]
  },
  {
   "cell_type": "markdown",
   "id": "82b4eba0",
   "metadata": {},
   "source": [
    "#### We can Access values using indexing"
   ]
  },
  {
   "cell_type": "code",
   "execution_count": 10,
   "id": "4027e38b",
   "metadata": {},
   "outputs": [
    {
     "data": {
      "text/plain": [
       "1"
      ]
     },
     "execution_count": 10,
     "metadata": {},
     "output_type": "execute_result"
    }
   ],
   "source": [
    "ser1[0]"
   ]
  },
  {
   "cell_type": "code",
   "execution_count": 11,
   "id": "6b75fedd",
   "metadata": {},
   "outputs": [
    {
     "data": {
      "text/plain": [
       "2"
      ]
     },
     "execution_count": 11,
     "metadata": {},
     "output_type": "execute_result"
    }
   ],
   "source": [
    "ser1[1]"
   ]
  },
  {
   "cell_type": "code",
   "execution_count": 12,
   "id": "a3b0b513",
   "metadata": {},
   "outputs": [
    {
     "data": {
      "text/plain": [
       "a    1\n",
       "b    2\n",
       "dtype: int64"
      ]
     },
     "execution_count": 12,
     "metadata": {},
     "output_type": "execute_result"
    }
   ],
   "source": [
    "ser1[0:2]"
   ]
  },
  {
   "cell_type": "code",
   "execution_count": 13,
   "id": "dc877da0",
   "metadata": {},
   "outputs": [
    {
     "data": {
      "text/plain": [
       "d    4\n",
       "e    5\n",
       "dtype: int64"
      ]
     },
     "execution_count": 13,
     "metadata": {},
     "output_type": "execute_result"
    }
   ],
   "source": [
    "ser1[3:5]"
   ]
  },
  {
   "cell_type": "markdown",
   "id": "41efbda5",
   "metadata": {},
   "source": [
    "#### geting value by slicing the index"
   ]
  },
  {
   "cell_type": "code",
   "execution_count": 14,
   "id": "eccdd921",
   "metadata": {},
   "outputs": [
    {
     "data": {
      "text/plain": [
       "a    1\n",
       "b    2\n",
       "c    3\n",
       "d    4\n",
       "dtype: int64"
      ]
     },
     "execution_count": 14,
     "metadata": {},
     "output_type": "execute_result"
    }
   ],
   "source": [
    "ser1['a':'d']"
   ]
  },
  {
   "cell_type": "markdown",
   "id": "b79da530",
   "metadata": {},
   "source": [
    "**Generating some random data and create a Series of them**"
   ]
  },
  {
   "cell_type": "code",
   "execution_count": 15,
   "id": "2c12fa83",
   "metadata": {
    "scrolled": true
   },
   "outputs": [
    {
     "name": "stdout",
     "output_type": "stream",
     "text": [
      "Generated Data: [0.6273326532283449, 0.15946613406049026, 0.23317638919395955, 0.9543545059017049]\n"
     ]
    }
   ],
   "source": [
    "import random\n",
    "l = []\n",
    "k = 0\n",
    "while k < 4:\n",
    "    l.append(random.random())\n",
    "    k += 1\n",
    "else:\n",
    "    print(f'Generated Data: {l}')\n",
    "    "
   ]
  },
  {
   "cell_type": "code",
   "execution_count": 16,
   "id": "010ad6d1",
   "metadata": {},
   "outputs": [
    {
     "name": "stdout",
     "output_type": "stream",
     "text": [
      "Generated Series:\n",
      "a    0.627333\n",
      "b    0.159466\n",
      "c    0.233176\n",
      "d    0.954355\n",
      "dtype: float64\n"
     ]
    }
   ],
   "source": [
    "s = pd.Series(l, index = ['a','b','c','d'])\n",
    "print('Generated Series:')\n",
    "print(s)"
   ]
  },
  {
   "cell_type": "markdown",
   "id": "2d7ed50e",
   "metadata": {},
   "source": [
    "**pandas can automatically create index according to the length of our data like below**"
   ]
  },
  {
   "cell_type": "markdown",
   "id": "814854fe",
   "metadata": {},
   "source": [
    "* Any datatype can be passed as arguments to pandas series."
   ]
  },
  {
   "cell_type": "code",
   "execution_count": 17,
   "id": "5be8d790",
   "metadata": {},
   "outputs": [
    {
     "name": "stdout",
     "output_type": "stream",
     "text": [
      "0     green\n",
      "1     white\n",
      "2       red\n",
      "3    yellow\n",
      "dtype: object\n"
     ]
    }
   ],
   "source": [
    "colors = ['green','white', 'red', 'yellow']\n",
    "\n",
    "color_data = pd.Series(colors)\n",
    "print(color_data)"
   ]
  },
  {
   "cell_type": "markdown",
   "id": "ad8cbfc3",
   "metadata": {},
   "source": [
    "*In the same way, data and index can independently be defined and can be passed to pandas series.*"
   ]
  },
  {
   "cell_type": "markdown",
   "id": "fa607575",
   "metadata": {},
   "source": [
    "****In the above example, we have used the occupation list as index of our pandas series****"
   ]
  },
  {
   "cell_type": "markdown",
   "id": "88486cb5",
   "metadata": {},
   "source": [
    "#### Generating Series from Dictionaries\n",
    "The key values will be assigned as index if index are not defined."
   ]
  },
  {
   "cell_type": "code",
   "execution_count": 18,
   "id": "3cd78e33",
   "metadata": {},
   "outputs": [],
   "source": [
    "import pandas as pd"
   ]
  },
  {
   "cell_type": "code",
   "execution_count": 19,
   "id": "ba72349c",
   "metadata": {},
   "outputs": [
    {
     "name": "stdout",
     "output_type": "stream",
     "text": [
      "a     apple\n",
      "b      ball\n",
      "o    orange\n",
      "dtype: object\n"
     ]
    }
   ],
   "source": [
    "dictt = {'a': 'apple', 'b': 'ball', 'o': 'orange'}\n",
    "print(pd.Series(dictt))"
   ]
  },
  {
   "cell_type": "markdown",
   "id": "c6f8d621",
   "metadata": {},
   "source": [
    "#### ****If the keys are passed as the index?****"
   ]
  },
  {
   "cell_type": "markdown",
   "id": "a0c84675",
   "metadata": {},
   "source": [
    "****It'll still consider the keys****"
   ]
  },
  {
   "cell_type": "code",
   "execution_count": 20,
   "id": "40eb8d7a",
   "metadata": {},
   "outputs": [],
   "source": [
    "import pandas as pd"
   ]
  },
  {
   "cell_type": "code",
   "execution_count": 21,
   "id": "44e30d3e",
   "metadata": {},
   "outputs": [
    {
     "name": "stdout",
     "output_type": "stream",
     "text": [
      "a     apple\n",
      "b      ball\n",
      "o    orange\n",
      "dtype: object\n"
     ]
    }
   ],
   "source": [
    "data_ind = pd.Series(dictt, index = ['a', 'b', 'o'])\n",
    "print(data_ind)"
   ]
  },
  {
   "cell_type": "markdown",
   "id": "8e6aa9e9",
   "metadata": {},
   "source": [
    "* if the index is other than the key value it will create an index in the series with NaN data."
   ]
  },
  {
   "cell_type": "code",
   "execution_count": 22,
   "id": "fe323898",
   "metadata": {},
   "outputs": [
    {
     "data": {
      "text/plain": [
       "a     apple\n",
       "b      ball\n",
       "o    orange\n",
       "d       NaN\n",
       "dtype: object"
      ]
     },
     "execution_count": 22,
     "metadata": {},
     "output_type": "execute_result"
    }
   ],
   "source": [
    "di = pd.Series(dictt, index = ['a', 'b', 'o', 'd'])\n",
    "di"
   ]
  },
  {
   "cell_type": "markdown",
   "id": "5efa76aa",
   "metadata": {},
   "source": [
    "#### ****By changing the order of the key the corresponding value will also be changed accordingly?****"
   ]
  },
  {
   "cell_type": "code",
   "execution_count": 23,
   "id": "de9ae805",
   "metadata": {},
   "outputs": [
    {
     "name": "stdout",
     "output_type": "stream",
     "text": [
      "o    orange\n",
      "a     apple\n",
      "b      ball\n",
      "dtype: object\n"
     ]
    }
   ],
   "source": [
    "di = pd.Series(dictt, index = ['o', 'a', 'b'])\n",
    "print(di)"
   ]
  },
  {
   "cell_type": "markdown",
   "id": "07fed754",
   "metadata": {},
   "source": [
    "****If   index is greater than the len(dictionary)  , then the given index values will only be converted into pandas series****"
   ]
  },
  {
   "cell_type": "code",
   "execution_count": 24,
   "id": "63a22801",
   "metadata": {},
   "outputs": [
    {
     "name": "stdout",
     "output_type": "stream",
     "text": [
      "b     ball\n",
      "a    apple\n",
      "dtype: object\n"
     ]
    }
   ],
   "source": [
    "di = pd.Series(dictt, index = {'a', 'b'})\n",
    "print(di)"
   ]
  },
  {
   "cell_type": "markdown",
   "id": "902e6d5e",
   "metadata": {},
   "source": [
    "#### Generating Series from Scaler (int, float) will like be"
   ]
  },
  {
   "cell_type": "code",
   "execution_count": 25,
   "id": "c410096e",
   "metadata": {},
   "outputs": [
    {
     "data": {
      "text/plain": [
       "a    100\n",
       "b    100\n",
       "c    100\n",
       "d    100\n",
       "e    100\n",
       "dtype: int64"
      ]
     },
     "execution_count": 25,
     "metadata": {},
     "output_type": "execute_result"
    }
   ],
   "source": [
    "pd.Series(100, index = ['a', 'b', 'c', 'd', 'e'])"
   ]
  },
  {
   "cell_type": "code",
   "execution_count": 26,
   "id": "938042a8",
   "metadata": {},
   "outputs": [
    {
     "data": {
      "text/plain": [
       "a    10.05\n",
       "b    10.05\n",
       "c    10.05\n",
       "d    10.05\n",
       "e    10.05\n",
       "dtype: float64"
      ]
     },
     "execution_count": 26,
     "metadata": {},
     "output_type": "execute_result"
    }
   ],
   "source": [
    "pd.Series(10.05, index = ['a', 'b', 'c', 'd', 'e'])"
   ]
  },
  {
   "cell_type": "markdown",
   "id": "6ea218d7",
   "metadata": {},
   "source": [
    "****Series can also be given a name using 'name' parameter from Pandas Series****"
   ]
  },
  {
   "cell_type": "code",
   "execution_count": 27,
   "id": "a751d2b6",
   "metadata": {
    "scrolled": false
   },
   "outputs": [
    {
     "data": {
      "text/plain": [
       "a    10.05\n",
       "b    10.05\n",
       "c    10.05\n",
       "d    10.05\n",
       "e    10.05\n",
       "Name: Any name, dtype: float64"
      ]
     },
     "execution_count": 27,
     "metadata": {},
     "output_type": "execute_result"
    }
   ],
   "source": [
    "name_ser = pd.Series(10.05, index = ['a', 'b', 'c', 'd', 'e'], name = 'Any name')\n",
    "name_ser"
   ]
  },
  {
   "cell_type": "markdown",
   "id": "a5ed8223",
   "metadata": {},
   "source": [
    "****series can be renamed by using Series.rename() function****"
   ]
  },
  {
   "cell_type": "code",
   "execution_count": 28,
   "id": "fe311b73",
   "metadata": {},
   "outputs": [
    {
     "data": {
      "text/plain": [
       "a    10.05\n",
       "b    10.05\n",
       "c    10.05\n",
       "d    10.05\n",
       "e    10.05\n",
       "Name: your name, dtype: float64"
      ]
     },
     "execution_count": 28,
     "metadata": {},
     "output_type": "execute_result"
    }
   ],
   "source": [
    "name_ser.rename('your name')"
   ]
  },
  {
   "cell_type": "markdown",
   "id": "47e694d2",
   "metadata": {},
   "source": [
    "### Data Manipulation in Pandas Series"
   ]
  },
  {
   "cell_type": "markdown",
   "id": "f6756de9",
   "metadata": {},
   "source": [
    "#### adding new, replacing old and changing the order etc can be performed on pandas series"
   ]
  },
  {
   "cell_type": "markdown",
   "id": "bacdc46f",
   "metadata": {},
   "source": [
    "### ii.  Pandas DataFrame"
   ]
  },
  {
   "cell_type": "markdown",
   "id": "cf017e0c",
   "metadata": {},
   "source": [
    "****DataFrame is a 2-dimentional data structure in the form of table****\n",
    "\n",
    "* *2-dimentional: data in the form of rows, columns, (table, like excel sheet)*\n",
    "\n",
    "* *DataFrames can also handle data of all types*"
   ]
  },
  {
   "cell_type": "markdown",
   "id": "f8df1a1e",
   "metadata": {},
   "source": [
    "**It is like adding multiple pandas series.**"
   ]
  },
  {
   "cell_type": "markdown",
   "id": "f186743c",
   "metadata": {},
   "source": [
    "#### Syntax"
   ]
  },
  {
   "cell_type": "markdown",
   "id": "083826c3",
   "metadata": {},
   "source": [
    "$\\text{pd.DataFrame(data, index, columns)}$"
   ]
  },
  {
   "cell_type": "markdown",
   "id": "32d24bd8",
   "metadata": {},
   "source": [
    "Where;\n",
    "* **data** can be of any type like; int, float, complext numbers, list, tuple, dictionary, etc.\n",
    "* **index** is the  row labels\n",
    "* **column** is the column labels"
   ]
  },
  {
   "cell_type": "markdown",
   "id": "75cdedff",
   "metadata": {},
   "source": [
    "#### DataFrame has following elements"
   ]
  },
  {
   "cell_type": "markdown",
   "id": "99932ba0",
   "metadata": {},
   "source": [
    "**1. Data**\n",
    "\n",
    "**2. Rows**\n",
    "\n",
    "**3. Columns**"
   ]
  },
  {
   "cell_type": "markdown",
   "id": "d5510745",
   "metadata": {},
   "source": [
    "### Now creating a DataFrame"
   ]
  },
  {
   "cell_type": "markdown",
   "id": "778a198a",
   "metadata": {},
   "source": [
    "#### Example:"
   ]
  },
  {
   "cell_type": "code",
   "execution_count": 29,
   "id": "505e9966",
   "metadata": {},
   "outputs": [],
   "source": [
    "import pandas as pd"
   ]
  },
  {
   "cell_type": "code",
   "execution_count": 30,
   "id": "12c17035",
   "metadata": {},
   "outputs": [
    {
     "name": "stdout",
     "output_type": "stream",
     "text": [
      "[1, 2, 3, 4, 5, 6, 7, 8]\n"
     ]
    },
    {
     "data": {
      "text/html": [
       "<div>\n",
       "<style scoped>\n",
       "    .dataframe tbody tr th:only-of-type {\n",
       "        vertical-align: middle;\n",
       "    }\n",
       "\n",
       "    .dataframe tbody tr th {\n",
       "        vertical-align: top;\n",
       "    }\n",
       "\n",
       "    .dataframe thead th {\n",
       "        text-align: right;\n",
       "    }\n",
       "</style>\n",
       "<table border=\"1\" class=\"dataframe\">\n",
       "  <thead>\n",
       "    <tr style=\"text-align: right;\">\n",
       "      <th></th>\n",
       "      <th>0</th>\n",
       "    </tr>\n",
       "  </thead>\n",
       "  <tbody>\n",
       "    <tr>\n",
       "      <th>0</th>\n",
       "      <td>1</td>\n",
       "    </tr>\n",
       "    <tr>\n",
       "      <th>1</th>\n",
       "      <td>2</td>\n",
       "    </tr>\n",
       "    <tr>\n",
       "      <th>2</th>\n",
       "      <td>3</td>\n",
       "    </tr>\n",
       "    <tr>\n",
       "      <th>3</th>\n",
       "      <td>4</td>\n",
       "    </tr>\n",
       "    <tr>\n",
       "      <th>4</th>\n",
       "      <td>5</td>\n",
       "    </tr>\n",
       "    <tr>\n",
       "      <th>5</th>\n",
       "      <td>6</td>\n",
       "    </tr>\n",
       "    <tr>\n",
       "      <th>6</th>\n",
       "      <td>7</td>\n",
       "    </tr>\n",
       "    <tr>\n",
       "      <th>7</th>\n",
       "      <td>8</td>\n",
       "    </tr>\n",
       "  </tbody>\n",
       "</table>\n",
       "</div>"
      ],
      "text/plain": [
       "   0\n",
       "0  1\n",
       "1  2\n",
       "2  3\n",
       "3  4\n",
       "4  5\n",
       "5  6\n",
       "6  7\n",
       "7  8"
      ]
     },
     "execution_count": 30,
     "metadata": {},
     "output_type": "execute_result"
    }
   ],
   "source": [
    "list1 = [1,2,3,4,5,6,7,8]\n",
    "print(list1)\n",
    "list_df = pd.DataFrame(list1)\n",
    "list_df"
   ]
  },
  {
   "cell_type": "markdown",
   "id": "4fa00ff2",
   "metadata": {},
   "source": [
    "#### Example 2:"
   ]
  },
  {
   "cell_type": "code",
   "execution_count": 31,
   "id": "b5d3cf2b",
   "metadata": {},
   "outputs": [
    {
     "data": {
      "text/html": [
       "<div>\n",
       "<style scoped>\n",
       "    .dataframe tbody tr th:only-of-type {\n",
       "        vertical-align: middle;\n",
       "    }\n",
       "\n",
       "    .dataframe tbody tr th {\n",
       "        vertical-align: top;\n",
       "    }\n",
       "\n",
       "    .dataframe thead th {\n",
       "        text-align: right;\n",
       "    }\n",
       "</style>\n",
       "<table border=\"1\" class=\"dataframe\">\n",
       "  <thead>\n",
       "    <tr style=\"text-align: right;\">\n",
       "      <th></th>\n",
       "      <th>0</th>\n",
       "    </tr>\n",
       "  </thead>\n",
       "  <tbody>\n",
       "    <tr>\n",
       "      <th>0</th>\n",
       "      <td>Country</td>\n",
       "    </tr>\n",
       "    <tr>\n",
       "      <th>1</th>\n",
       "      <td>Pakistan</td>\n",
       "    </tr>\n",
       "    <tr>\n",
       "      <th>2</th>\n",
       "      <td>City</td>\n",
       "    </tr>\n",
       "    <tr>\n",
       "      <th>3</th>\n",
       "      <td>Chitral</td>\n",
       "    </tr>\n",
       "    <tr>\n",
       "      <th>4</th>\n",
       "      <td>Attractive</td>\n",
       "    </tr>\n",
       "  </tbody>\n",
       "</table>\n",
       "</div>"
      ],
      "text/plain": [
       "            0\n",
       "0     Country\n",
       "1    Pakistan\n",
       "2        City\n",
       "3     Chitral\n",
       "4  Attractive"
      ]
     },
     "execution_count": 31,
     "metadata": {},
     "output_type": "execute_result"
    }
   ],
   "source": [
    "strg= ['Country', 'Pakistan', 'City', 'Chitral', 'Attractive']\n",
    "strg_df = pd.DataFrame(strg)\n",
    "strg_df"
   ]
  },
  {
   "cell_type": "markdown",
   "id": "59cf9731",
   "metadata": {},
   "source": [
    "**column name can be added to the DataFrame****"
   ]
  },
  {
   "cell_type": "code",
   "execution_count": 32,
   "id": "c7abc150",
   "metadata": {
    "scrolled": true
   },
   "outputs": [
    {
     "data": {
      "text/html": [
       "<div>\n",
       "<style scoped>\n",
       "    .dataframe tbody tr th:only-of-type {\n",
       "        vertical-align: middle;\n",
       "    }\n",
       "\n",
       "    .dataframe tbody tr th {\n",
       "        vertical-align: top;\n",
       "    }\n",
       "\n",
       "    .dataframe thead th {\n",
       "        text-align: right;\n",
       "    }\n",
       "</style>\n",
       "<table border=\"1\" class=\"dataframe\">\n",
       "  <thead>\n",
       "    <tr style=\"text-align: right;\">\n",
       "      <th></th>\n",
       "      <th>Location</th>\n",
       "    </tr>\n",
       "  </thead>\n",
       "  <tbody>\n",
       "    <tr>\n",
       "      <th>0</th>\n",
       "      <td>Country</td>\n",
       "    </tr>\n",
       "    <tr>\n",
       "      <th>1</th>\n",
       "      <td>Pakistan</td>\n",
       "    </tr>\n",
       "    <tr>\n",
       "      <th>2</th>\n",
       "      <td>City</td>\n",
       "    </tr>\n",
       "    <tr>\n",
       "      <th>3</th>\n",
       "      <td>Chitral</td>\n",
       "    </tr>\n",
       "    <tr>\n",
       "      <th>4</th>\n",
       "      <td>Attractive</td>\n",
       "    </tr>\n",
       "  </tbody>\n",
       "</table>\n",
       "</div>"
      ],
      "text/plain": [
       "     Location\n",
       "0     Country\n",
       "1    Pakistan\n",
       "2        City\n",
       "3     Chitral\n",
       "4  Attractive"
      ]
     },
     "execution_count": 32,
     "metadata": {},
     "output_type": "execute_result"
    }
   ],
   "source": [
    "strg_df = pd.DataFrame(strg, columns = ['Location'])\n",
    "strg_df"
   ]
  },
  {
   "cell_type": "markdown",
   "id": "d924efae",
   "metadata": {},
   "source": [
    "## $\\color{blue}{\\text{Data Manipulation in Pandas (DataFrame)}}$"
   ]
  },
  {
   "cell_type": "markdown",
   "id": "165568b8",
   "metadata": {},
   "source": [
    "**Column Addition, Deletion, and Selection**"
   ]
  },
  {
   "cell_type": "markdown",
   "id": "f8cdcf16",
   "metadata": {},
   "source": [
    "##### Adding a Column in DataFrame"
   ]
  },
  {
   "cell_type": "markdown",
   "id": "f71eb065",
   "metadata": {},
   "source": [
    "****What if we want to add another column in a DataFrame?****"
   ]
  },
  {
   "cell_type": "code",
   "execution_count": 33,
   "id": "112ab8e3",
   "metadata": {},
   "outputs": [
    {
     "data": {
      "text/html": [
       "<div>\n",
       "<style scoped>\n",
       "    .dataframe tbody tr th:only-of-type {\n",
       "        vertical-align: middle;\n",
       "    }\n",
       "\n",
       "    .dataframe tbody tr th {\n",
       "        vertical-align: top;\n",
       "    }\n",
       "\n",
       "    .dataframe thead th {\n",
       "        text-align: right;\n",
       "    }\n",
       "</style>\n",
       "<table border=\"1\" class=\"dataframe\">\n",
       "  <thead>\n",
       "    <tr style=\"text-align: right;\">\n",
       "      <th></th>\n",
       "      <th>Sports</th>\n",
       "    </tr>\n",
       "  </thead>\n",
       "  <tbody>\n",
       "    <tr>\n",
       "      <th>0</th>\n",
       "      <td>Cricket</td>\n",
       "    </tr>\n",
       "    <tr>\n",
       "      <th>1</th>\n",
       "      <td>Soccer</td>\n",
       "    </tr>\n",
       "    <tr>\n",
       "      <th>2</th>\n",
       "      <td>Tennis</td>\n",
       "    </tr>\n",
       "    <tr>\n",
       "      <th>3</th>\n",
       "      <td>Hockey</td>\n",
       "    </tr>\n",
       "    <tr>\n",
       "      <th>4</th>\n",
       "      <td>Volleyball</td>\n",
       "    </tr>\n",
       "    <tr>\n",
       "      <th>5</th>\n",
       "      <td>Table tennis</td>\n",
       "    </tr>\n",
       "    <tr>\n",
       "      <th>6</th>\n",
       "      <td>Basketball</td>\n",
       "    </tr>\n",
       "    <tr>\n",
       "      <th>7</th>\n",
       "      <td>Baseball</td>\n",
       "    </tr>\n",
       "  </tbody>\n",
       "</table>\n",
       "</div>"
      ],
      "text/plain": [
       "         Sports\n",
       "0       Cricket\n",
       "1        Soccer\n",
       "2        Tennis\n",
       "3        Hockey\n",
       "4    Volleyball\n",
       "5  Table tennis\n",
       "6    Basketball\n",
       "7      Baseball"
      ]
     },
     "execution_count": 33,
     "metadata": {},
     "output_type": "execute_result"
    }
   ],
   "source": [
    "lisst = ['Cricket', 'Soccer', 'Tennis', 'Hockey','Volleyball', 'Table tennis', 'Basketball', 'Baseball']\n",
    "strg_df = pd.DataFrame(lisst, columns = ['Sports'])\n",
    "strg_df"
   ]
  },
  {
   "cell_type": "markdown",
   "id": "15198321",
   "metadata": {},
   "source": [
    "****Adding a column in a dataframe is the same as adding another key/value pair in dictionary****"
   ]
  },
  {
   "cell_type": "code",
   "execution_count": 34,
   "id": "97033b78",
   "metadata": {},
   "outputs": [
    {
     "name": "stdout",
     "output_type": "stream",
     "text": [
      "After Addition\n"
     ]
    },
    {
     "data": {
      "text/html": [
       "<div>\n",
       "<style scoped>\n",
       "    .dataframe tbody tr th:only-of-type {\n",
       "        vertical-align: middle;\n",
       "    }\n",
       "\n",
       "    .dataframe tbody tr th {\n",
       "        vertical-align: top;\n",
       "    }\n",
       "\n",
       "    .dataframe thead th {\n",
       "        text-align: right;\n",
       "    }\n",
       "</style>\n",
       "<table border=\"1\" class=\"dataframe\">\n",
       "  <thead>\n",
       "    <tr style=\"text-align: right;\">\n",
       "      <th></th>\n",
       "      <th>Sports</th>\n",
       "      <th>NoPl</th>\n",
       "    </tr>\n",
       "  </thead>\n",
       "  <tbody>\n",
       "    <tr>\n",
       "      <th>0</th>\n",
       "      <td>Cricket</td>\n",
       "      <td>11</td>\n",
       "    </tr>\n",
       "    <tr>\n",
       "      <th>1</th>\n",
       "      <td>Soccer</td>\n",
       "      <td>11</td>\n",
       "    </tr>\n",
       "    <tr>\n",
       "      <th>2</th>\n",
       "      <td>Tennis</td>\n",
       "      <td>02</td>\n",
       "    </tr>\n",
       "    <tr>\n",
       "      <th>3</th>\n",
       "      <td>Hockey</td>\n",
       "      <td>11</td>\n",
       "    </tr>\n",
       "    <tr>\n",
       "      <th>4</th>\n",
       "      <td>Volleyball</td>\n",
       "      <td>06</td>\n",
       "    </tr>\n",
       "    <tr>\n",
       "      <th>5</th>\n",
       "      <td>Table tennis</td>\n",
       "      <td>02</td>\n",
       "    </tr>\n",
       "    <tr>\n",
       "      <th>6</th>\n",
       "      <td>Basketball</td>\n",
       "      <td>05</td>\n",
       "    </tr>\n",
       "    <tr>\n",
       "      <th>7</th>\n",
       "      <td>Baseball</td>\n",
       "      <td>09</td>\n",
       "    </tr>\n",
       "  </tbody>\n",
       "</table>\n",
       "</div>"
      ],
      "text/plain": [
       "         Sports NoPl\n",
       "0       Cricket   11\n",
       "1        Soccer   11\n",
       "2        Tennis   02\n",
       "3        Hockey   11\n",
       "4    Volleyball   06\n",
       "5  Table tennis   02\n",
       "6    Basketball   05\n",
       "7      Baseball   09"
      ]
     },
     "execution_count": 34,
     "metadata": {},
     "output_type": "execute_result"
    }
   ],
   "source": [
    "strg_df['NoPl'] = ['11', '11', '02', '11','06','02','05','09']\n",
    "print('After Addition')\n",
    "strg_df"
   ]
  },
  {
   "cell_type": "markdown",
   "id": "9c1a7b0e",
   "metadata": {},
   "source": [
    "****We can also add column using insert() function****"
   ]
  },
  {
   "cell_type": "code",
   "execution_count": 35,
   "id": "40faf728",
   "metadata": {},
   "outputs": [
    {
     "data": {
      "text/html": [
       "<div>\n",
       "<style scoped>\n",
       "    .dataframe tbody tr th:only-of-type {\n",
       "        vertical-align: middle;\n",
       "    }\n",
       "\n",
       "    .dataframe tbody tr th {\n",
       "        vertical-align: top;\n",
       "    }\n",
       "\n",
       "    .dataframe thead th {\n",
       "        text-align: right;\n",
       "    }\n",
       "</style>\n",
       "<table border=\"1\" class=\"dataframe\">\n",
       "  <thead>\n",
       "    <tr style=\"text-align: right;\">\n",
       "      <th></th>\n",
       "      <th>Sports</th>\n",
       "      <th>NoPl</th>\n",
       "      <th>National Game of</th>\n",
       "    </tr>\n",
       "  </thead>\n",
       "  <tbody>\n",
       "    <tr>\n",
       "      <th>0</th>\n",
       "      <td>Cricket</td>\n",
       "      <td>11</td>\n",
       "      <td>England</td>\n",
       "    </tr>\n",
       "    <tr>\n",
       "      <th>1</th>\n",
       "      <td>Soccer</td>\n",
       "      <td>11</td>\n",
       "      <td>Italy</td>\n",
       "    </tr>\n",
       "    <tr>\n",
       "      <th>2</th>\n",
       "      <td>Tennis</td>\n",
       "      <td>02</td>\n",
       "      <td>Venezuela</td>\n",
       "    </tr>\n",
       "    <tr>\n",
       "      <th>3</th>\n",
       "      <td>Hockey</td>\n",
       "      <td>11</td>\n",
       "      <td>Pakistan</td>\n",
       "    </tr>\n",
       "    <tr>\n",
       "      <th>4</th>\n",
       "      <td>Volleyball</td>\n",
       "      <td>06</td>\n",
       "      <td>Nepal</td>\n",
       "    </tr>\n",
       "    <tr>\n",
       "      <th>5</th>\n",
       "      <td>Table tennis</td>\n",
       "      <td>02</td>\n",
       "      <td>China</td>\n",
       "    </tr>\n",
       "    <tr>\n",
       "      <th>6</th>\n",
       "      <td>Basketball</td>\n",
       "      <td>05</td>\n",
       "      <td>Serbia</td>\n",
       "    </tr>\n",
       "    <tr>\n",
       "      <th>7</th>\n",
       "      <td>Baseball</td>\n",
       "      <td>09</td>\n",
       "      <td>USA</td>\n",
       "    </tr>\n",
       "  </tbody>\n",
       "</table>\n",
       "</div>"
      ],
      "text/plain": [
       "         Sports NoPl National Game of\n",
       "0       Cricket   11          England\n",
       "1        Soccer   11            Italy\n",
       "2        Tennis   02        Venezuela\n",
       "3        Hockey   11         Pakistan\n",
       "4    Volleyball   06            Nepal\n",
       "5  Table tennis   02            China\n",
       "6    Basketball   05           Serbia\n",
       "7      Baseball   09              USA"
      ]
     },
     "execution_count": 35,
     "metadata": {},
     "output_type": "execute_result"
    }
   ],
   "source": [
    "strg_df.insert(loc=2, column = 'National Game of',value = ['England','Italy','Venezuela','Pakistan','Nepal',\n",
    "                                                           'China','Serbia','USA'])\n",
    "strg_df"
   ]
  },
  {
   "cell_type": "markdown",
   "id": "6c1ded19",
   "metadata": {},
   "source": [
    "* **loc:**  position, where new column to be inserted.\n",
    "\n",
    "* **column:**  *is the name of the new column*\n",
    "\n",
    "* **values:** *are the values that will be inserted in the new column*"
   ]
  },
  {
   "cell_type": "markdown",
   "id": "46b640c9",
   "metadata": {},
   "source": [
    "#### In the same way, column can be deleted from the DataFrame"
   ]
  },
  {
   "cell_type": "markdown",
   "id": "1103f860",
   "metadata": {},
   "source": [
    "**del** *keyword is used to delete a colums from a DataFrame. which is simple and easiest way*"
   ]
  },
  {
   "cell_type": "code",
   "execution_count": 36,
   "id": "862f0219",
   "metadata": {
    "scrolled": true
   },
   "outputs": [
    {
     "name": "stdout",
     "output_type": "stream",
     "text": [
      "Before deleting\n"
     ]
    },
    {
     "data": {
      "text/html": [
       "<div>\n",
       "<style scoped>\n",
       "    .dataframe tbody tr th:only-of-type {\n",
       "        vertical-align: middle;\n",
       "    }\n",
       "\n",
       "    .dataframe tbody tr th {\n",
       "        vertical-align: top;\n",
       "    }\n",
       "\n",
       "    .dataframe thead th {\n",
       "        text-align: right;\n",
       "    }\n",
       "</style>\n",
       "<table border=\"1\" class=\"dataframe\">\n",
       "  <thead>\n",
       "    <tr style=\"text-align: right;\">\n",
       "      <th></th>\n",
       "      <th>Sports</th>\n",
       "      <th>NoPl</th>\n",
       "      <th>National Game of</th>\n",
       "    </tr>\n",
       "  </thead>\n",
       "  <tbody>\n",
       "    <tr>\n",
       "      <th>0</th>\n",
       "      <td>Cricket</td>\n",
       "      <td>11</td>\n",
       "      <td>England</td>\n",
       "    </tr>\n",
       "    <tr>\n",
       "      <th>1</th>\n",
       "      <td>Soccer</td>\n",
       "      <td>11</td>\n",
       "      <td>Italy</td>\n",
       "    </tr>\n",
       "    <tr>\n",
       "      <th>2</th>\n",
       "      <td>Tennis</td>\n",
       "      <td>02</td>\n",
       "      <td>Venezuela</td>\n",
       "    </tr>\n",
       "    <tr>\n",
       "      <th>3</th>\n",
       "      <td>Hockey</td>\n",
       "      <td>11</td>\n",
       "      <td>Pakistan</td>\n",
       "    </tr>\n",
       "    <tr>\n",
       "      <th>4</th>\n",
       "      <td>Volleyball</td>\n",
       "      <td>06</td>\n",
       "      <td>Nepal</td>\n",
       "    </tr>\n",
       "    <tr>\n",
       "      <th>5</th>\n",
       "      <td>Table tennis</td>\n",
       "      <td>02</td>\n",
       "      <td>China</td>\n",
       "    </tr>\n",
       "    <tr>\n",
       "      <th>6</th>\n",
       "      <td>Basketball</td>\n",
       "      <td>05</td>\n",
       "      <td>Serbia</td>\n",
       "    </tr>\n",
       "    <tr>\n",
       "      <th>7</th>\n",
       "      <td>Baseball</td>\n",
       "      <td>09</td>\n",
       "      <td>USA</td>\n",
       "    </tr>\n",
       "  </tbody>\n",
       "</table>\n",
       "</div>"
      ],
      "text/plain": [
       "         Sports NoPl National Game of\n",
       "0       Cricket   11          England\n",
       "1        Soccer   11            Italy\n",
       "2        Tennis   02        Venezuela\n",
       "3        Hockey   11         Pakistan\n",
       "4    Volleyball   06            Nepal\n",
       "5  Table tennis   02            China\n",
       "6    Basketball   05           Serbia\n",
       "7      Baseball   09              USA"
      ]
     },
     "execution_count": 36,
     "metadata": {},
     "output_type": "execute_result"
    }
   ],
   "source": [
    "print('Before deleting')\n",
    "strg_df"
   ]
  },
  {
   "cell_type": "code",
   "execution_count": 37,
   "id": "be4d3999",
   "metadata": {},
   "outputs": [
    {
     "data": {
      "text/html": [
       "<div>\n",
       "<style scoped>\n",
       "    .dataframe tbody tr th:only-of-type {\n",
       "        vertical-align: middle;\n",
       "    }\n",
       "\n",
       "    .dataframe tbody tr th {\n",
       "        vertical-align: top;\n",
       "    }\n",
       "\n",
       "    .dataframe thead th {\n",
       "        text-align: right;\n",
       "    }\n",
       "</style>\n",
       "<table border=\"1\" class=\"dataframe\">\n",
       "  <thead>\n",
       "    <tr style=\"text-align: right;\">\n",
       "      <th></th>\n",
       "      <th>Sports</th>\n",
       "      <th>NoPl</th>\n",
       "    </tr>\n",
       "  </thead>\n",
       "  <tbody>\n",
       "    <tr>\n",
       "      <th>0</th>\n",
       "      <td>Cricket</td>\n",
       "      <td>11</td>\n",
       "    </tr>\n",
       "    <tr>\n",
       "      <th>1</th>\n",
       "      <td>Soccer</td>\n",
       "      <td>11</td>\n",
       "    </tr>\n",
       "    <tr>\n",
       "      <th>2</th>\n",
       "      <td>Tennis</td>\n",
       "      <td>02</td>\n",
       "    </tr>\n",
       "    <tr>\n",
       "      <th>3</th>\n",
       "      <td>Hockey</td>\n",
       "      <td>11</td>\n",
       "    </tr>\n",
       "    <tr>\n",
       "      <th>4</th>\n",
       "      <td>Volleyball</td>\n",
       "      <td>06</td>\n",
       "    </tr>\n",
       "    <tr>\n",
       "      <th>5</th>\n",
       "      <td>Table tennis</td>\n",
       "      <td>02</td>\n",
       "    </tr>\n",
       "    <tr>\n",
       "      <th>6</th>\n",
       "      <td>Basketball</td>\n",
       "      <td>05</td>\n",
       "    </tr>\n",
       "    <tr>\n",
       "      <th>7</th>\n",
       "      <td>Baseball</td>\n",
       "      <td>09</td>\n",
       "    </tr>\n",
       "  </tbody>\n",
       "</table>\n",
       "</div>"
      ],
      "text/plain": [
       "         Sports NoPl\n",
       "0       Cricket   11\n",
       "1        Soccer   11\n",
       "2        Tennis   02\n",
       "3        Hockey   11\n",
       "4    Volleyball   06\n",
       "5  Table tennis   02\n",
       "6    Basketball   05\n",
       "7      Baseball   09"
      ]
     },
     "execution_count": 37,
     "metadata": {},
     "output_type": "execute_result"
    }
   ],
   "source": [
    "del strg_df['National Game of']\n",
    "strg_df"
   ]
  },
  {
   "cell_type": "markdown",
   "id": "ce3aa56a",
   "metadata": {},
   "source": [
    "$\\text{Other Methods of removing column from a DataFrame is pop() function and drop() function}$"
   ]
  },
  {
   "cell_type": "markdown",
   "id": "08e1364b",
   "metadata": {},
   "source": [
    "#### Selecting a Column from a DataFrame"
   ]
  },
  {
   "cell_type": "code",
   "execution_count": 38,
   "id": "febf4012",
   "metadata": {},
   "outputs": [
    {
     "data": {
      "text/plain": [
       "[(1, 2, 2), (3, 4, 3), (5, 6, 5), (7, 8, 7), (9, 10, 11)]"
      ]
     },
     "execution_count": 38,
     "metadata": {},
     "output_type": "execute_result"
    }
   ],
   "source": [
    "O = [1,3,5,7,9]\n",
    "E = [2,4,6,8,10]\n",
    "P = [2,3,5,7,11]\n",
    "merger = list(zip(O,E,P))\n",
    "merger\n"
   ]
  },
  {
   "cell_type": "code",
   "execution_count": 39,
   "id": "d1a730be",
   "metadata": {
    "scrolled": true
   },
   "outputs": [
    {
     "data": {
      "text/html": [
       "<div>\n",
       "<style scoped>\n",
       "    .dataframe tbody tr th:only-of-type {\n",
       "        vertical-align: middle;\n",
       "    }\n",
       "\n",
       "    .dataframe tbody tr th {\n",
       "        vertical-align: top;\n",
       "    }\n",
       "\n",
       "    .dataframe thead th {\n",
       "        text-align: right;\n",
       "    }\n",
       "</style>\n",
       "<table border=\"1\" class=\"dataframe\">\n",
       "  <thead>\n",
       "    <tr style=\"text-align: right;\">\n",
       "      <th></th>\n",
       "      <th>Odd</th>\n",
       "      <th>Even</th>\n",
       "      <th>Prime</th>\n",
       "    </tr>\n",
       "  </thead>\n",
       "  <tbody>\n",
       "    <tr>\n",
       "      <th>1</th>\n",
       "      <td>1</td>\n",
       "      <td>2</td>\n",
       "      <td>2</td>\n",
       "    </tr>\n",
       "    <tr>\n",
       "      <th>2</th>\n",
       "      <td>3</td>\n",
       "      <td>4</td>\n",
       "      <td>3</td>\n",
       "    </tr>\n",
       "    <tr>\n",
       "      <th>3</th>\n",
       "      <td>5</td>\n",
       "      <td>6</td>\n",
       "      <td>5</td>\n",
       "    </tr>\n",
       "    <tr>\n",
       "      <th>4</th>\n",
       "      <td>7</td>\n",
       "      <td>8</td>\n",
       "      <td>7</td>\n",
       "    </tr>\n",
       "    <tr>\n",
       "      <th>5</th>\n",
       "      <td>9</td>\n",
       "      <td>10</td>\n",
       "      <td>11</td>\n",
       "    </tr>\n",
       "  </tbody>\n",
       "</table>\n",
       "</div>"
      ],
      "text/plain": [
       "   Odd  Even  Prime\n",
       "1    1     2      2\n",
       "2    3     4      3\n",
       "3    5     6      5\n",
       "4    7     8      7\n",
       "5    9    10     11"
      ]
     },
     "execution_count": 39,
     "metadata": {},
     "output_type": "execute_result"
    }
   ],
   "source": [
    "merg_df = pd.DataFrame(merger, index = [1,2,3,4,5], columns = ['Odd', 'Even', 'Prime'])\n",
    "merg_df"
   ]
  },
  {
   "cell_type": "markdown",
   "id": "831e8f34",
   "metadata": {},
   "source": [
    "**Specified column can be selected with its name**"
   ]
  },
  {
   "cell_type": "code",
   "execution_count": 40,
   "id": "a7496b27",
   "metadata": {},
   "outputs": [
    {
     "data": {
      "text/plain": [
       "1    1\n",
       "2    3\n",
       "3    5\n",
       "4    7\n",
       "5    9\n",
       "Name: Odd, dtype: int64"
      ]
     },
     "execution_count": 40,
     "metadata": {},
     "output_type": "execute_result"
    }
   ],
   "source": [
    "merg_df['Odd']"
   ]
  },
  {
   "cell_type": "code",
   "execution_count": 41,
   "id": "77c7e7aa",
   "metadata": {},
   "outputs": [
    {
     "data": {
      "text/plain": [
       "1     2\n",
       "2     4\n",
       "3     6\n",
       "4     8\n",
       "5    10\n",
       "Name: Even, dtype: int64"
      ]
     },
     "execution_count": 41,
     "metadata": {},
     "output_type": "execute_result"
    }
   ],
   "source": [
    "merg_df['Even']"
   ]
  },
  {
   "cell_type": "code",
   "execution_count": 42,
   "id": "9465e58d",
   "metadata": {},
   "outputs": [
    {
     "data": {
      "text/plain": [
       "1     2\n",
       "2     3\n",
       "3     5\n",
       "4     7\n",
       "5    11\n",
       "Name: Prime, dtype: int64"
      ]
     },
     "execution_count": 42,
     "metadata": {},
     "output_type": "execute_result"
    }
   ],
   "source": [
    "merg_df['Prime']"
   ]
  },
  {
   "cell_type": "markdown",
   "id": "ae77dba0",
   "metadata": {},
   "source": [
    "### Another way of selecting columns"
   ]
  },
  {
   "cell_type": "code",
   "execution_count": 43,
   "id": "04dd073f",
   "metadata": {},
   "outputs": [
    {
     "data": {
      "text/plain": [
       "1    1\n",
       "2    3\n",
       "3    5\n",
       "4    7\n",
       "5    9\n",
       "Name: Odd, dtype: int64"
      ]
     },
     "execution_count": 43,
     "metadata": {},
     "output_type": "execute_result"
    }
   ],
   "source": [
    "merg_df.Odd"
   ]
  },
  {
   "cell_type": "code",
   "execution_count": 44,
   "id": "a5369bea",
   "metadata": {},
   "outputs": [
    {
     "data": {
      "text/plain": [
       "1     2\n",
       "2     4\n",
       "3     6\n",
       "4     8\n",
       "5    10\n",
       "Name: Even, dtype: int64"
      ]
     },
     "execution_count": 44,
     "metadata": {},
     "output_type": "execute_result"
    }
   ],
   "source": [
    "merg_df.Even"
   ]
  },
  {
   "cell_type": "code",
   "execution_count": 45,
   "id": "1692a42e",
   "metadata": {},
   "outputs": [
    {
     "data": {
      "text/html": [
       "<div>\n",
       "<style scoped>\n",
       "    .dataframe tbody tr th:only-of-type {\n",
       "        vertical-align: middle;\n",
       "    }\n",
       "\n",
       "    .dataframe tbody tr th {\n",
       "        vertical-align: top;\n",
       "    }\n",
       "\n",
       "    .dataframe thead th {\n",
       "        text-align: right;\n",
       "    }\n",
       "</style>\n",
       "<table border=\"1\" class=\"dataframe\">\n",
       "  <thead>\n",
       "    <tr style=\"text-align: right;\">\n",
       "      <th></th>\n",
       "      <th>Odd</th>\n",
       "      <th>Even</th>\n",
       "      <th>Prime</th>\n",
       "    </tr>\n",
       "  </thead>\n",
       "  <tbody>\n",
       "    <tr>\n",
       "      <th>1</th>\n",
       "      <td>1</td>\n",
       "      <td>2</td>\n",
       "      <td>2</td>\n",
       "    </tr>\n",
       "    <tr>\n",
       "      <th>2</th>\n",
       "      <td>3</td>\n",
       "      <td>4</td>\n",
       "      <td>3</td>\n",
       "    </tr>\n",
       "    <tr>\n",
       "      <th>3</th>\n",
       "      <td>5</td>\n",
       "      <td>6</td>\n",
       "      <td>5</td>\n",
       "    </tr>\n",
       "    <tr>\n",
       "      <th>4</th>\n",
       "      <td>7</td>\n",
       "      <td>8</td>\n",
       "      <td>7</td>\n",
       "    </tr>\n",
       "    <tr>\n",
       "      <th>5</th>\n",
       "      <td>9</td>\n",
       "      <td>10</td>\n",
       "      <td>11</td>\n",
       "    </tr>\n",
       "  </tbody>\n",
       "</table>\n",
       "</div>"
      ],
      "text/plain": [
       "   Odd  Even  Prime\n",
       "1    1     2      2\n",
       "2    3     4      3\n",
       "3    5     6      5\n",
       "4    7     8      7\n",
       "5    9    10     11"
      ]
     },
     "execution_count": 45,
     "metadata": {},
     "output_type": "execute_result"
    }
   ],
   "source": [
    "merg_df"
   ]
  },
  {
   "cell_type": "markdown",
   "id": "05dd0e4a",
   "metadata": {},
   "source": [
    "****By making a function we can swap the columns****"
   ]
  },
  {
   "cell_type": "code",
   "execution_count": 46,
   "id": "8533ea24",
   "metadata": {},
   "outputs": [],
   "source": [
    "def swap_columns(df, col1, col2):\n",
    "    cols = list(df.columns)\n",
    "    a, b = cols.index(col1), cols.index(col2)\n",
    "    cols[b], cols[a] = cols[a], cols[b]\n",
    "    df = df[cols]\n",
    "    return df"
   ]
  },
  {
   "cell_type": "markdown",
   "id": "b513070a",
   "metadata": {},
   "source": [
    "****Swapping column 'Even' with column 'Prime'****"
   ]
  },
  {
   "cell_type": "code",
   "execution_count": 47,
   "id": "f59df4fd",
   "metadata": {},
   "outputs": [
    {
     "data": {
      "text/html": [
       "<div>\n",
       "<style scoped>\n",
       "    .dataframe tbody tr th:only-of-type {\n",
       "        vertical-align: middle;\n",
       "    }\n",
       "\n",
       "    .dataframe tbody tr th {\n",
       "        vertical-align: top;\n",
       "    }\n",
       "\n",
       "    .dataframe thead th {\n",
       "        text-align: right;\n",
       "    }\n",
       "</style>\n",
       "<table border=\"1\" class=\"dataframe\">\n",
       "  <thead>\n",
       "    <tr style=\"text-align: right;\">\n",
       "      <th></th>\n",
       "      <th>Odd</th>\n",
       "      <th>Prime</th>\n",
       "      <th>Even</th>\n",
       "    </tr>\n",
       "  </thead>\n",
       "  <tbody>\n",
       "    <tr>\n",
       "      <th>1</th>\n",
       "      <td>1</td>\n",
       "      <td>2</td>\n",
       "      <td>2</td>\n",
       "    </tr>\n",
       "    <tr>\n",
       "      <th>2</th>\n",
       "      <td>3</td>\n",
       "      <td>3</td>\n",
       "      <td>4</td>\n",
       "    </tr>\n",
       "    <tr>\n",
       "      <th>3</th>\n",
       "      <td>5</td>\n",
       "      <td>5</td>\n",
       "      <td>6</td>\n",
       "    </tr>\n",
       "    <tr>\n",
       "      <th>4</th>\n",
       "      <td>7</td>\n",
       "      <td>7</td>\n",
       "      <td>8</td>\n",
       "    </tr>\n",
       "    <tr>\n",
       "      <th>5</th>\n",
       "      <td>9</td>\n",
       "      <td>11</td>\n",
       "      <td>10</td>\n",
       "    </tr>\n",
       "  </tbody>\n",
       "</table>\n",
       "</div>"
      ],
      "text/plain": [
       "   Odd  Prime  Even\n",
       "1    1      2     2\n",
       "2    3      3     4\n",
       "3    5      5     6\n",
       "4    7      7     8\n",
       "5    9     11    10"
      ]
     },
     "execution_count": 47,
     "metadata": {},
     "output_type": "execute_result"
    }
   ],
   "source": [
    "#swap_columns(mer_df,'Odd','Prime')\n",
    "swap_columns(merg_df,'Even','Prime')\n"
   ]
  },
  {
   "cell_type": "markdown",
   "id": "859c2d19",
   "metadata": {},
   "source": [
    "#### Further Operations"
   ]
  },
  {
   "cell_type": "code",
   "execution_count": 48,
   "id": "d60470e0",
   "metadata": {},
   "outputs": [
    {
     "data": {
      "text/plain": [
       "Index(['Odd', 'Even'], dtype='object')"
      ]
     },
     "execution_count": 48,
     "metadata": {},
     "output_type": "execute_result"
    }
   ],
   "source": [
    "merg_df.columns[0:2]"
   ]
  },
  {
   "cell_type": "code",
   "execution_count": 49,
   "id": "85de6998",
   "metadata": {},
   "outputs": [
    {
     "data": {
      "text/html": [
       "<div>\n",
       "<style scoped>\n",
       "    .dataframe tbody tr th:only-of-type {\n",
       "        vertical-align: middle;\n",
       "    }\n",
       "\n",
       "    .dataframe tbody tr th {\n",
       "        vertical-align: top;\n",
       "    }\n",
       "\n",
       "    .dataframe thead th {\n",
       "        text-align: right;\n",
       "    }\n",
       "</style>\n",
       "<table border=\"1\" class=\"dataframe\">\n",
       "  <thead>\n",
       "    <tr style=\"text-align: right;\">\n",
       "      <th></th>\n",
       "      <th>Even</th>\n",
       "      <th>Prime</th>\n",
       "    </tr>\n",
       "  </thead>\n",
       "  <tbody>\n",
       "    <tr>\n",
       "      <th>1</th>\n",
       "      <td>2</td>\n",
       "      <td>2</td>\n",
       "    </tr>\n",
       "    <tr>\n",
       "      <th>2</th>\n",
       "      <td>4</td>\n",
       "      <td>3</td>\n",
       "    </tr>\n",
       "    <tr>\n",
       "      <th>3</th>\n",
       "      <td>6</td>\n",
       "      <td>5</td>\n",
       "    </tr>\n",
       "    <tr>\n",
       "      <th>4</th>\n",
       "      <td>8</td>\n",
       "      <td>7</td>\n",
       "    </tr>\n",
       "    <tr>\n",
       "      <th>5</th>\n",
       "      <td>10</td>\n",
       "      <td>11</td>\n",
       "    </tr>\n",
       "  </tbody>\n",
       "</table>\n",
       "</div>"
      ],
      "text/plain": [
       "   Even  Prime\n",
       "1     2      2\n",
       "2     4      3\n",
       "3     6      5\n",
       "4     8      7\n",
       "5    10     11"
      ]
     },
     "execution_count": 49,
     "metadata": {},
     "output_type": "execute_result"
    }
   ],
   "source": [
    "merg_df[merg_df.columns[1:]]"
   ]
  },
  {
   "cell_type": "code",
   "execution_count": 50,
   "id": "545f8825",
   "metadata": {
    "scrolled": false
   },
   "outputs": [
    {
     "data": {
      "text/html": [
       "<div>\n",
       "<style scoped>\n",
       "    .dataframe tbody tr th:only-of-type {\n",
       "        vertical-align: middle;\n",
       "    }\n",
       "\n",
       "    .dataframe tbody tr th {\n",
       "        vertical-align: top;\n",
       "    }\n",
       "\n",
       "    .dataframe thead th {\n",
       "        text-align: right;\n",
       "    }\n",
       "</style>\n",
       "<table border=\"1\" class=\"dataframe\">\n",
       "  <thead>\n",
       "    <tr style=\"text-align: right;\">\n",
       "      <th></th>\n",
       "      <th>Odd</th>\n",
       "      <th>Even</th>\n",
       "    </tr>\n",
       "  </thead>\n",
       "  <tbody>\n",
       "    <tr>\n",
       "      <th>1</th>\n",
       "      <td>1</td>\n",
       "      <td>2</td>\n",
       "    </tr>\n",
       "    <tr>\n",
       "      <th>2</th>\n",
       "      <td>3</td>\n",
       "      <td>4</td>\n",
       "    </tr>\n",
       "    <tr>\n",
       "      <th>3</th>\n",
       "      <td>5</td>\n",
       "      <td>6</td>\n",
       "    </tr>\n",
       "    <tr>\n",
       "      <th>4</th>\n",
       "      <td>7</td>\n",
       "      <td>8</td>\n",
       "    </tr>\n",
       "    <tr>\n",
       "      <th>5</th>\n",
       "      <td>9</td>\n",
       "      <td>10</td>\n",
       "    </tr>\n",
       "  </tbody>\n",
       "</table>\n",
       "</div>"
      ],
      "text/plain": [
       "   Odd  Even\n",
       "1    1     2\n",
       "2    3     4\n",
       "3    5     6\n",
       "4    7     8\n",
       "5    9    10"
      ]
     },
     "execution_count": 50,
     "metadata": {},
     "output_type": "execute_result"
    }
   ],
   "source": [
    "merg_df[merg_df.columns[0:2]]"
   ]
  },
  {
   "cell_type": "markdown",
   "id": "56c0c78e",
   "metadata": {},
   "source": [
    "#### Adding, taking difference, product, and division of column in dataframe"
   ]
  },
  {
   "cell_type": "markdown",
   "id": "90ebc7d2",
   "metadata": {},
   "source": [
    "### Example"
   ]
  },
  {
   "cell_type": "code",
   "execution_count": 51,
   "id": "016605e4",
   "metadata": {},
   "outputs": [
    {
     "data": {
      "text/html": [
       "<div>\n",
       "<style scoped>\n",
       "    .dataframe tbody tr th:only-of-type {\n",
       "        vertical-align: middle;\n",
       "    }\n",
       "\n",
       "    .dataframe tbody tr th {\n",
       "        vertical-align: top;\n",
       "    }\n",
       "\n",
       "    .dataframe thead th {\n",
       "        text-align: right;\n",
       "    }\n",
       "</style>\n",
       "<table border=\"1\" class=\"dataframe\">\n",
       "  <thead>\n",
       "    <tr style=\"text-align: right;\">\n",
       "      <th></th>\n",
       "      <th>Odd</th>\n",
       "      <th>Even</th>\n",
       "      <th>Prime</th>\n",
       "    </tr>\n",
       "  </thead>\n",
       "  <tbody>\n",
       "    <tr>\n",
       "      <th>1</th>\n",
       "      <td>1</td>\n",
       "      <td>2</td>\n",
       "      <td>2</td>\n",
       "    </tr>\n",
       "    <tr>\n",
       "      <th>2</th>\n",
       "      <td>3</td>\n",
       "      <td>4</td>\n",
       "      <td>3</td>\n",
       "    </tr>\n",
       "    <tr>\n",
       "      <th>3</th>\n",
       "      <td>5</td>\n",
       "      <td>6</td>\n",
       "      <td>5</td>\n",
       "    </tr>\n",
       "    <tr>\n",
       "      <th>4</th>\n",
       "      <td>7</td>\n",
       "      <td>8</td>\n",
       "      <td>7</td>\n",
       "    </tr>\n",
       "    <tr>\n",
       "      <th>5</th>\n",
       "      <td>9</td>\n",
       "      <td>10</td>\n",
       "      <td>11</td>\n",
       "    </tr>\n",
       "  </tbody>\n",
       "</table>\n",
       "</div>"
      ],
      "text/plain": [
       "   Odd  Even  Prime\n",
       "1    1     2      2\n",
       "2    3     4      3\n",
       "3    5     6      5\n",
       "4    7     8      7\n",
       "5    9    10     11"
      ]
     },
     "execution_count": 51,
     "metadata": {},
     "output_type": "execute_result"
    }
   ],
   "source": [
    "merg_df"
   ]
  },
  {
   "cell_type": "code",
   "execution_count": 52,
   "id": "f19814c1",
   "metadata": {},
   "outputs": [
    {
     "data": {
      "text/html": [
       "<div>\n",
       "<style scoped>\n",
       "    .dataframe tbody tr th:only-of-type {\n",
       "        vertical-align: middle;\n",
       "    }\n",
       "\n",
       "    .dataframe tbody tr th {\n",
       "        vertical-align: top;\n",
       "    }\n",
       "\n",
       "    .dataframe thead th {\n",
       "        text-align: right;\n",
       "    }\n",
       "</style>\n",
       "<table border=\"1\" class=\"dataframe\">\n",
       "  <thead>\n",
       "    <tr style=\"text-align: right;\">\n",
       "      <th></th>\n",
       "      <th>Odd</th>\n",
       "      <th>Even</th>\n",
       "      <th>Prime</th>\n",
       "      <th>Sum</th>\n",
       "    </tr>\n",
       "  </thead>\n",
       "  <tbody>\n",
       "    <tr>\n",
       "      <th>1</th>\n",
       "      <td>1</td>\n",
       "      <td>2</td>\n",
       "      <td>2</td>\n",
       "      <td>5</td>\n",
       "    </tr>\n",
       "    <tr>\n",
       "      <th>2</th>\n",
       "      <td>3</td>\n",
       "      <td>4</td>\n",
       "      <td>3</td>\n",
       "      <td>10</td>\n",
       "    </tr>\n",
       "    <tr>\n",
       "      <th>3</th>\n",
       "      <td>5</td>\n",
       "      <td>6</td>\n",
       "      <td>5</td>\n",
       "      <td>16</td>\n",
       "    </tr>\n",
       "    <tr>\n",
       "      <th>4</th>\n",
       "      <td>7</td>\n",
       "      <td>8</td>\n",
       "      <td>7</td>\n",
       "      <td>22</td>\n",
       "    </tr>\n",
       "    <tr>\n",
       "      <th>5</th>\n",
       "      <td>9</td>\n",
       "      <td>10</td>\n",
       "      <td>11</td>\n",
       "      <td>30</td>\n",
       "    </tr>\n",
       "  </tbody>\n",
       "</table>\n",
       "</div>"
      ],
      "text/plain": [
       "   Odd  Even  Prime  Sum\n",
       "1    1     2      2    5\n",
       "2    3     4      3   10\n",
       "3    5     6      5   16\n",
       "4    7     8      7   22\n",
       "5    9    10     11   30"
      ]
     },
     "execution_count": 52,
     "metadata": {},
     "output_type": "execute_result"
    }
   ],
   "source": [
    "merg_df['Sum'] = merg_df['Odd'] + merg_df['Even'] + merg_df['Prime']\n",
    "merg_df"
   ]
  },
  {
   "cell_type": "code",
   "execution_count": 53,
   "id": "4c956c27",
   "metadata": {},
   "outputs": [
    {
     "data": {
      "text/html": [
       "<div>\n",
       "<style scoped>\n",
       "    .dataframe tbody tr th:only-of-type {\n",
       "        vertical-align: middle;\n",
       "    }\n",
       "\n",
       "    .dataframe tbody tr th {\n",
       "        vertical-align: top;\n",
       "    }\n",
       "\n",
       "    .dataframe thead th {\n",
       "        text-align: right;\n",
       "    }\n",
       "</style>\n",
       "<table border=\"1\" class=\"dataframe\">\n",
       "  <thead>\n",
       "    <tr style=\"text-align: right;\">\n",
       "      <th></th>\n",
       "      <th>Odd</th>\n",
       "      <th>Even</th>\n",
       "      <th>Prime</th>\n",
       "      <th>Sum</th>\n",
       "      <th>Difference</th>\n",
       "    </tr>\n",
       "  </thead>\n",
       "  <tbody>\n",
       "    <tr>\n",
       "      <th>1</th>\n",
       "      <td>1</td>\n",
       "      <td>2</td>\n",
       "      <td>2</td>\n",
       "      <td>5</td>\n",
       "      <td>-3</td>\n",
       "    </tr>\n",
       "    <tr>\n",
       "      <th>2</th>\n",
       "      <td>3</td>\n",
       "      <td>4</td>\n",
       "      <td>3</td>\n",
       "      <td>10</td>\n",
       "      <td>-4</td>\n",
       "    </tr>\n",
       "    <tr>\n",
       "      <th>3</th>\n",
       "      <td>5</td>\n",
       "      <td>6</td>\n",
       "      <td>5</td>\n",
       "      <td>16</td>\n",
       "      <td>-6</td>\n",
       "    </tr>\n",
       "    <tr>\n",
       "      <th>4</th>\n",
       "      <td>7</td>\n",
       "      <td>8</td>\n",
       "      <td>7</td>\n",
       "      <td>22</td>\n",
       "      <td>-8</td>\n",
       "    </tr>\n",
       "    <tr>\n",
       "      <th>5</th>\n",
       "      <td>9</td>\n",
       "      <td>10</td>\n",
       "      <td>11</td>\n",
       "      <td>30</td>\n",
       "      <td>-12</td>\n",
       "    </tr>\n",
       "  </tbody>\n",
       "</table>\n",
       "</div>"
      ],
      "text/plain": [
       "   Odd  Even  Prime  Sum  Difference\n",
       "1    1     2      2    5          -3\n",
       "2    3     4      3   10          -4\n",
       "3    5     6      5   16          -6\n",
       "4    7     8      7   22          -8\n",
       "5    9    10     11   30         -12"
      ]
     },
     "execution_count": 53,
     "metadata": {},
     "output_type": "execute_result"
    }
   ],
   "source": [
    "merg_df['Difference'] = merg_df['Odd'] - merg_df['Even'] - merg_df['Prime']\n",
    "merg_df"
   ]
  },
  {
   "cell_type": "code",
   "execution_count": 54,
   "id": "dace6978",
   "metadata": {},
   "outputs": [
    {
     "data": {
      "text/html": [
       "<div>\n",
       "<style scoped>\n",
       "    .dataframe tbody tr th:only-of-type {\n",
       "        vertical-align: middle;\n",
       "    }\n",
       "\n",
       "    .dataframe tbody tr th {\n",
       "        vertical-align: top;\n",
       "    }\n",
       "\n",
       "    .dataframe thead th {\n",
       "        text-align: right;\n",
       "    }\n",
       "</style>\n",
       "<table border=\"1\" class=\"dataframe\">\n",
       "  <thead>\n",
       "    <tr style=\"text-align: right;\">\n",
       "      <th></th>\n",
       "      <th>Odd</th>\n",
       "      <th>Even</th>\n",
       "      <th>Prime</th>\n",
       "      <th>Sum</th>\n",
       "      <th>Difference</th>\n",
       "      <th>Product</th>\n",
       "    </tr>\n",
       "  </thead>\n",
       "  <tbody>\n",
       "    <tr>\n",
       "      <th>1</th>\n",
       "      <td>1</td>\n",
       "      <td>2</td>\n",
       "      <td>2</td>\n",
       "      <td>5</td>\n",
       "      <td>-3</td>\n",
       "      <td>4</td>\n",
       "    </tr>\n",
       "    <tr>\n",
       "      <th>2</th>\n",
       "      <td>3</td>\n",
       "      <td>4</td>\n",
       "      <td>3</td>\n",
       "      <td>10</td>\n",
       "      <td>-4</td>\n",
       "      <td>36</td>\n",
       "    </tr>\n",
       "    <tr>\n",
       "      <th>3</th>\n",
       "      <td>5</td>\n",
       "      <td>6</td>\n",
       "      <td>5</td>\n",
       "      <td>16</td>\n",
       "      <td>-6</td>\n",
       "      <td>150</td>\n",
       "    </tr>\n",
       "    <tr>\n",
       "      <th>4</th>\n",
       "      <td>7</td>\n",
       "      <td>8</td>\n",
       "      <td>7</td>\n",
       "      <td>22</td>\n",
       "      <td>-8</td>\n",
       "      <td>392</td>\n",
       "    </tr>\n",
       "    <tr>\n",
       "      <th>5</th>\n",
       "      <td>9</td>\n",
       "      <td>10</td>\n",
       "      <td>11</td>\n",
       "      <td>30</td>\n",
       "      <td>-12</td>\n",
       "      <td>990</td>\n",
       "    </tr>\n",
       "  </tbody>\n",
       "</table>\n",
       "</div>"
      ],
      "text/plain": [
       "   Odd  Even  Prime  Sum  Difference  Product\n",
       "1    1     2      2    5          -3        4\n",
       "2    3     4      3   10          -4       36\n",
       "3    5     6      5   16          -6      150\n",
       "4    7     8      7   22          -8      392\n",
       "5    9    10     11   30         -12      990"
      ]
     },
     "execution_count": 54,
     "metadata": {},
     "output_type": "execute_result"
    }
   ],
   "source": [
    "merg_df['Product'] = merg_df['Odd'] * merg_df['Even'] * merg_df['Prime']\n",
    "merg_df"
   ]
  },
  {
   "cell_type": "code",
   "execution_count": 55,
   "id": "94730f53",
   "metadata": {},
   "outputs": [
    {
     "data": {
      "text/html": [
       "<div>\n",
       "<style scoped>\n",
       "    .dataframe tbody tr th:only-of-type {\n",
       "        vertical-align: middle;\n",
       "    }\n",
       "\n",
       "    .dataframe tbody tr th {\n",
       "        vertical-align: top;\n",
       "    }\n",
       "\n",
       "    .dataframe thead th {\n",
       "        text-align: right;\n",
       "    }\n",
       "</style>\n",
       "<table border=\"1\" class=\"dataframe\">\n",
       "  <thead>\n",
       "    <tr style=\"text-align: right;\">\n",
       "      <th></th>\n",
       "      <th>Odd</th>\n",
       "      <th>Even</th>\n",
       "      <th>Prime</th>\n",
       "      <th>Sum</th>\n",
       "      <th>Difference</th>\n",
       "      <th>Product</th>\n",
       "      <th>Quotient</th>\n",
       "    </tr>\n",
       "  </thead>\n",
       "  <tbody>\n",
       "    <tr>\n",
       "      <th>1</th>\n",
       "      <td>1</td>\n",
       "      <td>2</td>\n",
       "      <td>2</td>\n",
       "      <td>5</td>\n",
       "      <td>-3</td>\n",
       "      <td>4</td>\n",
       "      <td>0.250000</td>\n",
       "    </tr>\n",
       "    <tr>\n",
       "      <th>2</th>\n",
       "      <td>3</td>\n",
       "      <td>4</td>\n",
       "      <td>3</td>\n",
       "      <td>10</td>\n",
       "      <td>-4</td>\n",
       "      <td>36</td>\n",
       "      <td>0.250000</td>\n",
       "    </tr>\n",
       "    <tr>\n",
       "      <th>3</th>\n",
       "      <td>5</td>\n",
       "      <td>6</td>\n",
       "      <td>5</td>\n",
       "      <td>16</td>\n",
       "      <td>-6</td>\n",
       "      <td>150</td>\n",
       "      <td>0.166667</td>\n",
       "    </tr>\n",
       "    <tr>\n",
       "      <th>4</th>\n",
       "      <td>7</td>\n",
       "      <td>8</td>\n",
       "      <td>7</td>\n",
       "      <td>22</td>\n",
       "      <td>-8</td>\n",
       "      <td>392</td>\n",
       "      <td>0.125000</td>\n",
       "    </tr>\n",
       "    <tr>\n",
       "      <th>5</th>\n",
       "      <td>9</td>\n",
       "      <td>10</td>\n",
       "      <td>11</td>\n",
       "      <td>30</td>\n",
       "      <td>-12</td>\n",
       "      <td>990</td>\n",
       "      <td>0.081818</td>\n",
       "    </tr>\n",
       "  </tbody>\n",
       "</table>\n",
       "</div>"
      ],
      "text/plain": [
       "   Odd  Even  Prime  Sum  Difference  Product  Quotient\n",
       "1    1     2      2    5          -3        4  0.250000\n",
       "2    3     4      3   10          -4       36  0.250000\n",
       "3    5     6      5   16          -6      150  0.166667\n",
       "4    7     8      7   22          -8      392  0.125000\n",
       "5    9    10     11   30         -12      990  0.081818"
      ]
     },
     "execution_count": 55,
     "metadata": {},
     "output_type": "execute_result"
    }
   ],
   "source": [
    "merg_df['Quotient'] = merg_df['Odd'] / merg_df['Even'] / merg_df['Prime']\n",
    "merg_df"
   ]
  },
  {
   "cell_type": "markdown",
   "id": "4e721a4c",
   "metadata": {},
   "source": [
    "### $\\text{Row Addition, Deletion and Selection}$"
   ]
  },
  {
   "cell_type": "markdown",
   "id": "6a08179b",
   "metadata": {},
   "source": [
    "#### $\\text{Adding Rows}$"
   ]
  },
  {
   "cell_type": "markdown",
   "id": "64e67637",
   "metadata": {},
   "source": [
    "* *'DataFrame.loc' function is used to manipulate rows*"
   ]
  },
  {
   "cell_type": "markdown",
   "id": "9d2752b4",
   "metadata": {},
   "source": [
    "* *Row can be added at specified index using the same method used for dictionaries*"
   ]
  },
  {
   "cell_type": "code",
   "execution_count": 56,
   "id": "235aefcb",
   "metadata": {},
   "outputs": [
    {
     "data": {
      "text/html": [
       "<div>\n",
       "<style scoped>\n",
       "    .dataframe tbody tr th:only-of-type {\n",
       "        vertical-align: middle;\n",
       "    }\n",
       "\n",
       "    .dataframe tbody tr th {\n",
       "        vertical-align: top;\n",
       "    }\n",
       "\n",
       "    .dataframe thead th {\n",
       "        text-align: right;\n",
       "    }\n",
       "</style>\n",
       "<table border=\"1\" class=\"dataframe\">\n",
       "  <thead>\n",
       "    <tr style=\"text-align: right;\">\n",
       "      <th></th>\n",
       "      <th>Odd</th>\n",
       "      <th>Even</th>\n",
       "      <th>Prime</th>\n",
       "      <th>Sum</th>\n",
       "      <th>Difference</th>\n",
       "      <th>Product</th>\n",
       "      <th>Quotient</th>\n",
       "    </tr>\n",
       "  </thead>\n",
       "  <tbody>\n",
       "    <tr>\n",
       "      <th>1</th>\n",
       "      <td>1</td>\n",
       "      <td>2</td>\n",
       "      <td>2</td>\n",
       "      <td>5</td>\n",
       "      <td>-3</td>\n",
       "      <td>4</td>\n",
       "      <td>0.250000</td>\n",
       "    </tr>\n",
       "    <tr>\n",
       "      <th>2</th>\n",
       "      <td>3</td>\n",
       "      <td>4</td>\n",
       "      <td>3</td>\n",
       "      <td>10</td>\n",
       "      <td>-4</td>\n",
       "      <td>36</td>\n",
       "      <td>0.250000</td>\n",
       "    </tr>\n",
       "    <tr>\n",
       "      <th>3</th>\n",
       "      <td>5</td>\n",
       "      <td>6</td>\n",
       "      <td>5</td>\n",
       "      <td>16</td>\n",
       "      <td>-6</td>\n",
       "      <td>150</td>\n",
       "      <td>0.166667</td>\n",
       "    </tr>\n",
       "    <tr>\n",
       "      <th>4</th>\n",
       "      <td>7</td>\n",
       "      <td>8</td>\n",
       "      <td>7</td>\n",
       "      <td>22</td>\n",
       "      <td>-8</td>\n",
       "      <td>392</td>\n",
       "      <td>0.125000</td>\n",
       "    </tr>\n",
       "    <tr>\n",
       "      <th>5</th>\n",
       "      <td>9</td>\n",
       "      <td>10</td>\n",
       "      <td>11</td>\n",
       "      <td>30</td>\n",
       "      <td>-12</td>\n",
       "      <td>990</td>\n",
       "      <td>0.081818</td>\n",
       "    </tr>\n",
       "  </tbody>\n",
       "</table>\n",
       "</div>"
      ],
      "text/plain": [
       "   Odd  Even  Prime  Sum  Difference  Product  Quotient\n",
       "1    1     2      2    5          -3        4  0.250000\n",
       "2    3     4      3   10          -4       36  0.250000\n",
       "3    5     6      5   16          -6      150  0.166667\n",
       "4    7     8      7   22          -8      392  0.125000\n",
       "5    9    10     11   30         -12      990  0.081818"
      ]
     },
     "execution_count": 56,
     "metadata": {},
     "output_type": "execute_result"
    }
   ],
   "source": [
    "merg_df"
   ]
  },
  {
   "cell_type": "code",
   "execution_count": 57,
   "id": "5f038126",
   "metadata": {
    "scrolled": false
   },
   "outputs": [
    {
     "data": {
      "text/html": [
       "<div>\n",
       "<style scoped>\n",
       "    .dataframe tbody tr th:only-of-type {\n",
       "        vertical-align: middle;\n",
       "    }\n",
       "\n",
       "    .dataframe tbody tr th {\n",
       "        vertical-align: top;\n",
       "    }\n",
       "\n",
       "    .dataframe thead th {\n",
       "        text-align: right;\n",
       "    }\n",
       "</style>\n",
       "<table border=\"1\" class=\"dataframe\">\n",
       "  <thead>\n",
       "    <tr style=\"text-align: right;\">\n",
       "      <th></th>\n",
       "      <th>Odd</th>\n",
       "      <th>Even</th>\n",
       "      <th>Prime</th>\n",
       "      <th>Sum</th>\n",
       "      <th>Difference</th>\n",
       "      <th>Product</th>\n",
       "      <th>Quotient</th>\n",
       "    </tr>\n",
       "  </thead>\n",
       "  <tbody>\n",
       "    <tr>\n",
       "      <th>1</th>\n",
       "      <td>1</td>\n",
       "      <td>2</td>\n",
       "      <td>2</td>\n",
       "      <td>5</td>\n",
       "      <td>-3</td>\n",
       "      <td>4</td>\n",
       "      <td>0.250000</td>\n",
       "    </tr>\n",
       "    <tr>\n",
       "      <th>2</th>\n",
       "      <td>3</td>\n",
       "      <td>4</td>\n",
       "      <td>3</td>\n",
       "      <td>10</td>\n",
       "      <td>-4</td>\n",
       "      <td>36</td>\n",
       "      <td>0.250000</td>\n",
       "    </tr>\n",
       "    <tr>\n",
       "      <th>3</th>\n",
       "      <td>5</td>\n",
       "      <td>6</td>\n",
       "      <td>5</td>\n",
       "      <td>16</td>\n",
       "      <td>-6</td>\n",
       "      <td>150</td>\n",
       "      <td>0.166667</td>\n",
       "    </tr>\n",
       "    <tr>\n",
       "      <th>4</th>\n",
       "      <td>7</td>\n",
       "      <td>8</td>\n",
       "      <td>7</td>\n",
       "      <td>22</td>\n",
       "      <td>-8</td>\n",
       "      <td>392</td>\n",
       "      <td>0.125000</td>\n",
       "    </tr>\n",
       "    <tr>\n",
       "      <th>5</th>\n",
       "      <td>9</td>\n",
       "      <td>10</td>\n",
       "      <td>11</td>\n",
       "      <td>30</td>\n",
       "      <td>-12</td>\n",
       "      <td>990</td>\n",
       "      <td>0.081818</td>\n",
       "    </tr>\n",
       "    <tr>\n",
       "      <th>6</th>\n",
       "      <td>1</td>\n",
       "      <td>2</td>\n",
       "      <td>3</td>\n",
       "      <td>4</td>\n",
       "      <td>5</td>\n",
       "      <td>6</td>\n",
       "      <td>7.000000</td>\n",
       "    </tr>\n",
       "  </tbody>\n",
       "</table>\n",
       "</div>"
      ],
      "text/plain": [
       "   Odd  Even  Prime  Sum  Difference  Product  Quotient\n",
       "1    1     2      2    5          -3        4  0.250000\n",
       "2    3     4      3   10          -4       36  0.250000\n",
       "3    5     6      5   16          -6      150  0.166667\n",
       "4    7     8      7   22          -8      392  0.125000\n",
       "5    9    10     11   30         -12      990  0.081818\n",
       "6    1     2      3    4           5        6  7.000000"
      ]
     },
     "execution_count": 57,
     "metadata": {},
     "output_type": "execute_result"
    }
   ],
   "source": [
    "merg_df.loc[6] = [1,2,3,4,5,6,7]\n",
    "merg_df"
   ]
  },
  {
   "cell_type": "markdown",
   "id": "15a49960",
   "metadata": {},
   "source": [
    "**The values of one row can be assigned to another, like**"
   ]
  },
  {
   "cell_type": "code",
   "execution_count": 58,
   "id": "eed9df98",
   "metadata": {
    "scrolled": true
   },
   "outputs": [
    {
     "data": {
      "text/html": [
       "<div>\n",
       "<style scoped>\n",
       "    .dataframe tbody tr th:only-of-type {\n",
       "        vertical-align: middle;\n",
       "    }\n",
       "\n",
       "    .dataframe tbody tr th {\n",
       "        vertical-align: top;\n",
       "    }\n",
       "\n",
       "    .dataframe thead th {\n",
       "        text-align: right;\n",
       "    }\n",
       "</style>\n",
       "<table border=\"1\" class=\"dataframe\">\n",
       "  <thead>\n",
       "    <tr style=\"text-align: right;\">\n",
       "      <th></th>\n",
       "      <th>Odd</th>\n",
       "      <th>Even</th>\n",
       "      <th>Prime</th>\n",
       "      <th>Sum</th>\n",
       "      <th>Difference</th>\n",
       "      <th>Product</th>\n",
       "      <th>Quotient</th>\n",
       "    </tr>\n",
       "  </thead>\n",
       "  <tbody>\n",
       "    <tr>\n",
       "      <th>1</th>\n",
       "      <td>1.0</td>\n",
       "      <td>2.0</td>\n",
       "      <td>2.0</td>\n",
       "      <td>5.0</td>\n",
       "      <td>-3.0</td>\n",
       "      <td>4.0</td>\n",
       "      <td>0.250000</td>\n",
       "    </tr>\n",
       "    <tr>\n",
       "      <th>2</th>\n",
       "      <td>3.0</td>\n",
       "      <td>4.0</td>\n",
       "      <td>3.0</td>\n",
       "      <td>10.0</td>\n",
       "      <td>-4.0</td>\n",
       "      <td>36.0</td>\n",
       "      <td>0.250000</td>\n",
       "    </tr>\n",
       "    <tr>\n",
       "      <th>3</th>\n",
       "      <td>5.0</td>\n",
       "      <td>6.0</td>\n",
       "      <td>5.0</td>\n",
       "      <td>16.0</td>\n",
       "      <td>-6.0</td>\n",
       "      <td>150.0</td>\n",
       "      <td>0.166667</td>\n",
       "    </tr>\n",
       "    <tr>\n",
       "      <th>4</th>\n",
       "      <td>7.0</td>\n",
       "      <td>8.0</td>\n",
       "      <td>7.0</td>\n",
       "      <td>22.0</td>\n",
       "      <td>-8.0</td>\n",
       "      <td>392.0</td>\n",
       "      <td>0.125000</td>\n",
       "    </tr>\n",
       "    <tr>\n",
       "      <th>5</th>\n",
       "      <td>9.0</td>\n",
       "      <td>10.0</td>\n",
       "      <td>11.0</td>\n",
       "      <td>30.0</td>\n",
       "      <td>-12.0</td>\n",
       "      <td>990.0</td>\n",
       "      <td>0.081818</td>\n",
       "    </tr>\n",
       "    <tr>\n",
       "      <th>6</th>\n",
       "      <td>9.0</td>\n",
       "      <td>10.0</td>\n",
       "      <td>11.0</td>\n",
       "      <td>30.0</td>\n",
       "      <td>-12.0</td>\n",
       "      <td>990.0</td>\n",
       "      <td>0.081818</td>\n",
       "    </tr>\n",
       "  </tbody>\n",
       "</table>\n",
       "</div>"
      ],
      "text/plain": [
       "   Odd  Even  Prime   Sum  Difference  Product  Quotient\n",
       "1  1.0   2.0    2.0   5.0        -3.0      4.0  0.250000\n",
       "2  3.0   4.0    3.0  10.0        -4.0     36.0  0.250000\n",
       "3  5.0   6.0    5.0  16.0        -6.0    150.0  0.166667\n",
       "4  7.0   8.0    7.0  22.0        -8.0    392.0  0.125000\n",
       "5  9.0  10.0   11.0  30.0       -12.0    990.0  0.081818\n",
       "6  9.0  10.0   11.0  30.0       -12.0    990.0  0.081818"
      ]
     },
     "execution_count": 58,
     "metadata": {},
     "output_type": "execute_result"
    }
   ],
   "source": [
    "merg_df.loc[6] = merg_df.loc[5]\n",
    "merg_df"
   ]
  },
  {
   "cell_type": "markdown",
   "id": "72447e47",
   "metadata": {},
   "source": [
    "#### $\\text{Deleting a Row}$"
   ]
  },
  {
   "cell_type": "markdown",
   "id": "b2d7d6c3",
   "metadata": {},
   "source": [
    "*To delete a particular row* **drop()** *function is used*"
   ]
  },
  {
   "cell_type": "code",
   "execution_count": 59,
   "id": "d491e877",
   "metadata": {},
   "outputs": [
    {
     "name": "stdout",
     "output_type": "stream",
     "text": [
      "Before deleting\n"
     ]
    },
    {
     "data": {
      "text/html": [
       "<div>\n",
       "<style scoped>\n",
       "    .dataframe tbody tr th:only-of-type {\n",
       "        vertical-align: middle;\n",
       "    }\n",
       "\n",
       "    .dataframe tbody tr th {\n",
       "        vertical-align: top;\n",
       "    }\n",
       "\n",
       "    .dataframe thead th {\n",
       "        text-align: right;\n",
       "    }\n",
       "</style>\n",
       "<table border=\"1\" class=\"dataframe\">\n",
       "  <thead>\n",
       "    <tr style=\"text-align: right;\">\n",
       "      <th></th>\n",
       "      <th>Odd</th>\n",
       "      <th>Even</th>\n",
       "      <th>Prime</th>\n",
       "      <th>Sum</th>\n",
       "      <th>Difference</th>\n",
       "      <th>Product</th>\n",
       "      <th>Quotient</th>\n",
       "    </tr>\n",
       "  </thead>\n",
       "  <tbody>\n",
       "    <tr>\n",
       "      <th>1</th>\n",
       "      <td>1.0</td>\n",
       "      <td>2.0</td>\n",
       "      <td>2.0</td>\n",
       "      <td>5.0</td>\n",
       "      <td>-3.0</td>\n",
       "      <td>4.0</td>\n",
       "      <td>0.250000</td>\n",
       "    </tr>\n",
       "    <tr>\n",
       "      <th>2</th>\n",
       "      <td>3.0</td>\n",
       "      <td>4.0</td>\n",
       "      <td>3.0</td>\n",
       "      <td>10.0</td>\n",
       "      <td>-4.0</td>\n",
       "      <td>36.0</td>\n",
       "      <td>0.250000</td>\n",
       "    </tr>\n",
       "    <tr>\n",
       "      <th>3</th>\n",
       "      <td>5.0</td>\n",
       "      <td>6.0</td>\n",
       "      <td>5.0</td>\n",
       "      <td>16.0</td>\n",
       "      <td>-6.0</td>\n",
       "      <td>150.0</td>\n",
       "      <td>0.166667</td>\n",
       "    </tr>\n",
       "    <tr>\n",
       "      <th>4</th>\n",
       "      <td>7.0</td>\n",
       "      <td>8.0</td>\n",
       "      <td>7.0</td>\n",
       "      <td>22.0</td>\n",
       "      <td>-8.0</td>\n",
       "      <td>392.0</td>\n",
       "      <td>0.125000</td>\n",
       "    </tr>\n",
       "    <tr>\n",
       "      <th>5</th>\n",
       "      <td>9.0</td>\n",
       "      <td>10.0</td>\n",
       "      <td>11.0</td>\n",
       "      <td>30.0</td>\n",
       "      <td>-12.0</td>\n",
       "      <td>990.0</td>\n",
       "      <td>0.081818</td>\n",
       "    </tr>\n",
       "    <tr>\n",
       "      <th>6</th>\n",
       "      <td>9.0</td>\n",
       "      <td>10.0</td>\n",
       "      <td>11.0</td>\n",
       "      <td>30.0</td>\n",
       "      <td>-12.0</td>\n",
       "      <td>990.0</td>\n",
       "      <td>0.081818</td>\n",
       "    </tr>\n",
       "  </tbody>\n",
       "</table>\n",
       "</div>"
      ],
      "text/plain": [
       "   Odd  Even  Prime   Sum  Difference  Product  Quotient\n",
       "1  1.0   2.0    2.0   5.0        -3.0      4.0  0.250000\n",
       "2  3.0   4.0    3.0  10.0        -4.0     36.0  0.250000\n",
       "3  5.0   6.0    5.0  16.0        -6.0    150.0  0.166667\n",
       "4  7.0   8.0    7.0  22.0        -8.0    392.0  0.125000\n",
       "5  9.0  10.0   11.0  30.0       -12.0    990.0  0.081818\n",
       "6  9.0  10.0   11.0  30.0       -12.0    990.0  0.081818"
      ]
     },
     "execution_count": 59,
     "metadata": {},
     "output_type": "execute_result"
    }
   ],
   "source": [
    "print('Before deleting')\n",
    "merg_df"
   ]
  },
  {
   "cell_type": "code",
   "execution_count": 60,
   "id": "10b4f273",
   "metadata": {},
   "outputs": [
    {
     "name": "stdout",
     "output_type": "stream",
     "text": [
      "After deleting the row\n"
     ]
    },
    {
     "data": {
      "text/html": [
       "<div>\n",
       "<style scoped>\n",
       "    .dataframe tbody tr th:only-of-type {\n",
       "        vertical-align: middle;\n",
       "    }\n",
       "\n",
       "    .dataframe tbody tr th {\n",
       "        vertical-align: top;\n",
       "    }\n",
       "\n",
       "    .dataframe thead th {\n",
       "        text-align: right;\n",
       "    }\n",
       "</style>\n",
       "<table border=\"1\" class=\"dataframe\">\n",
       "  <thead>\n",
       "    <tr style=\"text-align: right;\">\n",
       "      <th></th>\n",
       "      <th>Odd</th>\n",
       "      <th>Even</th>\n",
       "      <th>Prime</th>\n",
       "      <th>Sum</th>\n",
       "      <th>Difference</th>\n",
       "      <th>Product</th>\n",
       "      <th>Quotient</th>\n",
       "    </tr>\n",
       "  </thead>\n",
       "  <tbody>\n",
       "    <tr>\n",
       "      <th>1</th>\n",
       "      <td>1.0</td>\n",
       "      <td>2.0</td>\n",
       "      <td>2.0</td>\n",
       "      <td>5.0</td>\n",
       "      <td>-3.0</td>\n",
       "      <td>4.0</td>\n",
       "      <td>0.250000</td>\n",
       "    </tr>\n",
       "    <tr>\n",
       "      <th>2</th>\n",
       "      <td>3.0</td>\n",
       "      <td>4.0</td>\n",
       "      <td>3.0</td>\n",
       "      <td>10.0</td>\n",
       "      <td>-4.0</td>\n",
       "      <td>36.0</td>\n",
       "      <td>0.250000</td>\n",
       "    </tr>\n",
       "    <tr>\n",
       "      <th>3</th>\n",
       "      <td>5.0</td>\n",
       "      <td>6.0</td>\n",
       "      <td>5.0</td>\n",
       "      <td>16.0</td>\n",
       "      <td>-6.0</td>\n",
       "      <td>150.0</td>\n",
       "      <td>0.166667</td>\n",
       "    </tr>\n",
       "    <tr>\n",
       "      <th>4</th>\n",
       "      <td>7.0</td>\n",
       "      <td>8.0</td>\n",
       "      <td>7.0</td>\n",
       "      <td>22.0</td>\n",
       "      <td>-8.0</td>\n",
       "      <td>392.0</td>\n",
       "      <td>0.125000</td>\n",
       "    </tr>\n",
       "    <tr>\n",
       "      <th>5</th>\n",
       "      <td>9.0</td>\n",
       "      <td>10.0</td>\n",
       "      <td>11.0</td>\n",
       "      <td>30.0</td>\n",
       "      <td>-12.0</td>\n",
       "      <td>990.0</td>\n",
       "      <td>0.081818</td>\n",
       "    </tr>\n",
       "  </tbody>\n",
       "</table>\n",
       "</div>"
      ],
      "text/plain": [
       "   Odd  Even  Prime   Sum  Difference  Product  Quotient\n",
       "1  1.0   2.0    2.0   5.0        -3.0      4.0  0.250000\n",
       "2  3.0   4.0    3.0  10.0        -4.0     36.0  0.250000\n",
       "3  5.0   6.0    5.0  16.0        -6.0    150.0  0.166667\n",
       "4  7.0   8.0    7.0  22.0        -8.0    392.0  0.125000\n",
       "5  9.0  10.0   11.0  30.0       -12.0    990.0  0.081818"
      ]
     },
     "execution_count": 60,
     "metadata": {},
     "output_type": "execute_result"
    }
   ],
   "source": [
    "print('After deleting the row')\n",
    "merg_df.drop(6)"
   ]
  },
  {
   "cell_type": "markdown",
   "id": "c230c4e5",
   "metadata": {},
   "source": [
    "#### $\\text{Selecting a Row}$"
   ]
  },
  {
   "cell_type": "markdown",
   "id": "5d507861",
   "metadata": {},
   "source": [
    "**==>>** **A row can be selected by the same .loc method**"
   ]
  },
  {
   "cell_type": "code",
   "execution_count": 61,
   "id": "5c3e7612",
   "metadata": {},
   "outputs": [
    {
     "data": {
      "text/html": [
       "<div>\n",
       "<style scoped>\n",
       "    .dataframe tbody tr th:only-of-type {\n",
       "        vertical-align: middle;\n",
       "    }\n",
       "\n",
       "    .dataframe tbody tr th {\n",
       "        vertical-align: top;\n",
       "    }\n",
       "\n",
       "    .dataframe thead th {\n",
       "        text-align: right;\n",
       "    }\n",
       "</style>\n",
       "<table border=\"1\" class=\"dataframe\">\n",
       "  <thead>\n",
       "    <tr style=\"text-align: right;\">\n",
       "      <th></th>\n",
       "      <th>Odd</th>\n",
       "      <th>Even</th>\n",
       "      <th>Prime</th>\n",
       "      <th>Sum</th>\n",
       "      <th>Difference</th>\n",
       "      <th>Product</th>\n",
       "      <th>Quotient</th>\n",
       "    </tr>\n",
       "  </thead>\n",
       "  <tbody>\n",
       "    <tr>\n",
       "      <th>1</th>\n",
       "      <td>1.0</td>\n",
       "      <td>2.0</td>\n",
       "      <td>2.0</td>\n",
       "      <td>5.0</td>\n",
       "      <td>-3.0</td>\n",
       "      <td>4.0</td>\n",
       "      <td>0.25</td>\n",
       "    </tr>\n",
       "  </tbody>\n",
       "</table>\n",
       "</div>"
      ],
      "text/plain": [
       "   Odd  Even  Prime  Sum  Difference  Product  Quotient\n",
       "1  1.0   2.0    2.0  5.0        -3.0      4.0      0.25"
      ]
     },
     "execution_count": 61,
     "metadata": {},
     "output_type": "execute_result"
    }
   ],
   "source": [
    "merg_df.loc[:1]"
   ]
  },
  {
   "cell_type": "code",
   "execution_count": 62,
   "id": "a9e10e4b",
   "metadata": {},
   "outputs": [
    {
     "data": {
      "text/html": [
       "<div>\n",
       "<style scoped>\n",
       "    .dataframe tbody tr th:only-of-type {\n",
       "        vertical-align: middle;\n",
       "    }\n",
       "\n",
       "    .dataframe tbody tr th {\n",
       "        vertical-align: top;\n",
       "    }\n",
       "\n",
       "    .dataframe thead th {\n",
       "        text-align: right;\n",
       "    }\n",
       "</style>\n",
       "<table border=\"1\" class=\"dataframe\">\n",
       "  <thead>\n",
       "    <tr style=\"text-align: right;\">\n",
       "      <th></th>\n",
       "      <th>Odd</th>\n",
       "      <th>Even</th>\n",
       "      <th>Prime</th>\n",
       "      <th>Sum</th>\n",
       "      <th>Difference</th>\n",
       "      <th>Product</th>\n",
       "      <th>Quotient</th>\n",
       "    </tr>\n",
       "  </thead>\n",
       "  <tbody>\n",
       "    <tr>\n",
       "      <th>3</th>\n",
       "      <td>5.0</td>\n",
       "      <td>6.0</td>\n",
       "      <td>5.0</td>\n",
       "      <td>16.0</td>\n",
       "      <td>-6.0</td>\n",
       "      <td>150.0</td>\n",
       "      <td>0.166667</td>\n",
       "    </tr>\n",
       "  </tbody>\n",
       "</table>\n",
       "</div>"
      ],
      "text/plain": [
       "   Odd  Even  Prime   Sum  Difference  Product  Quotient\n",
       "3  5.0   6.0    5.0  16.0        -6.0    150.0  0.166667"
      ]
     },
     "execution_count": 62,
     "metadata": {},
     "output_type": "execute_result"
    }
   ],
   "source": [
    "merg_df.loc[3:3]"
   ]
  },
  {
   "cell_type": "code",
   "execution_count": 63,
   "id": "4cc1c12e",
   "metadata": {},
   "outputs": [
    {
     "data": {
      "text/html": [
       "<div>\n",
       "<style scoped>\n",
       "    .dataframe tbody tr th:only-of-type {\n",
       "        vertical-align: middle;\n",
       "    }\n",
       "\n",
       "    .dataframe tbody tr th {\n",
       "        vertical-align: top;\n",
       "    }\n",
       "\n",
       "    .dataframe thead th {\n",
       "        text-align: right;\n",
       "    }\n",
       "</style>\n",
       "<table border=\"1\" class=\"dataframe\">\n",
       "  <thead>\n",
       "    <tr style=\"text-align: right;\">\n",
       "      <th></th>\n",
       "      <th>Odd</th>\n",
       "      <th>Even</th>\n",
       "      <th>Prime</th>\n",
       "      <th>Sum</th>\n",
       "      <th>Difference</th>\n",
       "      <th>Product</th>\n",
       "      <th>Quotient</th>\n",
       "    </tr>\n",
       "  </thead>\n",
       "  <tbody>\n",
       "    <tr>\n",
       "      <th>2</th>\n",
       "      <td>3.0</td>\n",
       "      <td>4.0</td>\n",
       "      <td>3.0</td>\n",
       "      <td>10.0</td>\n",
       "      <td>-4.0</td>\n",
       "      <td>36.0</td>\n",
       "      <td>0.25</td>\n",
       "    </tr>\n",
       "  </tbody>\n",
       "</table>\n",
       "</div>"
      ],
      "text/plain": [
       "   Odd  Even  Prime   Sum  Difference  Product  Quotient\n",
       "2  3.0   4.0    3.0  10.0        -4.0     36.0      0.25"
      ]
     },
     "execution_count": 63,
     "metadata": {},
     "output_type": "execute_result"
    }
   ],
   "source": [
    "merg_df.loc[2:2]"
   ]
  },
  {
   "cell_type": "code",
   "execution_count": 64,
   "id": "8d70bb7b",
   "metadata": {},
   "outputs": [
    {
     "data": {
      "text/html": [
       "<div>\n",
       "<style scoped>\n",
       "    .dataframe tbody tr th:only-of-type {\n",
       "        vertical-align: middle;\n",
       "    }\n",
       "\n",
       "    .dataframe tbody tr th {\n",
       "        vertical-align: top;\n",
       "    }\n",
       "\n",
       "    .dataframe thead th {\n",
       "        text-align: right;\n",
       "    }\n",
       "</style>\n",
       "<table border=\"1\" class=\"dataframe\">\n",
       "  <thead>\n",
       "    <tr style=\"text-align: right;\">\n",
       "      <th></th>\n",
       "      <th>Odd</th>\n",
       "      <th>Even</th>\n",
       "      <th>Prime</th>\n",
       "      <th>Sum</th>\n",
       "      <th>Difference</th>\n",
       "      <th>Product</th>\n",
       "      <th>Quotient</th>\n",
       "    </tr>\n",
       "  </thead>\n",
       "  <tbody>\n",
       "    <tr>\n",
       "      <th>2</th>\n",
       "      <td>3.0</td>\n",
       "      <td>4.0</td>\n",
       "      <td>3.0</td>\n",
       "      <td>10.0</td>\n",
       "      <td>-4.0</td>\n",
       "      <td>36.0</td>\n",
       "      <td>0.250000</td>\n",
       "    </tr>\n",
       "    <tr>\n",
       "      <th>3</th>\n",
       "      <td>5.0</td>\n",
       "      <td>6.0</td>\n",
       "      <td>5.0</td>\n",
       "      <td>16.0</td>\n",
       "      <td>-6.0</td>\n",
       "      <td>150.0</td>\n",
       "      <td>0.166667</td>\n",
       "    </tr>\n",
       "    <tr>\n",
       "      <th>4</th>\n",
       "      <td>7.0</td>\n",
       "      <td>8.0</td>\n",
       "      <td>7.0</td>\n",
       "      <td>22.0</td>\n",
       "      <td>-8.0</td>\n",
       "      <td>392.0</td>\n",
       "      <td>0.125000</td>\n",
       "    </tr>\n",
       "  </tbody>\n",
       "</table>\n",
       "</div>"
      ],
      "text/plain": [
       "   Odd  Even  Prime   Sum  Difference  Product  Quotient\n",
       "2  3.0   4.0    3.0  10.0        -4.0     36.0  0.250000\n",
       "3  5.0   6.0    5.0  16.0        -6.0    150.0  0.166667\n",
       "4  7.0   8.0    7.0  22.0        -8.0    392.0  0.125000"
      ]
     },
     "execution_count": 64,
     "metadata": {},
     "output_type": "execute_result"
    }
   ],
   "source": [
    "merg_df.loc[2:4]"
   ]
  },
  {
   "cell_type": "markdown",
   "id": "7b8fcba3",
   "metadata": {},
   "source": [
    "## $\\text{Some Useful Functions}$ "
   ]
  },
  {
   "cell_type": "code",
   "execution_count": 65,
   "id": "0bb21a05",
   "metadata": {},
   "outputs": [
    {
     "data": {
      "text/html": [
       "<div>\n",
       "<style scoped>\n",
       "    .dataframe tbody tr th:only-of-type {\n",
       "        vertical-align: middle;\n",
       "    }\n",
       "\n",
       "    .dataframe tbody tr th {\n",
       "        vertical-align: top;\n",
       "    }\n",
       "\n",
       "    .dataframe thead th {\n",
       "        text-align: right;\n",
       "    }\n",
       "</style>\n",
       "<table border=\"1\" class=\"dataframe\">\n",
       "  <thead>\n",
       "    <tr style=\"text-align: right;\">\n",
       "      <th></th>\n",
       "      <th>Sports</th>\n",
       "      <th>NoPl</th>\n",
       "    </tr>\n",
       "  </thead>\n",
       "  <tbody>\n",
       "    <tr>\n",
       "      <th>0</th>\n",
       "      <td>Cricket</td>\n",
       "      <td>11</td>\n",
       "    </tr>\n",
       "    <tr>\n",
       "      <th>1</th>\n",
       "      <td>Soccer</td>\n",
       "      <td>11</td>\n",
       "    </tr>\n",
       "    <tr>\n",
       "      <th>2</th>\n",
       "      <td>Tennis</td>\n",
       "      <td>02</td>\n",
       "    </tr>\n",
       "    <tr>\n",
       "      <th>3</th>\n",
       "      <td>Hockey</td>\n",
       "      <td>11</td>\n",
       "    </tr>\n",
       "    <tr>\n",
       "      <th>4</th>\n",
       "      <td>Volleyball</td>\n",
       "      <td>06</td>\n",
       "    </tr>\n",
       "    <tr>\n",
       "      <th>5</th>\n",
       "      <td>Table tennis</td>\n",
       "      <td>02</td>\n",
       "    </tr>\n",
       "    <tr>\n",
       "      <th>6</th>\n",
       "      <td>Basketball</td>\n",
       "      <td>05</td>\n",
       "    </tr>\n",
       "    <tr>\n",
       "      <th>7</th>\n",
       "      <td>Baseball</td>\n",
       "      <td>09</td>\n",
       "    </tr>\n",
       "  </tbody>\n",
       "</table>\n",
       "</div>"
      ],
      "text/plain": [
       "         Sports NoPl\n",
       "0       Cricket   11\n",
       "1        Soccer   11\n",
       "2        Tennis   02\n",
       "3        Hockey   11\n",
       "4    Volleyball   06\n",
       "5  Table tennis   02\n",
       "6    Basketball   05\n",
       "7      Baseball   09"
      ]
     },
     "execution_count": 65,
     "metadata": {},
     "output_type": "execute_result"
    }
   ],
   "source": [
    "strg_df"
   ]
  },
  {
   "cell_type": "markdown",
   "id": "dc19bfc7",
   "metadata": {},
   "source": [
    "### i. head()"
   ]
  },
  {
   "cell_type": "markdown",
   "id": "73166b1c",
   "metadata": {},
   "source": [
    "**head()** function is used to check the type of the data in the DataFrame. This helps to show few rows of the datafram. By defalt it shows first five rows of the dataframe."
   ]
  },
  {
   "cell_type": "code",
   "execution_count": 66,
   "id": "56ad108f",
   "metadata": {},
   "outputs": [
    {
     "data": {
      "text/html": [
       "<div>\n",
       "<style scoped>\n",
       "    .dataframe tbody tr th:only-of-type {\n",
       "        vertical-align: middle;\n",
       "    }\n",
       "\n",
       "    .dataframe tbody tr th {\n",
       "        vertical-align: top;\n",
       "    }\n",
       "\n",
       "    .dataframe thead th {\n",
       "        text-align: right;\n",
       "    }\n",
       "</style>\n",
       "<table border=\"1\" class=\"dataframe\">\n",
       "  <thead>\n",
       "    <tr style=\"text-align: right;\">\n",
       "      <th></th>\n",
       "      <th>Sports</th>\n",
       "      <th>NoPl</th>\n",
       "    </tr>\n",
       "  </thead>\n",
       "  <tbody>\n",
       "    <tr>\n",
       "      <th>0</th>\n",
       "      <td>Cricket</td>\n",
       "      <td>11</td>\n",
       "    </tr>\n",
       "    <tr>\n",
       "      <th>1</th>\n",
       "      <td>Soccer</td>\n",
       "      <td>11</td>\n",
       "    </tr>\n",
       "    <tr>\n",
       "      <th>2</th>\n",
       "      <td>Tennis</td>\n",
       "      <td>02</td>\n",
       "    </tr>\n",
       "    <tr>\n",
       "      <th>3</th>\n",
       "      <td>Hockey</td>\n",
       "      <td>11</td>\n",
       "    </tr>\n",
       "    <tr>\n",
       "      <th>4</th>\n",
       "      <td>Volleyball</td>\n",
       "      <td>06</td>\n",
       "    </tr>\n",
       "  </tbody>\n",
       "</table>\n",
       "</div>"
      ],
      "text/plain": [
       "       Sports NoPl\n",
       "0     Cricket   11\n",
       "1      Soccer   11\n",
       "2      Tennis   02\n",
       "3      Hockey   11\n",
       "4  Volleyball   06"
      ]
     },
     "execution_count": 66,
     "metadata": {},
     "output_type": "execute_result"
    }
   ],
   "source": [
    "strg_df.head()   # the argument inside the head() function determines, how many values we want to see\n",
    "                  # 3 here indicates, we are printing first 3 rows of our data"
   ]
  },
  {
   "cell_type": "code",
   "execution_count": 67,
   "id": "eb7d9c05",
   "metadata": {},
   "outputs": [
    {
     "data": {
      "text/html": [
       "<div>\n",
       "<style scoped>\n",
       "    .dataframe tbody tr th:only-of-type {\n",
       "        vertical-align: middle;\n",
       "    }\n",
       "\n",
       "    .dataframe tbody tr th {\n",
       "        vertical-align: top;\n",
       "    }\n",
       "\n",
       "    .dataframe thead th {\n",
       "        text-align: right;\n",
       "    }\n",
       "</style>\n",
       "<table border=\"1\" class=\"dataframe\">\n",
       "  <thead>\n",
       "    <tr style=\"text-align: right;\">\n",
       "      <th></th>\n",
       "      <th>Sports</th>\n",
       "      <th>NoPl</th>\n",
       "    </tr>\n",
       "  </thead>\n",
       "  <tbody>\n",
       "    <tr>\n",
       "      <th>0</th>\n",
       "      <td>Cricket</td>\n",
       "      <td>11</td>\n",
       "    </tr>\n",
       "    <tr>\n",
       "      <th>1</th>\n",
       "      <td>Soccer</td>\n",
       "      <td>11</td>\n",
       "    </tr>\n",
       "  </tbody>\n",
       "</table>\n",
       "</div>"
      ],
      "text/plain": [
       "    Sports NoPl\n",
       "0  Cricket   11\n",
       "1   Soccer   11"
      ]
     },
     "execution_count": 67,
     "metadata": {},
     "output_type": "execute_result"
    }
   ],
   "source": [
    "strg_df.head(2)"
   ]
  },
  {
   "cell_type": "markdown",
   "id": "5e862886",
   "metadata": {},
   "source": [
    "### ii. tail()"
   ]
  },
  {
   "cell_type": "markdown",
   "id": "c4a83dc8",
   "metadata": {},
   "source": [
    "**tail()** *Views Last Few Elements from the DataFrame*"
   ]
  },
  {
   "cell_type": "code",
   "execution_count": 68,
   "id": "bd2990b6",
   "metadata": {},
   "outputs": [
    {
     "data": {
      "text/html": [
       "<div>\n",
       "<style scoped>\n",
       "    .dataframe tbody tr th:only-of-type {\n",
       "        vertical-align: middle;\n",
       "    }\n",
       "\n",
       "    .dataframe tbody tr th {\n",
       "        vertical-align: top;\n",
       "    }\n",
       "\n",
       "    .dataframe thead th {\n",
       "        text-align: right;\n",
       "    }\n",
       "</style>\n",
       "<table border=\"1\" class=\"dataframe\">\n",
       "  <thead>\n",
       "    <tr style=\"text-align: right;\">\n",
       "      <th></th>\n",
       "      <th>Sports</th>\n",
       "      <th>NoPl</th>\n",
       "    </tr>\n",
       "  </thead>\n",
       "  <tbody>\n",
       "    <tr>\n",
       "      <th>6</th>\n",
       "      <td>Basketball</td>\n",
       "      <td>05</td>\n",
       "    </tr>\n",
       "    <tr>\n",
       "      <th>7</th>\n",
       "      <td>Baseball</td>\n",
       "      <td>09</td>\n",
       "    </tr>\n",
       "  </tbody>\n",
       "</table>\n",
       "</div>"
      ],
      "text/plain": [
       "       Sports NoPl\n",
       "6  Basketball   05\n",
       "7    Baseball   09"
      ]
     },
     "execution_count": 68,
     "metadata": {},
     "output_type": "execute_result"
    }
   ],
   "source": [
    "strg_df.tail(2)   # the argument inside the tail() function determines, how many values we want to see"
   ]
  },
  {
   "cell_type": "markdown",
   "id": "a3389902",
   "metadata": {},
   "source": [
    "### iii.  index"
   ]
  },
  {
   "cell_type": "markdown",
   "id": "1c85e89c",
   "metadata": {},
   "source": [
    "****To check name of the rows, we'll use .index method****"
   ]
  },
  {
   "cell_type": "code",
   "execution_count": 69,
   "id": "46a2f3fe",
   "metadata": {
    "scrolled": true
   },
   "outputs": [
    {
     "data": {
      "text/html": [
       "<div>\n",
       "<style scoped>\n",
       "    .dataframe tbody tr th:only-of-type {\n",
       "        vertical-align: middle;\n",
       "    }\n",
       "\n",
       "    .dataframe tbody tr th {\n",
       "        vertical-align: top;\n",
       "    }\n",
       "\n",
       "    .dataframe thead th {\n",
       "        text-align: right;\n",
       "    }\n",
       "</style>\n",
       "<table border=\"1\" class=\"dataframe\">\n",
       "  <thead>\n",
       "    <tr style=\"text-align: right;\">\n",
       "      <th></th>\n",
       "      <th>Sports</th>\n",
       "      <th>NoPl</th>\n",
       "    </tr>\n",
       "  </thead>\n",
       "  <tbody>\n",
       "    <tr>\n",
       "      <th>0</th>\n",
       "      <td>Cricket</td>\n",
       "      <td>11</td>\n",
       "    </tr>\n",
       "    <tr>\n",
       "      <th>1</th>\n",
       "      <td>Soccer</td>\n",
       "      <td>11</td>\n",
       "    </tr>\n",
       "    <tr>\n",
       "      <th>2</th>\n",
       "      <td>Tennis</td>\n",
       "      <td>02</td>\n",
       "    </tr>\n",
       "    <tr>\n",
       "      <th>3</th>\n",
       "      <td>Hockey</td>\n",
       "      <td>11</td>\n",
       "    </tr>\n",
       "    <tr>\n",
       "      <th>4</th>\n",
       "      <td>Volleyball</td>\n",
       "      <td>06</td>\n",
       "    </tr>\n",
       "    <tr>\n",
       "      <th>5</th>\n",
       "      <td>Table tennis</td>\n",
       "      <td>02</td>\n",
       "    </tr>\n",
       "    <tr>\n",
       "      <th>6</th>\n",
       "      <td>Basketball</td>\n",
       "      <td>05</td>\n",
       "    </tr>\n",
       "    <tr>\n",
       "      <th>7</th>\n",
       "      <td>Baseball</td>\n",
       "      <td>09</td>\n",
       "    </tr>\n",
       "  </tbody>\n",
       "</table>\n",
       "</div>"
      ],
      "text/plain": [
       "         Sports NoPl\n",
       "0       Cricket   11\n",
       "1        Soccer   11\n",
       "2        Tennis   02\n",
       "3        Hockey   11\n",
       "4    Volleyball   06\n",
       "5  Table tennis   02\n",
       "6    Basketball   05\n",
       "7      Baseball   09"
      ]
     },
     "execution_count": 69,
     "metadata": {},
     "output_type": "execute_result"
    }
   ],
   "source": [
    "strg_df"
   ]
  },
  {
   "cell_type": "code",
   "execution_count": 70,
   "id": "56183d21",
   "metadata": {},
   "outputs": [
    {
     "data": {
      "text/plain": [
       "RangeIndex(start=0, stop=8, step=1)"
      ]
     },
     "execution_count": 70,
     "metadata": {},
     "output_type": "execute_result"
    }
   ],
   "source": [
    "strg_df.index"
   ]
  },
  {
   "cell_type": "markdown",
   "id": "3ace0729",
   "metadata": {},
   "source": [
    "### iv. columns"
   ]
  },
  {
   "cell_type": "markdown",
   "id": "e29b37d8",
   "metadata": {},
   "source": [
    "*To check the name of the columns in a DataFrame*"
   ]
  },
  {
   "cell_type": "code",
   "execution_count": 71,
   "id": "ae9f0d21",
   "metadata": {},
   "outputs": [
    {
     "data": {
      "text/html": [
       "<div>\n",
       "<style scoped>\n",
       "    .dataframe tbody tr th:only-of-type {\n",
       "        vertical-align: middle;\n",
       "    }\n",
       "\n",
       "    .dataframe tbody tr th {\n",
       "        vertical-align: top;\n",
       "    }\n",
       "\n",
       "    .dataframe thead th {\n",
       "        text-align: right;\n",
       "    }\n",
       "</style>\n",
       "<table border=\"1\" class=\"dataframe\">\n",
       "  <thead>\n",
       "    <tr style=\"text-align: right;\">\n",
       "      <th></th>\n",
       "      <th>Sports</th>\n",
       "      <th>NoPl</th>\n",
       "    </tr>\n",
       "  </thead>\n",
       "  <tbody>\n",
       "    <tr>\n",
       "      <th>0</th>\n",
       "      <td>Cricket</td>\n",
       "      <td>11</td>\n",
       "    </tr>\n",
       "    <tr>\n",
       "      <th>1</th>\n",
       "      <td>Soccer</td>\n",
       "      <td>11</td>\n",
       "    </tr>\n",
       "    <tr>\n",
       "      <th>2</th>\n",
       "      <td>Tennis</td>\n",
       "      <td>02</td>\n",
       "    </tr>\n",
       "    <tr>\n",
       "      <th>3</th>\n",
       "      <td>Hockey</td>\n",
       "      <td>11</td>\n",
       "    </tr>\n",
       "    <tr>\n",
       "      <th>4</th>\n",
       "      <td>Volleyball</td>\n",
       "      <td>06</td>\n",
       "    </tr>\n",
       "    <tr>\n",
       "      <th>5</th>\n",
       "      <td>Table tennis</td>\n",
       "      <td>02</td>\n",
       "    </tr>\n",
       "    <tr>\n",
       "      <th>6</th>\n",
       "      <td>Basketball</td>\n",
       "      <td>05</td>\n",
       "    </tr>\n",
       "    <tr>\n",
       "      <th>7</th>\n",
       "      <td>Baseball</td>\n",
       "      <td>09</td>\n",
       "    </tr>\n",
       "  </tbody>\n",
       "</table>\n",
       "</div>"
      ],
      "text/plain": [
       "         Sports NoPl\n",
       "0       Cricket   11\n",
       "1        Soccer   11\n",
       "2        Tennis   02\n",
       "3        Hockey   11\n",
       "4    Volleyball   06\n",
       "5  Table tennis   02\n",
       "6    Basketball   05\n",
       "7      Baseball   09"
      ]
     },
     "execution_count": 71,
     "metadata": {},
     "output_type": "execute_result"
    }
   ],
   "source": [
    "strg_df"
   ]
  },
  {
   "cell_type": "code",
   "execution_count": 72,
   "id": "9dd567ae",
   "metadata": {
    "scrolled": true
   },
   "outputs": [
    {
     "data": {
      "text/plain": [
       "0         Cricket\n",
       "1          Soccer\n",
       "2          Tennis\n",
       "3          Hockey\n",
       "4      Volleyball\n",
       "5    Table tennis\n",
       "6      Basketball\n",
       "7        Baseball\n",
       "Name: Sports, dtype: object"
      ]
     },
     "execution_count": 72,
     "metadata": {},
     "output_type": "execute_result"
    }
   ],
   "source": [
    "strg_df.Sports"
   ]
  },
  {
   "cell_type": "markdown",
   "id": "15d7c737",
   "metadata": {},
   "source": [
    "### v. count()"
   ]
  },
  {
   "cell_type": "markdown",
   "id": "2cf7e824",
   "metadata": {},
   "source": [
    "From Pandas **.count()** *is used to find number of elements in dataframe*"
   ]
  },
  {
   "cell_type": "code",
   "execution_count": 73,
   "id": "38400c96",
   "metadata": {},
   "outputs": [
    {
     "data": {
      "text/plain": [
       "Sports    8\n",
       "NoPl      8\n",
       "dtype: int64"
      ]
     },
     "execution_count": 73,
     "metadata": {},
     "output_type": "execute_result"
    }
   ],
   "source": [
    "strg_df.count()"
   ]
  },
  {
   "cell_type": "markdown",
   "id": "005906d8",
   "metadata": {},
   "source": [
    "### vi.  mean()"
   ]
  },
  {
   "cell_type": "markdown",
   "id": "d4983e07",
   "metadata": {},
   "source": [
    "**mean()** *function is used to find average value of all the columns*"
   ]
  },
  {
   "cell_type": "code",
   "execution_count": 74,
   "id": "c9645bbf",
   "metadata": {},
   "outputs": [
    {
     "data": {
      "text/plain": [
       "138877638252563.62"
      ]
     },
     "execution_count": 74,
     "metadata": {},
     "output_type": "execute_result"
    }
   ],
   "source": [
    "strg_df.NoPl.mean()"
   ]
  },
  {
   "cell_type": "markdown",
   "id": "02dfc232",
   "metadata": {},
   "source": [
    "****To find mean value of a specific column****"
   ]
  },
  {
   "cell_type": "markdown",
   "id": "a50fb80d",
   "metadata": {},
   "source": [
    "### vi. describe() "
   ]
  },
  {
   "cell_type": "markdown",
   "id": "f3cea4a5",
   "metadata": {},
   "source": [
    "**describe()** *function computes a variety of summary statistics about a dataframe*\n",
    "*It also give us an idea how our variable are distributed*"
   ]
  },
  {
   "cell_type": "code",
   "execution_count": 75,
   "id": "51579f0d",
   "metadata": {},
   "outputs": [
    {
     "data": {
      "text/html": [
       "<div>\n",
       "<style scoped>\n",
       "    .dataframe tbody tr th:only-of-type {\n",
       "        vertical-align: middle;\n",
       "    }\n",
       "\n",
       "    .dataframe tbody tr th {\n",
       "        vertical-align: top;\n",
       "    }\n",
       "\n",
       "    .dataframe thead th {\n",
       "        text-align: right;\n",
       "    }\n",
       "</style>\n",
       "<table border=\"1\" class=\"dataframe\">\n",
       "  <thead>\n",
       "    <tr style=\"text-align: right;\">\n",
       "      <th></th>\n",
       "      <th>Sports</th>\n",
       "      <th>NoPl</th>\n",
       "    </tr>\n",
       "  </thead>\n",
       "  <tbody>\n",
       "    <tr>\n",
       "      <th>count</th>\n",
       "      <td>8</td>\n",
       "      <td>8</td>\n",
       "    </tr>\n",
       "    <tr>\n",
       "      <th>unique</th>\n",
       "      <td>8</td>\n",
       "      <td>5</td>\n",
       "    </tr>\n",
       "    <tr>\n",
       "      <th>top</th>\n",
       "      <td>Baseball</td>\n",
       "      <td>11</td>\n",
       "    </tr>\n",
       "    <tr>\n",
       "      <th>freq</th>\n",
       "      <td>1</td>\n",
       "      <td>3</td>\n",
       "    </tr>\n",
       "  </tbody>\n",
       "</table>\n",
       "</div>"
      ],
      "text/plain": [
       "          Sports NoPl\n",
       "count          8    8\n",
       "unique         8    5\n",
       "top     Baseball   11\n",
       "freq           1    3"
      ]
     },
     "execution_count": 75,
     "metadata": {},
     "output_type": "execute_result"
    }
   ],
   "source": [
    "stats = strg_df.describe()\n",
    "stats"
   ]
  },
  {
   "cell_type": "markdown",
   "id": "de41f5ff",
   "metadata": {},
   "source": [
    "### vii.  shape"
   ]
  },
  {
   "cell_type": "markdown",
   "id": "07f9a92d",
   "metadata": {},
   "source": [
    "**shape** is an important attribute which gives us the dimensions of data (number of rows and columns)*"
   ]
  },
  {
   "cell_type": "code",
   "execution_count": 76,
   "id": "10188beb",
   "metadata": {},
   "outputs": [
    {
     "data": {
      "text/plain": [
       "(8, 2)"
      ]
     },
     "execution_count": 76,
     "metadata": {},
     "output_type": "execute_result"
    }
   ],
   "source": [
    "strg_df.shape"
   ]
  },
  {
   "cell_type": "markdown",
   "id": "d2bd69d7",
   "metadata": {},
   "source": [
    "### viii. info()"
   ]
  },
  {
   "cell_type": "markdown",
   "id": "e9962b60",
   "metadata": {},
   "source": [
    "**info()** function gives important details regarding a dataset*\n",
    "\n",
    "*such as, number of rows, and columns, type of data, number of non null values, memory consumption etc*"
   ]
  },
  {
   "cell_type": "code",
   "execution_count": 77,
   "id": "198ea878",
   "metadata": {},
   "outputs": [
    {
     "name": "stdout",
     "output_type": "stream",
     "text": [
      "<class 'pandas.core.frame.DataFrame'>\n",
      "RangeIndex: 8 entries, 0 to 7\n",
      "Data columns (total 2 columns):\n",
      " #   Column  Non-Null Count  Dtype \n",
      "---  ------  --------------  ----- \n",
      " 0   Sports  8 non-null      object\n",
      " 1   NoPl    8 non-null      object\n",
      "dtypes: object(2)\n",
      "memory usage: 256.0+ bytes\n"
     ]
    }
   ],
   "source": [
    "strg_df.info()"
   ]
  },
  {
   "cell_type": "markdown",
   "id": "69e5c1c5",
   "metadata": {},
   "source": [
    "**info()** *should be the very first command, after importing or uploading a dataset*"
   ]
  },
  {
   "cell_type": "markdown",
   "id": "97a00817",
   "metadata": {},
   "source": [
    "### ix. append()"
   ]
  },
  {
   "cell_type": "markdown",
   "id": "0616851f",
   "metadata": {},
   "source": [
    "**append()** function is very useful function for appending datasets."
   ]
  },
  {
   "cell_type": "code",
   "execution_count": 78,
   "id": "662fcfb0",
   "metadata": {},
   "outputs": [],
   "source": [
    "a = [1,2,3,4,5,6,7] # where 'a' is a list."
   ]
  },
  {
   "cell_type": "code",
   "execution_count": 79,
   "id": "fa9f7097",
   "metadata": {},
   "outputs": [
    {
     "data": {
      "text/plain": [
       "[1, 2, 3, 4, 5, 6, 7, 5]"
      ]
     },
     "execution_count": 79,
     "metadata": {},
     "output_type": "execute_result"
    }
   ],
   "source": [
    "a.append(5)\n",
    "a"
   ]
  },
  {
   "cell_type": "markdown",
   "id": "cf18a7ba",
   "metadata": {},
   "source": [
    "### x.  isnull()"
   ]
  },
  {
   "cell_type": "markdown",
   "id": "aedf9890",
   "metadata": {},
   "source": [
    "**In most of the case dataset has many missing values. These missing values are identified in the form of 'NaN' values (Not a Number)**\n",
    "\n",
    "*In this situation pandas built-in function **isnull()** comes very useful for removing these NaN values*"
   ]
  },
  {
   "cell_type": "code",
   "execution_count": 80,
   "id": "a46b6281",
   "metadata": {},
   "outputs": [
    {
     "data": {
      "text/html": [
       "<div>\n",
       "<style scoped>\n",
       "    .dataframe tbody tr th:only-of-type {\n",
       "        vertical-align: middle;\n",
       "    }\n",
       "\n",
       "    .dataframe tbody tr th {\n",
       "        vertical-align: top;\n",
       "    }\n",
       "\n",
       "    .dataframe thead th {\n",
       "        text-align: right;\n",
       "    }\n",
       "</style>\n",
       "<table border=\"1\" class=\"dataframe\">\n",
       "  <thead>\n",
       "    <tr style=\"text-align: right;\">\n",
       "      <th></th>\n",
       "      <th>Sports</th>\n",
       "      <th>NoPl</th>\n",
       "    </tr>\n",
       "  </thead>\n",
       "  <tbody>\n",
       "    <tr>\n",
       "      <th>0</th>\n",
       "      <td>Cricket</td>\n",
       "      <td>11</td>\n",
       "    </tr>\n",
       "    <tr>\n",
       "      <th>1</th>\n",
       "      <td>Soccer</td>\n",
       "      <td>11</td>\n",
       "    </tr>\n",
       "    <tr>\n",
       "      <th>2</th>\n",
       "      <td>Tennis</td>\n",
       "      <td>02</td>\n",
       "    </tr>\n",
       "    <tr>\n",
       "      <th>3</th>\n",
       "      <td>Hockey</td>\n",
       "      <td>11</td>\n",
       "    </tr>\n",
       "    <tr>\n",
       "      <th>4</th>\n",
       "      <td>Volleyball</td>\n",
       "      <td>06</td>\n",
       "    </tr>\n",
       "    <tr>\n",
       "      <th>5</th>\n",
       "      <td>Table tennis</td>\n",
       "      <td>02</td>\n",
       "    </tr>\n",
       "    <tr>\n",
       "      <th>6</th>\n",
       "      <td>Basketball</td>\n",
       "      <td>05</td>\n",
       "    </tr>\n",
       "    <tr>\n",
       "      <th>7</th>\n",
       "      <td>Baseball</td>\n",
       "      <td>09</td>\n",
       "    </tr>\n",
       "  </tbody>\n",
       "</table>\n",
       "</div>"
      ],
      "text/plain": [
       "         Sports NoPl\n",
       "0       Cricket   11\n",
       "1        Soccer   11\n",
       "2        Tennis   02\n",
       "3        Hockey   11\n",
       "4    Volleyball   06\n",
       "5  Table tennis   02\n",
       "6    Basketball   05\n",
       "7      Baseball   09"
      ]
     },
     "execution_count": 80,
     "metadata": {},
     "output_type": "execute_result"
    }
   ],
   "source": [
    "strg_df"
   ]
  },
  {
   "cell_type": "code",
   "execution_count": 81,
   "id": "ca82105b",
   "metadata": {},
   "outputs": [
    {
     "data": {
      "text/html": [
       "<div>\n",
       "<style scoped>\n",
       "    .dataframe tbody tr th:only-of-type {\n",
       "        vertical-align: middle;\n",
       "    }\n",
       "\n",
       "    .dataframe tbody tr th {\n",
       "        vertical-align: top;\n",
       "    }\n",
       "\n",
       "    .dataframe thead th {\n",
       "        text-align: right;\n",
       "    }\n",
       "</style>\n",
       "<table border=\"1\" class=\"dataframe\">\n",
       "  <thead>\n",
       "    <tr style=\"text-align: right;\">\n",
       "      <th></th>\n",
       "      <th>Sports</th>\n",
       "      <th>NoPl</th>\n",
       "    </tr>\n",
       "  </thead>\n",
       "  <tbody>\n",
       "    <tr>\n",
       "      <th>0</th>\n",
       "      <td>False</td>\n",
       "      <td>False</td>\n",
       "    </tr>\n",
       "    <tr>\n",
       "      <th>1</th>\n",
       "      <td>False</td>\n",
       "      <td>False</td>\n",
       "    </tr>\n",
       "    <tr>\n",
       "      <th>2</th>\n",
       "      <td>False</td>\n",
       "      <td>False</td>\n",
       "    </tr>\n",
       "    <tr>\n",
       "      <th>3</th>\n",
       "      <td>False</td>\n",
       "      <td>False</td>\n",
       "    </tr>\n",
       "    <tr>\n",
       "      <th>4</th>\n",
       "      <td>False</td>\n",
       "      <td>False</td>\n",
       "    </tr>\n",
       "    <tr>\n",
       "      <th>5</th>\n",
       "      <td>False</td>\n",
       "      <td>False</td>\n",
       "    </tr>\n",
       "    <tr>\n",
       "      <th>6</th>\n",
       "      <td>False</td>\n",
       "      <td>False</td>\n",
       "    </tr>\n",
       "    <tr>\n",
       "      <th>7</th>\n",
       "      <td>False</td>\n",
       "      <td>False</td>\n",
       "    </tr>\n",
       "  </tbody>\n",
       "</table>\n",
       "</div>"
      ],
      "text/plain": [
       "   Sports   NoPl\n",
       "0   False  False\n",
       "1   False  False\n",
       "2   False  False\n",
       "3   False  False\n",
       "4   False  False\n",
       "5   False  False\n",
       "6   False  False\n",
       "7   False  False"
      ]
     },
     "execution_count": 81,
     "metadata": {},
     "output_type": "execute_result"
    }
   ],
   "source": [
    "strg_df.isnull()"
   ]
  },
  {
   "cell_type": "markdown",
   "id": "8a1ce506",
   "metadata": {},
   "source": [
    "*In the above dataframe, false means, there is no missing value.*"
   ]
  },
  {
   "cell_type": "code",
   "execution_count": 82,
   "id": "f632e548",
   "metadata": {
    "scrolled": true
   },
   "outputs": [
    {
     "data": {
      "text/html": [
       "<div>\n",
       "<style scoped>\n",
       "    .dataframe tbody tr th:only-of-type {\n",
       "        vertical-align: middle;\n",
       "    }\n",
       "\n",
       "    .dataframe tbody tr th {\n",
       "        vertical-align: top;\n",
       "    }\n",
       "\n",
       "    .dataframe thead th {\n",
       "        text-align: right;\n",
       "    }\n",
       "</style>\n",
       "<table border=\"1\" class=\"dataframe\">\n",
       "  <thead>\n",
       "    <tr style=\"text-align: right;\">\n",
       "      <th></th>\n",
       "      <th>Sports</th>\n",
       "      <th>NoPl</th>\n",
       "      <th>Fans_billion</th>\n",
       "    </tr>\n",
       "  </thead>\n",
       "  <tbody>\n",
       "    <tr>\n",
       "      <th>0</th>\n",
       "      <td>Cricket</td>\n",
       "      <td>11</td>\n",
       "      <td>2.5</td>\n",
       "    </tr>\n",
       "    <tr>\n",
       "      <th>1</th>\n",
       "      <td>Soccer</td>\n",
       "      <td>11</td>\n",
       "      <td>4.0</td>\n",
       "    </tr>\n",
       "    <tr>\n",
       "      <th>2</th>\n",
       "      <td>Tennis</td>\n",
       "      <td>02</td>\n",
       "      <td>NaN</td>\n",
       "    </tr>\n",
       "    <tr>\n",
       "      <th>3</th>\n",
       "      <td>Hockey</td>\n",
       "      <td>11</td>\n",
       "      <td>NaN</td>\n",
       "    </tr>\n",
       "    <tr>\n",
       "      <th>4</th>\n",
       "      <td>Volleyball</td>\n",
       "      <td>06</td>\n",
       "      <td>NaN</td>\n",
       "    </tr>\n",
       "    <tr>\n",
       "      <th>5</th>\n",
       "      <td>Table tennis</td>\n",
       "      <td>02</td>\n",
       "      <td>NaN</td>\n",
       "    </tr>\n",
       "    <tr>\n",
       "      <th>6</th>\n",
       "      <td>Basketball</td>\n",
       "      <td>05</td>\n",
       "      <td>NaN</td>\n",
       "    </tr>\n",
       "    <tr>\n",
       "      <th>7</th>\n",
       "      <td>Baseball</td>\n",
       "      <td>09</td>\n",
       "      <td>NaN</td>\n",
       "    </tr>\n",
       "  </tbody>\n",
       "</table>\n",
       "</div>"
      ],
      "text/plain": [
       "         Sports NoPl  Fans_billion\n",
       "0       Cricket   11           2.5\n",
       "1        Soccer   11           4.0\n",
       "2        Tennis   02           NaN\n",
       "3        Hockey   11           NaN\n",
       "4    Volleyball   06           NaN\n",
       "5  Table tennis   02           NaN\n",
       "6    Basketball   05           NaN\n",
       "7      Baseball   09           NaN"
      ]
     },
     "execution_count": 82,
     "metadata": {},
     "output_type": "execute_result"
    }
   ],
   "source": [
    "strg_df['Fans_billion'] = pd.Series(data = [2.5, 4])\n",
    "strg_df"
   ]
  },
  {
   "cell_type": "code",
   "execution_count": 83,
   "id": "6f689bd8",
   "metadata": {
    "scrolled": true
   },
   "outputs": [
    {
     "data": {
      "text/html": [
       "<div>\n",
       "<style scoped>\n",
       "    .dataframe tbody tr th:only-of-type {\n",
       "        vertical-align: middle;\n",
       "    }\n",
       "\n",
       "    .dataframe tbody tr th {\n",
       "        vertical-align: top;\n",
       "    }\n",
       "\n",
       "    .dataframe thead th {\n",
       "        text-align: right;\n",
       "    }\n",
       "</style>\n",
       "<table border=\"1\" class=\"dataframe\">\n",
       "  <thead>\n",
       "    <tr style=\"text-align: right;\">\n",
       "      <th></th>\n",
       "      <th>Sports</th>\n",
       "      <th>NoPl</th>\n",
       "      <th>Fans_billion</th>\n",
       "    </tr>\n",
       "  </thead>\n",
       "  <tbody>\n",
       "    <tr>\n",
       "      <th>0</th>\n",
       "      <td>False</td>\n",
       "      <td>False</td>\n",
       "      <td>False</td>\n",
       "    </tr>\n",
       "    <tr>\n",
       "      <th>1</th>\n",
       "      <td>False</td>\n",
       "      <td>False</td>\n",
       "      <td>False</td>\n",
       "    </tr>\n",
       "    <tr>\n",
       "      <th>2</th>\n",
       "      <td>False</td>\n",
       "      <td>False</td>\n",
       "      <td>True</td>\n",
       "    </tr>\n",
       "    <tr>\n",
       "      <th>3</th>\n",
       "      <td>False</td>\n",
       "      <td>False</td>\n",
       "      <td>True</td>\n",
       "    </tr>\n",
       "    <tr>\n",
       "      <th>4</th>\n",
       "      <td>False</td>\n",
       "      <td>False</td>\n",
       "      <td>True</td>\n",
       "    </tr>\n",
       "    <tr>\n",
       "      <th>5</th>\n",
       "      <td>False</td>\n",
       "      <td>False</td>\n",
       "      <td>True</td>\n",
       "    </tr>\n",
       "    <tr>\n",
       "      <th>6</th>\n",
       "      <td>False</td>\n",
       "      <td>False</td>\n",
       "      <td>True</td>\n",
       "    </tr>\n",
       "    <tr>\n",
       "      <th>7</th>\n",
       "      <td>False</td>\n",
       "      <td>False</td>\n",
       "      <td>True</td>\n",
       "    </tr>\n",
       "  </tbody>\n",
       "</table>\n",
       "</div>"
      ],
      "text/plain": [
       "   Sports   NoPl  Fans_billion\n",
       "0   False  False         False\n",
       "1   False  False         False\n",
       "2   False  False          True\n",
       "3   False  False          True\n",
       "4   False  False          True\n",
       "5   False  False          True\n",
       "6   False  False          True\n",
       "7   False  False          True"
      ]
     },
     "execution_count": 83,
     "metadata": {},
     "output_type": "execute_result"
    }
   ],
   "source": [
    "strg_df.isnull()"
   ]
  },
  {
   "cell_type": "markdown",
   "id": "da11d21c",
   "metadata": {},
   "source": [
    "* Notice isnull() returns a DataFrame of two values, either 'True' or 'False'\n",
    "\n",
    "* True repesents it has a missing values\n",
    "\n",
    "* While False represents it doesn't"
   ]
  },
  {
   "cell_type": "markdown",
   "id": "457691b4",
   "metadata": {},
   "source": [
    "**Total number of missing values in each column can be found $sum()$ funtion.**"
   ]
  },
  {
   "cell_type": "code",
   "execution_count": 84,
   "id": "e8da1f1c",
   "metadata": {},
   "outputs": [
    {
     "data": {
      "text/plain": [
       "Sports          0\n",
       "NoPl            0\n",
       "Fans_billion    6\n",
       "dtype: int64"
      ]
     },
     "execution_count": 84,
     "metadata": {},
     "output_type": "execute_result"
    }
   ],
   "source": [
    "strg_df.isnull().sum()"
   ]
  },
  {
   "cell_type": "markdown",
   "id": "35887da5",
   "metadata": {},
   "source": [
    "**There are 6 missing values in 4th columns Fans_billion.**"
   ]
  },
  {
   "cell_type": "markdown",
   "id": "62a3a64f",
   "metadata": {},
   "source": [
    "### xi. fillna()"
   ]
  },
  {
   "cell_type": "markdown",
   "id": "b47b3168",
   "metadata": {},
   "source": [
    "****The proces of replacing all the missing values from the dataset by some other value is known as imputation****\n",
    "\n",
    "****Imputation is a feature engineering technique to keep data that has missing values****\n",
    "\n",
    "****Usually we replace NaN value with either mean value of the column or median value but we can always replace it with a value of our choice****"
   ]
  },
  {
   "cell_type": "code",
   "execution_count": 85,
   "id": "1d110515",
   "metadata": {},
   "outputs": [
    {
     "data": {
      "text/html": [
       "<div>\n",
       "<style scoped>\n",
       "    .dataframe tbody tr th:only-of-type {\n",
       "        vertical-align: middle;\n",
       "    }\n",
       "\n",
       "    .dataframe tbody tr th {\n",
       "        vertical-align: top;\n",
       "    }\n",
       "\n",
       "    .dataframe thead th {\n",
       "        text-align: right;\n",
       "    }\n",
       "</style>\n",
       "<table border=\"1\" class=\"dataframe\">\n",
       "  <thead>\n",
       "    <tr style=\"text-align: right;\">\n",
       "      <th></th>\n",
       "      <th>Sports</th>\n",
       "      <th>NoPl</th>\n",
       "      <th>Fans_billion</th>\n",
       "    </tr>\n",
       "  </thead>\n",
       "  <tbody>\n",
       "    <tr>\n",
       "      <th>0</th>\n",
       "      <td>Cricket</td>\n",
       "      <td>11</td>\n",
       "      <td>2.5</td>\n",
       "    </tr>\n",
       "    <tr>\n",
       "      <th>1</th>\n",
       "      <td>Soccer</td>\n",
       "      <td>11</td>\n",
       "      <td>4.0</td>\n",
       "    </tr>\n",
       "    <tr>\n",
       "      <th>2</th>\n",
       "      <td>Tennis</td>\n",
       "      <td>02</td>\n",
       "      <td>NaN</td>\n",
       "    </tr>\n",
       "    <tr>\n",
       "      <th>3</th>\n",
       "      <td>Hockey</td>\n",
       "      <td>11</td>\n",
       "      <td>NaN</td>\n",
       "    </tr>\n",
       "    <tr>\n",
       "      <th>4</th>\n",
       "      <td>Volleyball</td>\n",
       "      <td>06</td>\n",
       "      <td>NaN</td>\n",
       "    </tr>\n",
       "    <tr>\n",
       "      <th>5</th>\n",
       "      <td>Table tennis</td>\n",
       "      <td>02</td>\n",
       "      <td>NaN</td>\n",
       "    </tr>\n",
       "    <tr>\n",
       "      <th>6</th>\n",
       "      <td>Basketball</td>\n",
       "      <td>05</td>\n",
       "      <td>NaN</td>\n",
       "    </tr>\n",
       "    <tr>\n",
       "      <th>7</th>\n",
       "      <td>Baseball</td>\n",
       "      <td>09</td>\n",
       "      <td>NaN</td>\n",
       "    </tr>\n",
       "  </tbody>\n",
       "</table>\n",
       "</div>"
      ],
      "text/plain": [
       "         Sports NoPl  Fans_billion\n",
       "0       Cricket   11           2.5\n",
       "1        Soccer   11           4.0\n",
       "2        Tennis   02           NaN\n",
       "3        Hockey   11           NaN\n",
       "4    Volleyball   06           NaN\n",
       "5  Table tennis   02           NaN\n",
       "6    Basketball   05           NaN\n",
       "7      Baseball   09           NaN"
      ]
     },
     "execution_count": 85,
     "metadata": {},
     "output_type": "execute_result"
    }
   ],
   "source": [
    "strg_df"
   ]
  },
  {
   "cell_type": "markdown",
   "id": "1b3ff5ee",
   "metadata": {},
   "source": [
    "****All the missing values will be replaced from the last column with 1.5. mostly it is repalced with the average value of that column****"
   ]
  },
  {
   "cell_type": "code",
   "execution_count": 86,
   "id": "e733f86a",
   "metadata": {},
   "outputs": [
    {
     "data": {
      "text/html": [
       "<div>\n",
       "<style scoped>\n",
       "    .dataframe tbody tr th:only-of-type {\n",
       "        vertical-align: middle;\n",
       "    }\n",
       "\n",
       "    .dataframe tbody tr th {\n",
       "        vertical-align: top;\n",
       "    }\n",
       "\n",
       "    .dataframe thead th {\n",
       "        text-align: right;\n",
       "    }\n",
       "</style>\n",
       "<table border=\"1\" class=\"dataframe\">\n",
       "  <thead>\n",
       "    <tr style=\"text-align: right;\">\n",
       "      <th></th>\n",
       "      <th>Sports</th>\n",
       "      <th>NoPl</th>\n",
       "      <th>Fans_billion</th>\n",
       "    </tr>\n",
       "  </thead>\n",
       "  <tbody>\n",
       "    <tr>\n",
       "      <th>0</th>\n",
       "      <td>Cricket</td>\n",
       "      <td>11</td>\n",
       "      <td>2.5</td>\n",
       "    </tr>\n",
       "    <tr>\n",
       "      <th>1</th>\n",
       "      <td>Soccer</td>\n",
       "      <td>11</td>\n",
       "      <td>4.0</td>\n",
       "    </tr>\n",
       "    <tr>\n",
       "      <th>2</th>\n",
       "      <td>Tennis</td>\n",
       "      <td>02</td>\n",
       "      <td>1.5</td>\n",
       "    </tr>\n",
       "    <tr>\n",
       "      <th>3</th>\n",
       "      <td>Hockey</td>\n",
       "      <td>11</td>\n",
       "      <td>1.5</td>\n",
       "    </tr>\n",
       "    <tr>\n",
       "      <th>4</th>\n",
       "      <td>Volleyball</td>\n",
       "      <td>06</td>\n",
       "      <td>1.5</td>\n",
       "    </tr>\n",
       "    <tr>\n",
       "      <th>5</th>\n",
       "      <td>Table tennis</td>\n",
       "      <td>02</td>\n",
       "      <td>1.5</td>\n",
       "    </tr>\n",
       "    <tr>\n",
       "      <th>6</th>\n",
       "      <td>Basketball</td>\n",
       "      <td>05</td>\n",
       "      <td>1.5</td>\n",
       "    </tr>\n",
       "    <tr>\n",
       "      <th>7</th>\n",
       "      <td>Baseball</td>\n",
       "      <td>09</td>\n",
       "      <td>1.5</td>\n",
       "    </tr>\n",
       "  </tbody>\n",
       "</table>\n",
       "</div>"
      ],
      "text/plain": [
       "         Sports NoPl  Fans_billion\n",
       "0       Cricket   11           2.5\n",
       "1        Soccer   11           4.0\n",
       "2        Tennis   02           1.5\n",
       "3        Hockey   11           1.5\n",
       "4    Volleyball   06           1.5\n",
       "5  Table tennis   02           1.5\n",
       "6    Basketball   05           1.5\n",
       "7      Baseball   09           1.5"
      ]
     },
     "execution_count": 86,
     "metadata": {},
     "output_type": "execute_result"
    }
   ],
   "source": [
    "filled_df = strg_df.fillna(1.5)\n",
    "filled_df"
   ]
  },
  {
   "cell_type": "markdown",
   "id": "8b9f760e",
   "metadata": {},
   "source": [
    "**Filling with the average value of the columns**"
   ]
  },
  {
   "cell_type": "code",
   "execution_count": 87,
   "id": "fb811d7b",
   "metadata": {},
   "outputs": [
    {
     "data": {
      "text/html": [
       "<div>\n",
       "<style scoped>\n",
       "    .dataframe tbody tr th:only-of-type {\n",
       "        vertical-align: middle;\n",
       "    }\n",
       "\n",
       "    .dataframe tbody tr th {\n",
       "        vertical-align: top;\n",
       "    }\n",
       "\n",
       "    .dataframe thead th {\n",
       "        text-align: right;\n",
       "    }\n",
       "</style>\n",
       "<table border=\"1\" class=\"dataframe\">\n",
       "  <thead>\n",
       "    <tr style=\"text-align: right;\">\n",
       "      <th></th>\n",
       "      <th>Sports</th>\n",
       "      <th>NoPl</th>\n",
       "      <th>Fans_billion</th>\n",
       "    </tr>\n",
       "  </thead>\n",
       "  <tbody>\n",
       "    <tr>\n",
       "      <th>0</th>\n",
       "      <td>Cricket</td>\n",
       "      <td>11</td>\n",
       "      <td>2.50</td>\n",
       "    </tr>\n",
       "    <tr>\n",
       "      <th>1</th>\n",
       "      <td>Soccer</td>\n",
       "      <td>11</td>\n",
       "      <td>4.00</td>\n",
       "    </tr>\n",
       "    <tr>\n",
       "      <th>2</th>\n",
       "      <td>Tennis</td>\n",
       "      <td>02</td>\n",
       "      <td>3.25</td>\n",
       "    </tr>\n",
       "    <tr>\n",
       "      <th>3</th>\n",
       "      <td>Hockey</td>\n",
       "      <td>11</td>\n",
       "      <td>3.25</td>\n",
       "    </tr>\n",
       "    <tr>\n",
       "      <th>4</th>\n",
       "      <td>Volleyball</td>\n",
       "      <td>06</td>\n",
       "      <td>3.25</td>\n",
       "    </tr>\n",
       "    <tr>\n",
       "      <th>5</th>\n",
       "      <td>Table tennis</td>\n",
       "      <td>02</td>\n",
       "      <td>3.25</td>\n",
       "    </tr>\n",
       "    <tr>\n",
       "      <th>6</th>\n",
       "      <td>Basketball</td>\n",
       "      <td>05</td>\n",
       "      <td>3.25</td>\n",
       "    </tr>\n",
       "    <tr>\n",
       "      <th>7</th>\n",
       "      <td>Baseball</td>\n",
       "      <td>09</td>\n",
       "      <td>3.25</td>\n",
       "    </tr>\n",
       "  </tbody>\n",
       "</table>\n",
       "</div>"
      ],
      "text/plain": [
       "         Sports NoPl  Fans_billion\n",
       "0       Cricket   11          2.50\n",
       "1        Soccer   11          4.00\n",
       "2        Tennis   02          3.25\n",
       "3        Hockey   11          3.25\n",
       "4    Volleyball   06          3.25\n",
       "5  Table tennis   02          3.25\n",
       "6    Basketball   05          3.25\n",
       "7      Baseball   09          3.25"
      ]
     },
     "execution_count": 87,
     "metadata": {},
     "output_type": "execute_result"
    }
   ],
   "source": [
    "fill_avg = strg_df.fillna(strg_df[\"Fans_billion\"].mean())\n",
    "fill_avg"
   ]
  },
  {
   "cell_type": "markdown",
   "id": "b2bdd9a3",
   "metadata": {},
   "source": [
    "### xiii. loc"
   ]
  },
  {
   "cell_type": "markdown",
   "id": "467e500f",
   "metadata": {},
   "source": [
    "**loc** is used to locate rows by name."
   ]
  },
  {
   "cell_type": "code",
   "execution_count": 88,
   "id": "86938cc1",
   "metadata": {},
   "outputs": [
    {
     "data": {
      "text/html": [
       "<div>\n",
       "<style scoped>\n",
       "    .dataframe tbody tr th:only-of-type {\n",
       "        vertical-align: middle;\n",
       "    }\n",
       "\n",
       "    .dataframe tbody tr th {\n",
       "        vertical-align: top;\n",
       "    }\n",
       "\n",
       "    .dataframe thead th {\n",
       "        text-align: right;\n",
       "    }\n",
       "</style>\n",
       "<table border=\"1\" class=\"dataframe\">\n",
       "  <thead>\n",
       "    <tr style=\"text-align: right;\">\n",
       "      <th></th>\n",
       "      <th>Sports</th>\n",
       "      <th>NoPl</th>\n",
       "      <th>Fans_billion</th>\n",
       "    </tr>\n",
       "  </thead>\n",
       "  <tbody>\n",
       "    <tr>\n",
       "      <th>0</th>\n",
       "      <td>Cricket</td>\n",
       "      <td>11</td>\n",
       "      <td>2.5</td>\n",
       "    </tr>\n",
       "    <tr>\n",
       "      <th>1</th>\n",
       "      <td>Soccer</td>\n",
       "      <td>11</td>\n",
       "      <td>4.0</td>\n",
       "    </tr>\n",
       "    <tr>\n",
       "      <th>2</th>\n",
       "      <td>Tennis</td>\n",
       "      <td>02</td>\n",
       "      <td>NaN</td>\n",
       "    </tr>\n",
       "    <tr>\n",
       "      <th>3</th>\n",
       "      <td>Hockey</td>\n",
       "      <td>11</td>\n",
       "      <td>NaN</td>\n",
       "    </tr>\n",
       "    <tr>\n",
       "      <th>4</th>\n",
       "      <td>Volleyball</td>\n",
       "      <td>06</td>\n",
       "      <td>NaN</td>\n",
       "    </tr>\n",
       "    <tr>\n",
       "      <th>5</th>\n",
       "      <td>Table tennis</td>\n",
       "      <td>02</td>\n",
       "      <td>NaN</td>\n",
       "    </tr>\n",
       "    <tr>\n",
       "      <th>6</th>\n",
       "      <td>Basketball</td>\n",
       "      <td>05</td>\n",
       "      <td>NaN</td>\n",
       "    </tr>\n",
       "    <tr>\n",
       "      <th>7</th>\n",
       "      <td>Baseball</td>\n",
       "      <td>09</td>\n",
       "      <td>NaN</td>\n",
       "    </tr>\n",
       "  </tbody>\n",
       "</table>\n",
       "</div>"
      ],
      "text/plain": [
       "         Sports NoPl  Fans_billion\n",
       "0       Cricket   11           2.5\n",
       "1        Soccer   11           4.0\n",
       "2        Tennis   02           NaN\n",
       "3        Hockey   11           NaN\n",
       "4    Volleyball   06           NaN\n",
       "5  Table tennis   02           NaN\n",
       "6    Basketball   05           NaN\n",
       "7      Baseball   09           NaN"
      ]
     },
     "execution_count": 88,
     "metadata": {},
     "output_type": "execute_result"
    }
   ],
   "source": [
    "strg_df"
   ]
  },
  {
   "cell_type": "code",
   "execution_count": 89,
   "id": "9169e7e7",
   "metadata": {},
   "outputs": [
    {
     "data": {
      "text/html": [
       "<div>\n",
       "<style scoped>\n",
       "    .dataframe tbody tr th:only-of-type {\n",
       "        vertical-align: middle;\n",
       "    }\n",
       "\n",
       "    .dataframe tbody tr th {\n",
       "        vertical-align: top;\n",
       "    }\n",
       "\n",
       "    .dataframe thead th {\n",
       "        text-align: right;\n",
       "    }\n",
       "</style>\n",
       "<table border=\"1\" class=\"dataframe\">\n",
       "  <thead>\n",
       "    <tr style=\"text-align: right;\">\n",
       "      <th></th>\n",
       "      <th>0</th>\n",
       "    </tr>\n",
       "  </thead>\n",
       "  <tbody>\n",
       "    <tr>\n",
       "      <th>0</th>\n",
       "      <td>1</td>\n",
       "    </tr>\n",
       "    <tr>\n",
       "      <th>1</th>\n",
       "      <td>2</td>\n",
       "    </tr>\n",
       "    <tr>\n",
       "      <th>2</th>\n",
       "      <td>3</td>\n",
       "    </tr>\n",
       "    <tr>\n",
       "      <th>3</th>\n",
       "      <td>4</td>\n",
       "    </tr>\n",
       "    <tr>\n",
       "      <th>4</th>\n",
       "      <td>5</td>\n",
       "    </tr>\n",
       "    <tr>\n",
       "      <th>5</th>\n",
       "      <td>6</td>\n",
       "    </tr>\n",
       "    <tr>\n",
       "      <th>6</th>\n",
       "      <td>7</td>\n",
       "    </tr>\n",
       "    <tr>\n",
       "      <th>7</th>\n",
       "      <td>8</td>\n",
       "    </tr>\n",
       "  </tbody>\n",
       "</table>\n",
       "</div>"
      ],
      "text/plain": [
       "   0\n",
       "0  1\n",
       "1  2\n",
       "2  3\n",
       "3  4\n",
       "4  5\n",
       "5  6\n",
       "6  7\n",
       "7  8"
      ]
     },
     "execution_count": 89,
     "metadata": {},
     "output_type": "execute_result"
    }
   ],
   "source": [
    "list_df = [1,2,3,4,5,6,7,8]\n",
    "df_list = pd.DataFrame(list_df)\n",
    "df_list"
   ]
  },
  {
   "cell_type": "code",
   "execution_count": 90,
   "id": "c4550cb5",
   "metadata": {},
   "outputs": [
    {
     "data": {
      "text/html": [
       "<div>\n",
       "<style scoped>\n",
       "    .dataframe tbody tr th:only-of-type {\n",
       "        vertical-align: middle;\n",
       "    }\n",
       "\n",
       "    .dataframe tbody tr th {\n",
       "        vertical-align: top;\n",
       "    }\n",
       "\n",
       "    .dataframe thead th {\n",
       "        text-align: right;\n",
       "    }\n",
       "</style>\n",
       "<table border=\"1\" class=\"dataframe\">\n",
       "  <thead>\n",
       "    <tr style=\"text-align: right;\">\n",
       "      <th></th>\n",
       "      <th>0</th>\n",
       "    </tr>\n",
       "  </thead>\n",
       "  <tbody>\n",
       "    <tr>\n",
       "      <th>a</th>\n",
       "      <td>1</td>\n",
       "    </tr>\n",
       "    <tr>\n",
       "      <th>b</th>\n",
       "      <td>2</td>\n",
       "    </tr>\n",
       "    <tr>\n",
       "      <th>c</th>\n",
       "      <td>3</td>\n",
       "    </tr>\n",
       "    <tr>\n",
       "      <th>c</th>\n",
       "      <td>4</td>\n",
       "    </tr>\n",
       "    <tr>\n",
       "      <th>d</th>\n",
       "      <td>5</td>\n",
       "    </tr>\n",
       "    <tr>\n",
       "      <th>e</th>\n",
       "      <td>6</td>\n",
       "    </tr>\n",
       "    <tr>\n",
       "      <th>f</th>\n",
       "      <td>7</td>\n",
       "    </tr>\n",
       "    <tr>\n",
       "      <th>7</th>\n",
       "      <td>8</td>\n",
       "    </tr>\n",
       "  </tbody>\n",
       "</table>\n",
       "</div>"
      ],
      "text/plain": [
       "   0\n",
       "a  1\n",
       "b  2\n",
       "c  3\n",
       "c  4\n",
       "d  5\n",
       "e  6\n",
       "f  7\n",
       "7  8"
      ]
     },
     "execution_count": 90,
     "metadata": {},
     "output_type": "execute_result"
    }
   ],
   "source": [
    "df_1 = df_list.rename(index = {0: 'a', 1 : 'b', 2 : 'c', 3: 'c', 4: 'd', 5: 'e', 6: 'f'})\n",
    "df_1"
   ]
  },
  {
   "cell_type": "code",
   "execution_count": 91,
   "id": "ddf7f460",
   "metadata": {
    "scrolled": true
   },
   "outputs": [
    {
     "data": {
      "text/plain": [
       "0    2\n",
       "Name: b, dtype: int64"
      ]
     },
     "execution_count": 91,
     "metadata": {},
     "output_type": "execute_result"
    }
   ],
   "source": [
    "df_1.loc['b']"
   ]
  },
  {
   "cell_type": "code",
   "execution_count": 92,
   "id": "ba87d620",
   "metadata": {},
   "outputs": [
    {
     "data": {
      "text/html": [
       "<div>\n",
       "<style scoped>\n",
       "    .dataframe tbody tr th:only-of-type {\n",
       "        vertical-align: middle;\n",
       "    }\n",
       "\n",
       "    .dataframe tbody tr th {\n",
       "        vertical-align: top;\n",
       "    }\n",
       "\n",
       "    .dataframe thead th {\n",
       "        text-align: right;\n",
       "    }\n",
       "</style>\n",
       "<table border=\"1\" class=\"dataframe\">\n",
       "  <thead>\n",
       "    <tr style=\"text-align: right;\">\n",
       "      <th></th>\n",
       "      <th>0</th>\n",
       "    </tr>\n",
       "  </thead>\n",
       "  <tbody>\n",
       "    <tr>\n",
       "      <th>b</th>\n",
       "      <td>2</td>\n",
       "    </tr>\n",
       "    <tr>\n",
       "      <th>c</th>\n",
       "      <td>3</td>\n",
       "    </tr>\n",
       "    <tr>\n",
       "      <th>c</th>\n",
       "      <td>4</td>\n",
       "    </tr>\n",
       "    <tr>\n",
       "      <th>d</th>\n",
       "      <td>5</td>\n",
       "    </tr>\n",
       "  </tbody>\n",
       "</table>\n",
       "</div>"
      ],
      "text/plain": [
       "   0\n",
       "b  2\n",
       "c  3\n",
       "c  4\n",
       "d  5"
      ]
     },
     "execution_count": 92,
     "metadata": {},
     "output_type": "execute_result"
    }
   ],
   "source": [
    "df_1.loc['b': 'd']"
   ]
  },
  {
   "cell_type": "code",
   "execution_count": 93,
   "id": "5d1e50dc",
   "metadata": {},
   "outputs": [
    {
     "data": {
      "text/html": [
       "<div>\n",
       "<style scoped>\n",
       "    .dataframe tbody tr th:only-of-type {\n",
       "        vertical-align: middle;\n",
       "    }\n",
       "\n",
       "    .dataframe tbody tr th {\n",
       "        vertical-align: top;\n",
       "    }\n",
       "\n",
       "    .dataframe thead th {\n",
       "        text-align: right;\n",
       "    }\n",
       "</style>\n",
       "<table border=\"1\" class=\"dataframe\">\n",
       "  <thead>\n",
       "    <tr style=\"text-align: right;\">\n",
       "      <th></th>\n",
       "      <th>0</th>\n",
       "    </tr>\n",
       "  </thead>\n",
       "  <tbody>\n",
       "    <tr>\n",
       "      <th>a</th>\n",
       "      <td>1</td>\n",
       "    </tr>\n",
       "    <tr>\n",
       "      <th>b</th>\n",
       "      <td>2</td>\n",
       "    </tr>\n",
       "    <tr>\n",
       "      <th>c</th>\n",
       "      <td>3</td>\n",
       "    </tr>\n",
       "    <tr>\n",
       "      <th>c</th>\n",
       "      <td>4</td>\n",
       "    </tr>\n",
       "  </tbody>\n",
       "</table>\n",
       "</div>"
      ],
      "text/plain": [
       "   0\n",
       "a  1\n",
       "b  2\n",
       "c  3\n",
       "c  4"
      ]
     },
     "execution_count": 93,
     "metadata": {},
     "output_type": "execute_result"
    }
   ],
   "source": [
    "df_1.loc[:'c'] # select rows form index 'a' to 'c'"
   ]
  },
  {
   "cell_type": "markdown",
   "id": "2040dddd",
   "metadata": {},
   "source": [
    "### xiv. iloc"
   ]
  },
  {
   "cell_type": "markdown",
   "id": "ee10d4d3",
   "metadata": {},
   "source": [
    "**iloc** is used to locate/find rows using their index number"
   ]
  },
  {
   "cell_type": "code",
   "execution_count": 94,
   "id": "fb9b42be",
   "metadata": {},
   "outputs": [
    {
     "data": {
      "text/plain": [
       "0    4\n",
       "Name: c, dtype: int64"
      ]
     },
     "execution_count": 94,
     "metadata": {},
     "output_type": "execute_result"
    }
   ],
   "source": [
    "df_1.iloc[3]"
   ]
  },
  {
   "cell_type": "code",
   "execution_count": 95,
   "id": "3f01bd4a",
   "metadata": {
    "scrolled": false
   },
   "outputs": [
    {
     "name": "stdout",
     "output_type": "stream",
     "text": [
      "   0\n",
      "b  2\n",
      "c  3\n"
     ]
    }
   ],
   "source": [
    "print(df_1.iloc[1:3])"
   ]
  },
  {
   "cell_type": "markdown",
   "id": "5a19bb87",
   "metadata": {},
   "source": [
    "### xv. Correlation (corr())"
   ]
  },
  {
   "cell_type": "markdown",
   "id": "872d82ed",
   "metadata": {},
   "source": [
    "**Correlation** is a statistical method used to find relationship between two features/variables of a dataset.\n",
    "\n",
    "*There are 3 types of correlation*\n",
    "\n",
    "* *1) Positive Correlation*\n",
    "\n",
    "* *2) Negative Correlation*\n",
    "\n",
    "* *3) Zero Correlation*"
   ]
  },
  {
   "cell_type": "markdown",
   "id": "02faf116",
   "metadata": {},
   "source": [
    "##### corr() function can be used like:"
   ]
  },
  {
   "cell_type": "code",
   "execution_count": 96,
   "id": "86849d1e",
   "metadata": {},
   "outputs": [
    {
     "data": {
      "text/html": [
       "<div>\n",
       "<style scoped>\n",
       "    .dataframe tbody tr th:only-of-type {\n",
       "        vertical-align: middle;\n",
       "    }\n",
       "\n",
       "    .dataframe tbody tr th {\n",
       "        vertical-align: top;\n",
       "    }\n",
       "\n",
       "    .dataframe thead th {\n",
       "        text-align: right;\n",
       "    }\n",
       "</style>\n",
       "<table border=\"1\" class=\"dataframe\">\n",
       "  <thead>\n",
       "    <tr style=\"text-align: right;\">\n",
       "      <th></th>\n",
       "      <th>0</th>\n",
       "    </tr>\n",
       "  </thead>\n",
       "  <tbody>\n",
       "    <tr>\n",
       "      <th>0</th>\n",
       "      <td>1.0</td>\n",
       "    </tr>\n",
       "  </tbody>\n",
       "</table>\n",
       "</div>"
      ],
      "text/plain": [
       "     0\n",
       "0  1.0"
      ]
     },
     "execution_count": 96,
     "metadata": {},
     "output_type": "execute_result"
    }
   ],
   "source": [
    "df_1.corr()"
   ]
  },
  {
   "cell_type": "markdown",
   "id": "779bf2df",
   "metadata": {},
   "source": [
    "****The calue of correlation lies between 1 and -1****\n",
    "\n",
    "* 1 implies positive correlation.\n",
    "* -1 implies negatice correlation.\n",
    "* whereas 0 implies no correlation,\n",
    "\n",
    "e.g Height and Weight are psotively correlated\n",
    "\n",
    "**Note:**\n",
    "\n",
    "**=>** Close to 1 means, the values are in good relationship, quantities have directly relation*\n",
    "\n",
    "**=>** Close to -1 also means, if one if the value increase the other decreases, e.g Height above sea level and temprature negative correlated*\n",
    "\n",
    "**=>** 0 or close 0 means the values are independent of each other, increae in one doesnot effect the other, e.g age and name are zero correlated*"
   ]
  },
  {
   "cell_type": "markdown",
   "id": "d06b597c",
   "metadata": {},
   "source": [
    "### xvi.  reindexing ()"
   ]
  },
  {
   "cell_type": "markdown",
   "id": "efe7c64d",
   "metadata": {},
   "source": [
    "* Renaming the row and cloumn labels is called reindexing"
   ]
  },
  {
   "cell_type": "code",
   "execution_count": 97,
   "id": "c8984d43",
   "metadata": {},
   "outputs": [
    {
     "data": {
      "text/html": [
       "<div>\n",
       "<style scoped>\n",
       "    .dataframe tbody tr th:only-of-type {\n",
       "        vertical-align: middle;\n",
       "    }\n",
       "\n",
       "    .dataframe tbody tr th {\n",
       "        vertical-align: top;\n",
       "    }\n",
       "\n",
       "    .dataframe thead th {\n",
       "        text-align: right;\n",
       "    }\n",
       "</style>\n",
       "<table border=\"1\" class=\"dataframe\">\n",
       "  <thead>\n",
       "    <tr style=\"text-align: right;\">\n",
       "      <th></th>\n",
       "      <th>Sports</th>\n",
       "      <th>NoPl</th>\n",
       "      <th>Fans_billion</th>\n",
       "    </tr>\n",
       "  </thead>\n",
       "  <tbody>\n",
       "    <tr>\n",
       "      <th>0</th>\n",
       "      <td>Cricket</td>\n",
       "      <td>11</td>\n",
       "      <td>2.5</td>\n",
       "    </tr>\n",
       "    <tr>\n",
       "      <th>1</th>\n",
       "      <td>Soccer</td>\n",
       "      <td>11</td>\n",
       "      <td>4.0</td>\n",
       "    </tr>\n",
       "    <tr>\n",
       "      <th>2</th>\n",
       "      <td>Tennis</td>\n",
       "      <td>02</td>\n",
       "      <td>1.5</td>\n",
       "    </tr>\n",
       "    <tr>\n",
       "      <th>3</th>\n",
       "      <td>Hockey</td>\n",
       "      <td>11</td>\n",
       "      <td>1.5</td>\n",
       "    </tr>\n",
       "    <tr>\n",
       "      <th>4</th>\n",
       "      <td>Volleyball</td>\n",
       "      <td>06</td>\n",
       "      <td>1.5</td>\n",
       "    </tr>\n",
       "    <tr>\n",
       "      <th>5</th>\n",
       "      <td>Table tennis</td>\n",
       "      <td>02</td>\n",
       "      <td>1.5</td>\n",
       "    </tr>\n",
       "    <tr>\n",
       "      <th>6</th>\n",
       "      <td>Basketball</td>\n",
       "      <td>05</td>\n",
       "      <td>1.5</td>\n",
       "    </tr>\n",
       "    <tr>\n",
       "      <th>7</th>\n",
       "      <td>Baseball</td>\n",
       "      <td>09</td>\n",
       "      <td>1.5</td>\n",
       "    </tr>\n",
       "  </tbody>\n",
       "</table>\n",
       "</div>"
      ],
      "text/plain": [
       "         Sports NoPl  Fans_billion\n",
       "0       Cricket   11           2.5\n",
       "1        Soccer   11           4.0\n",
       "2        Tennis   02           1.5\n",
       "3        Hockey   11           1.5\n",
       "4    Volleyball   06           1.5\n",
       "5  Table tennis   02           1.5\n",
       "6    Basketball   05           1.5\n",
       "7      Baseball   09           1.5"
      ]
     },
     "execution_count": 97,
     "metadata": {},
     "output_type": "execute_result"
    }
   ],
   "source": [
    "filled_df"
   ]
  },
  {
   "cell_type": "code",
   "execution_count": 98,
   "id": "0a7eefc8",
   "metadata": {},
   "outputs": [
    {
     "data": {
      "text/html": [
       "<div>\n",
       "<style scoped>\n",
       "    .dataframe tbody tr th:only-of-type {\n",
       "        vertical-align: middle;\n",
       "    }\n",
       "\n",
       "    .dataframe tbody tr th {\n",
       "        vertical-align: top;\n",
       "    }\n",
       "\n",
       "    .dataframe thead th {\n",
       "        text-align: right;\n",
       "    }\n",
       "</style>\n",
       "<table border=\"1\" class=\"dataframe\">\n",
       "  <thead>\n",
       "    <tr style=\"text-align: right;\">\n",
       "      <th></th>\n",
       "      <th>Games</th>\n",
       "      <th>Playars</th>\n",
       "      <th>Populirity</th>\n",
       "    </tr>\n",
       "  </thead>\n",
       "  <tbody>\n",
       "    <tr>\n",
       "      <th>0</th>\n",
       "      <td>NaN</td>\n",
       "      <td>NaN</td>\n",
       "      <td>NaN</td>\n",
       "    </tr>\n",
       "    <tr>\n",
       "      <th>1</th>\n",
       "      <td>NaN</td>\n",
       "      <td>NaN</td>\n",
       "      <td>NaN</td>\n",
       "    </tr>\n",
       "    <tr>\n",
       "      <th>2</th>\n",
       "      <td>NaN</td>\n",
       "      <td>NaN</td>\n",
       "      <td>NaN</td>\n",
       "    </tr>\n",
       "  </tbody>\n",
       "</table>\n",
       "</div>"
      ],
      "text/plain": [
       "   Games  Playars  Populirity\n",
       "0    NaN      NaN         NaN\n",
       "1    NaN      NaN         NaN\n",
       "2    NaN      NaN         NaN"
      ]
     },
     "execution_count": 98,
     "metadata": {},
     "output_type": "execute_result"
    }
   ],
   "source": [
    "reindexed = filled_df.reindex(index = [0,1,2], columns = ['Games', 'Playars','Populirity'])\n",
    "reindexed"
   ]
  },
  {
   "cell_type": "markdown",
   "id": "6876b139",
   "metadata": {},
   "source": [
    "### xvii. Iteration"
   ]
  },
  {
   "cell_type": "markdown",
   "id": "36e3f3da",
   "metadata": {},
   "source": []
  },
  {
   "cell_type": "markdown",
   "id": "1710fdc0",
   "metadata": {},
   "source": [
    "**Iteration** over a DataFrame gives column names"
   ]
  },
  {
   "cell_type": "code",
   "execution_count": 99,
   "id": "14aed08c",
   "metadata": {},
   "outputs": [
    {
     "data": {
      "text/html": [
       "<div>\n",
       "<style scoped>\n",
       "    .dataframe tbody tr th:only-of-type {\n",
       "        vertical-align: middle;\n",
       "    }\n",
       "\n",
       "    .dataframe tbody tr th {\n",
       "        vertical-align: top;\n",
       "    }\n",
       "\n",
       "    .dataframe thead th {\n",
       "        text-align: right;\n",
       "    }\n",
       "</style>\n",
       "<table border=\"1\" class=\"dataframe\">\n",
       "  <thead>\n",
       "    <tr style=\"text-align: right;\">\n",
       "      <th></th>\n",
       "      <th>Sports</th>\n",
       "      <th>NoPl</th>\n",
       "      <th>Fans_billion</th>\n",
       "    </tr>\n",
       "  </thead>\n",
       "  <tbody>\n",
       "    <tr>\n",
       "      <th>0</th>\n",
       "      <td>Cricket</td>\n",
       "      <td>11</td>\n",
       "      <td>2.5</td>\n",
       "    </tr>\n",
       "    <tr>\n",
       "      <th>1</th>\n",
       "      <td>Soccer</td>\n",
       "      <td>11</td>\n",
       "      <td>4.0</td>\n",
       "    </tr>\n",
       "    <tr>\n",
       "      <th>2</th>\n",
       "      <td>Tennis</td>\n",
       "      <td>02</td>\n",
       "      <td>1.5</td>\n",
       "    </tr>\n",
       "    <tr>\n",
       "      <th>3</th>\n",
       "      <td>Hockey</td>\n",
       "      <td>11</td>\n",
       "      <td>1.5</td>\n",
       "    </tr>\n",
       "    <tr>\n",
       "      <th>4</th>\n",
       "      <td>Volleyball</td>\n",
       "      <td>06</td>\n",
       "      <td>1.5</td>\n",
       "    </tr>\n",
       "    <tr>\n",
       "      <th>5</th>\n",
       "      <td>Table tennis</td>\n",
       "      <td>02</td>\n",
       "      <td>1.5</td>\n",
       "    </tr>\n",
       "    <tr>\n",
       "      <th>6</th>\n",
       "      <td>Basketball</td>\n",
       "      <td>05</td>\n",
       "      <td>1.5</td>\n",
       "    </tr>\n",
       "    <tr>\n",
       "      <th>7</th>\n",
       "      <td>Baseball</td>\n",
       "      <td>09</td>\n",
       "      <td>1.5</td>\n",
       "    </tr>\n",
       "  </tbody>\n",
       "</table>\n",
       "</div>"
      ],
      "text/plain": [
       "         Sports NoPl  Fans_billion\n",
       "0       Cricket   11           2.5\n",
       "1        Soccer   11           4.0\n",
       "2        Tennis   02           1.5\n",
       "3        Hockey   11           1.5\n",
       "4    Volleyball   06           1.5\n",
       "5  Table tennis   02           1.5\n",
       "6    Basketball   05           1.5\n",
       "7      Baseball   09           1.5"
      ]
     },
     "execution_count": 99,
     "metadata": {},
     "output_type": "execute_result"
    }
   ],
   "source": [
    "filled_df"
   ]
  },
  {
   "cell_type": "markdown",
   "id": "e40ea2e6",
   "metadata": {},
   "source": [
    "**To iterate Over Column Names**"
   ]
  },
  {
   "cell_type": "code",
   "execution_count": 100,
   "id": "f183637b",
   "metadata": {},
   "outputs": [
    {
     "name": "stdout",
     "output_type": "stream",
     "text": [
      "Sports\n",
      "NoPl\n",
      "Fans_billion\n"
     ]
    }
   ],
   "source": [
    "for column in filled_df:\n",
    "    print(column)"
   ]
  },
  {
   "cell_type": "markdown",
   "id": "2064d955",
   "metadata": {},
   "source": [
    "**To Iterate Over Rows using iterrows()**"
   ]
  },
  {
   "cell_type": "markdown",
   "id": "7f0b2020",
   "metadata": {},
   "source": [
    "*Iteration over rows in a DataFrame yield row names along with the series of values in the rows*"
   ]
  },
  {
   "cell_type": "code",
   "execution_count": 101,
   "id": "a609f331",
   "metadata": {},
   "outputs": [
    {
     "name": "stdout",
     "output_type": "stream",
     "text": [
      "(0, Sports          Cricket\n",
      "NoPl                 11\n",
      "Fans_billion        2.5\n",
      "Name: 0, dtype: object)\n",
      "(1, Sports          Soccer\n",
      "NoPl                11\n",
      "Fans_billion       4.0\n",
      "Name: 1, dtype: object)\n",
      "(2, Sports          Tennis\n",
      "NoPl                02\n",
      "Fans_billion       1.5\n",
      "Name: 2, dtype: object)\n",
      "(3, Sports          Hockey\n",
      "NoPl                11\n",
      "Fans_billion       1.5\n",
      "Name: 3, dtype: object)\n",
      "(4, Sports          Volleyball\n",
      "NoPl                    06\n",
      "Fans_billion           1.5\n",
      "Name: 4, dtype: object)\n",
      "(5, Sports          Table tennis\n",
      "NoPl                      02\n",
      "Fans_billion             1.5\n",
      "Name: 5, dtype: object)\n",
      "(6, Sports          Basketball\n",
      "NoPl                    05\n",
      "Fans_billion           1.5\n",
      "Name: 6, dtype: object)\n",
      "(7, Sports          Baseball\n",
      "NoPl                  09\n",
      "Fans_billion         1.5\n",
      "Name: 7, dtype: object)\n"
     ]
    }
   ],
   "source": [
    "for rows in filled_df.iterrows():\n",
    "    print(rows)"
   ]
  },
  {
   "cell_type": "markdown",
   "id": "2823bcb7",
   "metadata": {},
   "source": [
    "#### Iterating Over Rows and Columns (iteritems())"
   ]
  },
  {
   "cell_type": "markdown",
   "id": "559ac6f6",
   "metadata": {},
   "source": [
    "*Iteration over a DataFrame values yield key,value pairs*\n",
    "\n",
    "*Column is considered as key, while all the elements inside a column are returned as values*"
   ]
  },
  {
   "cell_type": "code",
   "execution_count": 102,
   "id": "ed631c44",
   "metadata": {},
   "outputs": [
    {
     "name": "stdout",
     "output_type": "stream",
     "text": [
      "Sports 0         Cricket\n",
      "1          Soccer\n",
      "2          Tennis\n",
      "3          Hockey\n",
      "4      Volleyball\n",
      "5    Table tennis\n",
      "6      Basketball\n",
      "7        Baseball\n",
      "Name: Sports, dtype: object\n",
      "NoPl 0    11\n",
      "1    11\n",
      "2    02\n",
      "3    11\n",
      "4    06\n",
      "5    02\n",
      "6    05\n",
      "7    09\n",
      "Name: NoPl, dtype: object\n",
      "Fans_billion 0    2.5\n",
      "1    4.0\n",
      "2    1.5\n",
      "3    1.5\n",
      "4    1.5\n",
      "5    1.5\n",
      "6    1.5\n",
      "7    1.5\n",
      "Name: Fans_billion, dtype: float64\n"
     ]
    }
   ],
   "source": [
    "for row, column in filled_df.iteritems():\n",
    "    print(row, column)"
   ]
  },
  {
   "cell_type": "markdown",
   "id": "eb87b9ab",
   "metadata": {},
   "source": [
    "#### Iterating Over a DataFrame as Tuple (itertuples())"
   ]
  },
  {
   "cell_type": "markdown",
   "id": "dafbb3b8",
   "metadata": {},
   "source": [
    "Iteration over a DataFrame as tuple will give a series of tuples, where the first element of the tuple will be the index value, while the remaining elements will be the row values"
   ]
  },
  {
   "cell_type": "code",
   "execution_count": 103,
   "id": "67742bdd",
   "metadata": {},
   "outputs": [
    {
     "name": "stdout",
     "output_type": "stream",
     "text": [
      "Pandas(Index=0, Sports='Cricket', NoPl='11', Fans_billion=2.5)\n",
      "Pandas(Index=1, Sports='Soccer', NoPl='11', Fans_billion=4.0)\n",
      "Pandas(Index=2, Sports='Tennis', NoPl='02', Fans_billion=1.5)\n",
      "Pandas(Index=3, Sports='Hockey', NoPl='11', Fans_billion=1.5)\n",
      "Pandas(Index=4, Sports='Volleyball', NoPl='06', Fans_billion=1.5)\n",
      "Pandas(Index=5, Sports='Table tennis', NoPl='02', Fans_billion=1.5)\n",
      "Pandas(Index=6, Sports='Basketball', NoPl='05', Fans_billion=1.5)\n",
      "Pandas(Index=7, Sports='Baseball', NoPl='09', Fans_billion=1.5)\n"
     ]
    }
   ],
   "source": [
    "for tup in filled_df.itertuples():\n",
    "    print(tup)"
   ]
  },
  {
   "cell_type": "markdown",
   "id": "7598cf5c",
   "metadata": {},
   "source": [
    "### xviii. Sorting"
   ]
  },
  {
   "cell_type": "markdown",
   "id": "a53388c7",
   "metadata": {},
   "source": [
    "*Sorting means putting all the elements of a sequence in an order*"
   ]
  },
  {
   "cell_type": "markdown",
   "id": "7ded98d6",
   "metadata": {},
   "source": [
    "#### $\\text{There are two types of sorting in Pandas}$"
   ]
  },
  {
   "cell_type": "markdown",
   "id": "41804454",
   "metadata": {},
   "source": [
    "**1. Sorting by Label**\n",
    "\n",
    "****2. Sorting by Actual Value****"
   ]
  },
  {
   "cell_type": "markdown",
   "id": "361d39bf",
   "metadata": {},
   "source": [
    "*Using random module from Python to generate random data*"
   ]
  },
  {
   "cell_type": "code",
   "execution_count": 104,
   "id": "2dcd1622",
   "metadata": {},
   "outputs": [
    {
     "name": "stdout",
     "output_type": "stream",
     "text": [
      "[(2, -2), (-2, -2), (0, -3), (-1, -1), (1, 1)]\n"
     ]
    }
   ],
   "source": [
    "import random\n",
    "a = []\n",
    "b = []\n",
    "for i in range(5):\n",
    "    rnd1 = random.randint(-3,3)\n",
    "    rnd2 = random.randint(-5,5)\n",
    "    a.append(rnd1)\n",
    "    b.append(rnd2)\n",
    "data = list(zip(a,b))\n",
    "print(data)"
   ]
  },
  {
   "cell_type": "code",
   "execution_count": 105,
   "id": "9f2c6bb1",
   "metadata": {},
   "outputs": [
    {
     "name": "stdout",
     "output_type": "stream",
     "text": [
      "[2, -2, 0, -1, 1]\n",
      "[-2, -2, -3, -1, 1]\n"
     ]
    }
   ],
   "source": [
    "print(a)\n",
    "print(b)"
   ]
  },
  {
   "cell_type": "code",
   "execution_count": 106,
   "id": "b8d555f7",
   "metadata": {
    "scrolled": true
   },
   "outputs": [
    {
     "data": {
      "text/html": [
       "<div>\n",
       "<style scoped>\n",
       "    .dataframe tbody tr th:only-of-type {\n",
       "        vertical-align: middle;\n",
       "    }\n",
       "\n",
       "    .dataframe tbody tr th {\n",
       "        vertical-align: top;\n",
       "    }\n",
       "\n",
       "    .dataframe thead th {\n",
       "        text-align: right;\n",
       "    }\n",
       "</style>\n",
       "<table border=\"1\" class=\"dataframe\">\n",
       "  <thead>\n",
       "    <tr style=\"text-align: right;\">\n",
       "      <th></th>\n",
       "      <th>list_a</th>\n",
       "      <th>list_b</th>\n",
       "    </tr>\n",
       "  </thead>\n",
       "  <tbody>\n",
       "    <tr>\n",
       "      <th>3</th>\n",
       "      <td>2</td>\n",
       "      <td>-2</td>\n",
       "    </tr>\n",
       "    <tr>\n",
       "      <th>1</th>\n",
       "      <td>-2</td>\n",
       "      <td>-2</td>\n",
       "    </tr>\n",
       "    <tr>\n",
       "      <th>5</th>\n",
       "      <td>0</td>\n",
       "      <td>-3</td>\n",
       "    </tr>\n",
       "    <tr>\n",
       "      <th>4</th>\n",
       "      <td>-1</td>\n",
       "      <td>-1</td>\n",
       "    </tr>\n",
       "    <tr>\n",
       "      <th>2</th>\n",
       "      <td>1</td>\n",
       "      <td>1</td>\n",
       "    </tr>\n",
       "  </tbody>\n",
       "</table>\n",
       "</div>"
      ],
      "text/plain": [
       "   list_a  list_b\n",
       "3       2      -2\n",
       "1      -2      -2\n",
       "5       0      -3\n",
       "4      -1      -1\n",
       "2       1       1"
      ]
     },
     "execution_count": 106,
     "metadata": {},
     "output_type": "execute_result"
    }
   ],
   "source": [
    "new_data = pd.DataFrame(data, index = [3,1,5,4,2], columns = ['list_a', 'list_b'])\n",
    "new_data"
   ]
  },
  {
   "cell_type": "markdown",
   "id": "86d245d5",
   "metadata": {},
   "source": [
    "****Notice how our data is unordered (look at the indexes!)****"
   ]
  },
  {
   "cell_type": "markdown",
   "id": "bf8c4b55",
   "metadata": {},
   "source": [
    "#### $\\color{blue}{\\text{1. Sorting by Label}}$"
   ]
  },
  {
   "cell_type": "markdown",
   "id": "8a64cba2",
   "metadata": {},
   "source": [
    "**Sorting by label** means rearranging all the elements of a sequence/list/DataFrame etc, with respect to their indexes"
   ]
  },
  {
   "cell_type": "code",
   "execution_count": 107,
   "id": "209aed75",
   "metadata": {},
   "outputs": [
    {
     "name": "stdout",
     "output_type": "stream",
     "text": [
      "DataFrame before sorting\n"
     ]
    },
    {
     "data": {
      "text/html": [
       "<div>\n",
       "<style scoped>\n",
       "    .dataframe tbody tr th:only-of-type {\n",
       "        vertical-align: middle;\n",
       "    }\n",
       "\n",
       "    .dataframe tbody tr th {\n",
       "        vertical-align: top;\n",
       "    }\n",
       "\n",
       "    .dataframe thead th {\n",
       "        text-align: right;\n",
       "    }\n",
       "</style>\n",
       "<table border=\"1\" class=\"dataframe\">\n",
       "  <thead>\n",
       "    <tr style=\"text-align: right;\">\n",
       "      <th></th>\n",
       "      <th>list_a</th>\n",
       "      <th>list_b</th>\n",
       "    </tr>\n",
       "  </thead>\n",
       "  <tbody>\n",
       "    <tr>\n",
       "      <th>3</th>\n",
       "      <td>2</td>\n",
       "      <td>-2</td>\n",
       "    </tr>\n",
       "    <tr>\n",
       "      <th>1</th>\n",
       "      <td>-2</td>\n",
       "      <td>-2</td>\n",
       "    </tr>\n",
       "    <tr>\n",
       "      <th>5</th>\n",
       "      <td>0</td>\n",
       "      <td>-3</td>\n",
       "    </tr>\n",
       "    <tr>\n",
       "      <th>4</th>\n",
       "      <td>-1</td>\n",
       "      <td>-1</td>\n",
       "    </tr>\n",
       "    <tr>\n",
       "      <th>2</th>\n",
       "      <td>1</td>\n",
       "      <td>1</td>\n",
       "    </tr>\n",
       "  </tbody>\n",
       "</table>\n",
       "</div>"
      ],
      "text/plain": [
       "   list_a  list_b\n",
       "3       2      -2\n",
       "1      -2      -2\n",
       "5       0      -3\n",
       "4      -1      -1\n",
       "2       1       1"
      ]
     },
     "execution_count": 107,
     "metadata": {},
     "output_type": "execute_result"
    }
   ],
   "source": [
    "print('DataFrame before sorting')\n",
    "new_data"
   ]
  },
  {
   "cell_type": "markdown",
   "id": "721e9dfb",
   "metadata": {},
   "source": [
    "**pd.sort_index()**"
   ]
  },
  {
   "cell_type": "code",
   "execution_count": 108,
   "id": "0031cfab",
   "metadata": {},
   "outputs": [
    {
     "name": "stdout",
     "output_type": "stream",
     "text": [
      "DataFrame after sorting\n"
     ]
    },
    {
     "data": {
      "text/html": [
       "<div>\n",
       "<style scoped>\n",
       "    .dataframe tbody tr th:only-of-type {\n",
       "        vertical-align: middle;\n",
       "    }\n",
       "\n",
       "    .dataframe tbody tr th {\n",
       "        vertical-align: top;\n",
       "    }\n",
       "\n",
       "    .dataframe thead th {\n",
       "        text-align: right;\n",
       "    }\n",
       "</style>\n",
       "<table border=\"1\" class=\"dataframe\">\n",
       "  <thead>\n",
       "    <tr style=\"text-align: right;\">\n",
       "      <th></th>\n",
       "      <th>list_a</th>\n",
       "      <th>list_b</th>\n",
       "    </tr>\n",
       "  </thead>\n",
       "  <tbody>\n",
       "    <tr>\n",
       "      <th>1</th>\n",
       "      <td>-2</td>\n",
       "      <td>-2</td>\n",
       "    </tr>\n",
       "    <tr>\n",
       "      <th>2</th>\n",
       "      <td>1</td>\n",
       "      <td>1</td>\n",
       "    </tr>\n",
       "    <tr>\n",
       "      <th>3</th>\n",
       "      <td>2</td>\n",
       "      <td>-2</td>\n",
       "    </tr>\n",
       "    <tr>\n",
       "      <th>4</th>\n",
       "      <td>-1</td>\n",
       "      <td>-1</td>\n",
       "    </tr>\n",
       "    <tr>\n",
       "      <th>5</th>\n",
       "      <td>0</td>\n",
       "      <td>-3</td>\n",
       "    </tr>\n",
       "  </tbody>\n",
       "</table>\n",
       "</div>"
      ],
      "text/plain": [
       "   list_a  list_b\n",
       "1      -2      -2\n",
       "2       1       1\n",
       "3       2      -2\n",
       "4      -1      -1\n",
       "5       0      -3"
      ]
     },
     "execution_count": 108,
     "metadata": {},
     "output_type": "execute_result"
    }
   ],
   "source": [
    "sorted = new_data.sort_index()\n",
    "print('DataFrame after sorting')\n",
    "sorted"
   ]
  },
  {
   "cell_type": "markdown",
   "id": "98756f2a",
   "metadata": {},
   "source": [
    "#### The order can be set by sorting either ascending, or descending ."
   ]
  },
  {
   "cell_type": "code",
   "execution_count": 109,
   "id": "1685b052",
   "metadata": {},
   "outputs": [
    {
     "data": {
      "text/html": [
       "<div>\n",
       "<style scoped>\n",
       "    .dataframe tbody tr th:only-of-type {\n",
       "        vertical-align: middle;\n",
       "    }\n",
       "\n",
       "    .dataframe tbody tr th {\n",
       "        vertical-align: top;\n",
       "    }\n",
       "\n",
       "    .dataframe thead th {\n",
       "        text-align: right;\n",
       "    }\n",
       "</style>\n",
       "<table border=\"1\" class=\"dataframe\">\n",
       "  <thead>\n",
       "    <tr style=\"text-align: right;\">\n",
       "      <th></th>\n",
       "      <th>list_a</th>\n",
       "      <th>list_b</th>\n",
       "    </tr>\n",
       "  </thead>\n",
       "  <tbody>\n",
       "    <tr>\n",
       "      <th>3</th>\n",
       "      <td>2</td>\n",
       "      <td>-2</td>\n",
       "    </tr>\n",
       "    <tr>\n",
       "      <th>1</th>\n",
       "      <td>-2</td>\n",
       "      <td>-2</td>\n",
       "    </tr>\n",
       "    <tr>\n",
       "      <th>5</th>\n",
       "      <td>0</td>\n",
       "      <td>-3</td>\n",
       "    </tr>\n",
       "    <tr>\n",
       "      <th>4</th>\n",
       "      <td>-1</td>\n",
       "      <td>-1</td>\n",
       "    </tr>\n",
       "    <tr>\n",
       "      <th>2</th>\n",
       "      <td>1</td>\n",
       "      <td>1</td>\n",
       "    </tr>\n",
       "  </tbody>\n",
       "</table>\n",
       "</div>"
      ],
      "text/plain": [
       "   list_a  list_b\n",
       "3       2      -2\n",
       "1      -2      -2\n",
       "5       0      -3\n",
       "4      -1      -1\n",
       "2       1       1"
      ]
     },
     "execution_count": 109,
     "metadata": {},
     "output_type": "execute_result"
    }
   ],
   "source": [
    "new_data"
   ]
  },
  {
   "cell_type": "code",
   "execution_count": 110,
   "id": "204d07f3",
   "metadata": {},
   "outputs": [
    {
     "data": {
      "text/html": [
       "<div>\n",
       "<style scoped>\n",
       "    .dataframe tbody tr th:only-of-type {\n",
       "        vertical-align: middle;\n",
       "    }\n",
       "\n",
       "    .dataframe tbody tr th {\n",
       "        vertical-align: top;\n",
       "    }\n",
       "\n",
       "    .dataframe thead th {\n",
       "        text-align: right;\n",
       "    }\n",
       "</style>\n",
       "<table border=\"1\" class=\"dataframe\">\n",
       "  <thead>\n",
       "    <tr style=\"text-align: right;\">\n",
       "      <th></th>\n",
       "      <th>list_a</th>\n",
       "      <th>list_b</th>\n",
       "    </tr>\n",
       "  </thead>\n",
       "  <tbody>\n",
       "    <tr>\n",
       "      <th>1</th>\n",
       "      <td>-2</td>\n",
       "      <td>-2</td>\n",
       "    </tr>\n",
       "    <tr>\n",
       "      <th>2</th>\n",
       "      <td>1</td>\n",
       "      <td>1</td>\n",
       "    </tr>\n",
       "    <tr>\n",
       "      <th>3</th>\n",
       "      <td>2</td>\n",
       "      <td>-2</td>\n",
       "    </tr>\n",
       "    <tr>\n",
       "      <th>4</th>\n",
       "      <td>-1</td>\n",
       "      <td>-1</td>\n",
       "    </tr>\n",
       "    <tr>\n",
       "      <th>5</th>\n",
       "      <td>0</td>\n",
       "      <td>-3</td>\n",
       "    </tr>\n",
       "  </tbody>\n",
       "</table>\n",
       "</div>"
      ],
      "text/plain": [
       "   list_a  list_b\n",
       "1      -2      -2\n",
       "2       1       1\n",
       "3       2      -2\n",
       "4      -1      -1\n",
       "5       0      -3"
      ]
     },
     "execution_count": 110,
     "metadata": {},
     "output_type": "execute_result"
    }
   ],
   "source": [
    "new_data.sort_index(ascending = True)"
   ]
  },
  {
   "cell_type": "code",
   "execution_count": 111,
   "id": "6835787d",
   "metadata": {},
   "outputs": [
    {
     "data": {
      "text/html": [
       "<div>\n",
       "<style scoped>\n",
       "    .dataframe tbody tr th:only-of-type {\n",
       "        vertical-align: middle;\n",
       "    }\n",
       "\n",
       "    .dataframe tbody tr th {\n",
       "        vertical-align: top;\n",
       "    }\n",
       "\n",
       "    .dataframe thead th {\n",
       "        text-align: right;\n",
       "    }\n",
       "</style>\n",
       "<table border=\"1\" class=\"dataframe\">\n",
       "  <thead>\n",
       "    <tr style=\"text-align: right;\">\n",
       "      <th></th>\n",
       "      <th>list_a</th>\n",
       "      <th>list_b</th>\n",
       "    </tr>\n",
       "  </thead>\n",
       "  <tbody>\n",
       "    <tr>\n",
       "      <th>5</th>\n",
       "      <td>0</td>\n",
       "      <td>-3</td>\n",
       "    </tr>\n",
       "    <tr>\n",
       "      <th>4</th>\n",
       "      <td>-1</td>\n",
       "      <td>-1</td>\n",
       "    </tr>\n",
       "    <tr>\n",
       "      <th>3</th>\n",
       "      <td>2</td>\n",
       "      <td>-2</td>\n",
       "    </tr>\n",
       "    <tr>\n",
       "      <th>2</th>\n",
       "      <td>1</td>\n",
       "      <td>1</td>\n",
       "    </tr>\n",
       "    <tr>\n",
       "      <th>1</th>\n",
       "      <td>-2</td>\n",
       "      <td>-2</td>\n",
       "    </tr>\n",
       "  </tbody>\n",
       "</table>\n",
       "</div>"
      ],
      "text/plain": [
       "   list_a  list_b\n",
       "5       0      -3\n",
       "4      -1      -1\n",
       "3       2      -2\n",
       "2       1       1\n",
       "1      -2      -2"
      ]
     },
     "execution_count": 111,
     "metadata": {},
     "output_type": "execute_result"
    }
   ],
   "source": [
    "new_data.sort_index(ascending = False)"
   ]
  },
  {
   "cell_type": "markdown",
   "id": "9eb972a5",
   "metadata": {},
   "source": [
    "#### $\\color{blue}{\\text{2. Sorting by Value}}$"
   ]
  },
  {
   "cell_type": "markdown",
   "id": "b1574b9e",
   "metadata": {},
   "source": [
    "*Simply adding axis = 1 for sorting columns*"
   ]
  },
  {
   "cell_type": "markdown",
   "id": "15164aaf",
   "metadata": {},
   "source": [
    "****Data can be sorted by using values, for this we'll use $\\color{blue}{\\text{sort.value()}}$ function from pandas****"
   ]
  },
  {
   "cell_type": "markdown",
   "id": "8d47835c",
   "metadata": {},
   "source": [
    "* **sort.values()** function accepts an argument 'by'.\n",
    "\n",
    "* 'by' argument will accept the column name with which, the data is to be sorted."
   ]
  },
  {
   "cell_type": "code",
   "execution_count": 112,
   "id": "956d18a3",
   "metadata": {},
   "outputs": [
    {
     "data": {
      "text/html": [
       "<div>\n",
       "<style scoped>\n",
       "    .dataframe tbody tr th:only-of-type {\n",
       "        vertical-align: middle;\n",
       "    }\n",
       "\n",
       "    .dataframe tbody tr th {\n",
       "        vertical-align: top;\n",
       "    }\n",
       "\n",
       "    .dataframe thead th {\n",
       "        text-align: right;\n",
       "    }\n",
       "</style>\n",
       "<table border=\"1\" class=\"dataframe\">\n",
       "  <thead>\n",
       "    <tr style=\"text-align: right;\">\n",
       "      <th></th>\n",
       "      <th>list_a</th>\n",
       "      <th>list_b</th>\n",
       "    </tr>\n",
       "  </thead>\n",
       "  <tbody>\n",
       "    <tr>\n",
       "      <th>3</th>\n",
       "      <td>2</td>\n",
       "      <td>-2</td>\n",
       "    </tr>\n",
       "    <tr>\n",
       "      <th>1</th>\n",
       "      <td>-2</td>\n",
       "      <td>-2</td>\n",
       "    </tr>\n",
       "    <tr>\n",
       "      <th>5</th>\n",
       "      <td>0</td>\n",
       "      <td>-3</td>\n",
       "    </tr>\n",
       "    <tr>\n",
       "      <th>4</th>\n",
       "      <td>-1</td>\n",
       "      <td>-1</td>\n",
       "    </tr>\n",
       "    <tr>\n",
       "      <th>2</th>\n",
       "      <td>1</td>\n",
       "      <td>1</td>\n",
       "    </tr>\n",
       "  </tbody>\n",
       "</table>\n",
       "</div>"
      ],
      "text/plain": [
       "   list_a  list_b\n",
       "3       2      -2\n",
       "1      -2      -2\n",
       "5       0      -3\n",
       "4      -1      -1\n",
       "2       1       1"
      ]
     },
     "execution_count": 112,
     "metadata": {},
     "output_type": "execute_result"
    }
   ],
   "source": [
    "new_data"
   ]
  },
  {
   "cell_type": "code",
   "execution_count": 113,
   "id": "7f802ca0",
   "metadata": {},
   "outputs": [
    {
     "data": {
      "text/html": [
       "<div>\n",
       "<style scoped>\n",
       "    .dataframe tbody tr th:only-of-type {\n",
       "        vertical-align: middle;\n",
       "    }\n",
       "\n",
       "    .dataframe tbody tr th {\n",
       "        vertical-align: top;\n",
       "    }\n",
       "\n",
       "    .dataframe thead th {\n",
       "        text-align: right;\n",
       "    }\n",
       "</style>\n",
       "<table border=\"1\" class=\"dataframe\">\n",
       "  <thead>\n",
       "    <tr style=\"text-align: right;\">\n",
       "      <th></th>\n",
       "      <th>list_a</th>\n",
       "      <th>list_b</th>\n",
       "    </tr>\n",
       "  </thead>\n",
       "  <tbody>\n",
       "    <tr>\n",
       "      <th>1</th>\n",
       "      <td>-2</td>\n",
       "      <td>-2</td>\n",
       "    </tr>\n",
       "    <tr>\n",
       "      <th>4</th>\n",
       "      <td>-1</td>\n",
       "      <td>-1</td>\n",
       "    </tr>\n",
       "    <tr>\n",
       "      <th>5</th>\n",
       "      <td>0</td>\n",
       "      <td>-3</td>\n",
       "    </tr>\n",
       "    <tr>\n",
       "      <th>2</th>\n",
       "      <td>1</td>\n",
       "      <td>1</td>\n",
       "    </tr>\n",
       "    <tr>\n",
       "      <th>3</th>\n",
       "      <td>2</td>\n",
       "      <td>-2</td>\n",
       "    </tr>\n",
       "  </tbody>\n",
       "</table>\n",
       "</div>"
      ],
      "text/plain": [
       "   list_a  list_b\n",
       "1      -2      -2\n",
       "4      -1      -1\n",
       "5       0      -3\n",
       "2       1       1\n",
       "3       2      -2"
      ]
     },
     "execution_count": 113,
     "metadata": {},
     "output_type": "execute_result"
    }
   ],
   "source": [
    "new_data.sort_values(by = 'list_a')"
   ]
  },
  {
   "cell_type": "markdown",
   "id": "8ee2dd5f",
   "metadata": {},
   "source": [
    "### xix. groupby()"
   ]
  },
  {
   "cell_type": "markdown",
   "id": "0155c45e",
   "metadata": {},
   "source": [
    "*Pandas **groupby()** function is used to split the data into groups having similar characteristics, applying functions to them, and returning the result accordingly*"
   ]
  },
  {
   "cell_type": "markdown",
   "id": "ee7bd5d5",
   "metadata": {},
   "source": [
    "*It is used to split DataFrame into smaller groups, applying some analysis on the groups and then accumulating the results accordingly*"
   ]
  },
  {
   "cell_type": "markdown",
   "id": "14aaba43",
   "metadata": {},
   "source": [
    "*It is same as splitting a problem into smaller smaller sub-problems and then solving each sub-problem, it makes our analysis easy and fast*"
   ]
  },
  {
   "cell_type": "code",
   "execution_count": 114,
   "id": "5c535c23",
   "metadata": {},
   "outputs": [],
   "source": [
    "employee = {'Name': ['Imtiaz', 'Wasim', 'Faruq', 'Sajad', 'Asif'],\n",
    "\n",
    "           'Department': ['Administration', 'Marketing', 'Technical', 'Planning', 'Designing'],\n",
    "\n",
    "           'Employment Type': ['full_time', 'contract', 'Intern', 'Part-time', 'Part-time'],\n",
    "\n",
    "           'Salary': [50000, 25000, 10000, 20000, 20000],\n",
    "\n",
    "           'Experience (years)': [3, 1, 0, 1,1]}"
   ]
  },
  {
   "cell_type": "code",
   "execution_count": 115,
   "id": "a9973168",
   "metadata": {
    "scrolled": true
   },
   "outputs": [
    {
     "data": {
      "text/html": [
       "<div>\n",
       "<style scoped>\n",
       "    .dataframe tbody tr th:only-of-type {\n",
       "        vertical-align: middle;\n",
       "    }\n",
       "\n",
       "    .dataframe tbody tr th {\n",
       "        vertical-align: top;\n",
       "    }\n",
       "\n",
       "    .dataframe thead th {\n",
       "        text-align: right;\n",
       "    }\n",
       "</style>\n",
       "<table border=\"1\" class=\"dataframe\">\n",
       "  <thead>\n",
       "    <tr style=\"text-align: right;\">\n",
       "      <th></th>\n",
       "      <th>Name</th>\n",
       "      <th>Department</th>\n",
       "      <th>Employment Type</th>\n",
       "      <th>Salary</th>\n",
       "      <th>Experience (years)</th>\n",
       "    </tr>\n",
       "  </thead>\n",
       "  <tbody>\n",
       "    <tr>\n",
       "      <th>0</th>\n",
       "      <td>Imtiaz</td>\n",
       "      <td>Administration</td>\n",
       "      <td>full_time</td>\n",
       "      <td>50000</td>\n",
       "      <td>3</td>\n",
       "    </tr>\n",
       "    <tr>\n",
       "      <th>1</th>\n",
       "      <td>Wasim</td>\n",
       "      <td>Marketing</td>\n",
       "      <td>contract</td>\n",
       "      <td>25000</td>\n",
       "      <td>1</td>\n",
       "    </tr>\n",
       "    <tr>\n",
       "      <th>2</th>\n",
       "      <td>Faruq</td>\n",
       "      <td>Technical</td>\n",
       "      <td>Intern</td>\n",
       "      <td>10000</td>\n",
       "      <td>0</td>\n",
       "    </tr>\n",
       "    <tr>\n",
       "      <th>3</th>\n",
       "      <td>Sajad</td>\n",
       "      <td>Planning</td>\n",
       "      <td>Part-time</td>\n",
       "      <td>20000</td>\n",
       "      <td>1</td>\n",
       "    </tr>\n",
       "    <tr>\n",
       "      <th>4</th>\n",
       "      <td>Asif</td>\n",
       "      <td>Designing</td>\n",
       "      <td>Part-time</td>\n",
       "      <td>20000</td>\n",
       "      <td>1</td>\n",
       "    </tr>\n",
       "  </tbody>\n",
       "</table>\n",
       "</div>"
      ],
      "text/plain": [
       "     Name      Department Employment Type  Salary  Experience (years)\n",
       "0  Imtiaz  Administration       full_time   50000                   3\n",
       "1   Wasim       Marketing        contract   25000                   1\n",
       "2   Faruq       Technical          Intern   10000                   0\n",
       "3   Sajad        Planning       Part-time   20000                   1\n",
       "4    Asif       Designing       Part-time   20000                   1"
      ]
     },
     "execution_count": 115,
     "metadata": {},
     "output_type": "execute_result"
    }
   ],
   "source": [
    "data_em = pd.DataFrame(employee)\n",
    "data_em"
   ]
  },
  {
   "cell_type": "markdown",
   "id": "b4fbd655",
   "metadata": {},
   "source": [
    "****Here we are grouping our data based on Department****"
   ]
  },
  {
   "cell_type": "code",
   "execution_count": 116,
   "id": "e678af9f",
   "metadata": {},
   "outputs": [
    {
     "data": {
      "text/plain": [
       "<pandas.core.groupby.generic.DataFrameGroupBy object at 0x000001E3F0B184C0>"
      ]
     },
     "execution_count": 116,
     "metadata": {},
     "output_type": "execute_result"
    }
   ],
   "source": [
    "grouped =  data_em.groupby('Department')\n",
    "grouped"
   ]
  },
  {
   "cell_type": "markdown",
   "id": "809f77a6",
   "metadata": {},
   "source": [
    "**In order to get the data based on the groups made, .get_group() function from pandas is used to get the data based on the columns selected**"
   ]
  },
  {
   "cell_type": "markdown",
   "id": "cbbf1642",
   "metadata": {},
   "source": [
    "****Since, the grouped data is based on department, So, getting data based on different departments****"
   ]
  },
  {
   "cell_type": "markdown",
   "id": "5358ed36",
   "metadata": {},
   "source": [
    "*Getting data for Technical Department*"
   ]
  },
  {
   "cell_type": "code",
   "execution_count": 117,
   "id": "3d3cbbd0",
   "metadata": {},
   "outputs": [
    {
     "data": {
      "text/html": [
       "<div>\n",
       "<style scoped>\n",
       "    .dataframe tbody tr th:only-of-type {\n",
       "        vertical-align: middle;\n",
       "    }\n",
       "\n",
       "    .dataframe tbody tr th {\n",
       "        vertical-align: top;\n",
       "    }\n",
       "\n",
       "    .dataframe thead th {\n",
       "        text-align: right;\n",
       "    }\n",
       "</style>\n",
       "<table border=\"1\" class=\"dataframe\">\n",
       "  <thead>\n",
       "    <tr style=\"text-align: right;\">\n",
       "      <th></th>\n",
       "      <th>Name</th>\n",
       "      <th>Department</th>\n",
       "      <th>Employment Type</th>\n",
       "      <th>Salary</th>\n",
       "      <th>Experience (years)</th>\n",
       "    </tr>\n",
       "  </thead>\n",
       "  <tbody>\n",
       "    <tr>\n",
       "      <th>2</th>\n",
       "      <td>Faruq</td>\n",
       "      <td>Technical</td>\n",
       "      <td>Intern</td>\n",
       "      <td>10000</td>\n",
       "      <td>0</td>\n",
       "    </tr>\n",
       "  </tbody>\n",
       "</table>\n",
       "</div>"
      ],
      "text/plain": [
       "    Name Department Employment Type  Salary  Experience (years)\n",
       "2  Faruq  Technical          Intern   10000                   0"
      ]
     },
     "execution_count": 117,
     "metadata": {},
     "output_type": "execute_result"
    }
   ],
   "source": [
    "grouped.get_group('Technical')"
   ]
  },
  {
   "cell_type": "markdown",
   "id": "73a7fd3f",
   "metadata": {},
   "source": [
    "****Getting data for Marketing Department****"
   ]
  },
  {
   "cell_type": "code",
   "execution_count": 118,
   "id": "3e6cf775",
   "metadata": {},
   "outputs": [
    {
     "data": {
      "text/html": [
       "<div>\n",
       "<style scoped>\n",
       "    .dataframe tbody tr th:only-of-type {\n",
       "        vertical-align: middle;\n",
       "    }\n",
       "\n",
       "    .dataframe tbody tr th {\n",
       "        vertical-align: top;\n",
       "    }\n",
       "\n",
       "    .dataframe thead th {\n",
       "        text-align: right;\n",
       "    }\n",
       "</style>\n",
       "<table border=\"1\" class=\"dataframe\">\n",
       "  <thead>\n",
       "    <tr style=\"text-align: right;\">\n",
       "      <th></th>\n",
       "      <th>Name</th>\n",
       "      <th>Department</th>\n",
       "      <th>Employment Type</th>\n",
       "      <th>Salary</th>\n",
       "      <th>Experience (years)</th>\n",
       "    </tr>\n",
       "  </thead>\n",
       "  <tbody>\n",
       "    <tr>\n",
       "      <th>1</th>\n",
       "      <td>Wasim</td>\n",
       "      <td>Marketing</td>\n",
       "      <td>contract</td>\n",
       "      <td>25000</td>\n",
       "      <td>1</td>\n",
       "    </tr>\n",
       "  </tbody>\n",
       "</table>\n",
       "</div>"
      ],
      "text/plain": [
       "    Name Department Employment Type  Salary  Experience (years)\n",
       "1  Wasim  Marketing        contract   25000                   1"
      ]
     },
     "execution_count": 118,
     "metadata": {},
     "output_type": "execute_result"
    }
   ],
   "source": [
    "grouped.get_group('Marketing')"
   ]
  },
  {
   "cell_type": "markdown",
   "id": "749d32e2",
   "metadata": {},
   "source": [
    "****Getting data for Administration Department****"
   ]
  },
  {
   "cell_type": "code",
   "execution_count": 119,
   "id": "6c42642e",
   "metadata": {},
   "outputs": [
    {
     "data": {
      "text/html": [
       "<div>\n",
       "<style scoped>\n",
       "    .dataframe tbody tr th:only-of-type {\n",
       "        vertical-align: middle;\n",
       "    }\n",
       "\n",
       "    .dataframe tbody tr th {\n",
       "        vertical-align: top;\n",
       "    }\n",
       "\n",
       "    .dataframe thead th {\n",
       "        text-align: right;\n",
       "    }\n",
       "</style>\n",
       "<table border=\"1\" class=\"dataframe\">\n",
       "  <thead>\n",
       "    <tr style=\"text-align: right;\">\n",
       "      <th></th>\n",
       "      <th>Name</th>\n",
       "      <th>Department</th>\n",
       "      <th>Employment Type</th>\n",
       "      <th>Salary</th>\n",
       "      <th>Experience (years)</th>\n",
       "    </tr>\n",
       "  </thead>\n",
       "  <tbody>\n",
       "    <tr>\n",
       "      <th>0</th>\n",
       "      <td>Imtiaz</td>\n",
       "      <td>Administration</td>\n",
       "      <td>full_time</td>\n",
       "      <td>50000</td>\n",
       "      <td>3</td>\n",
       "    </tr>\n",
       "  </tbody>\n",
       "</table>\n",
       "</div>"
      ],
      "text/plain": [
       "     Name      Department Employment Type  Salary  Experience (years)\n",
       "0  Imtiaz  Administration       full_time   50000                   3"
      ]
     },
     "execution_count": 119,
     "metadata": {},
     "output_type": "execute_result"
    }
   ],
   "source": [
    "grouped.get_group('Administration')"
   ]
  },
  {
   "cell_type": "markdown",
   "id": "ff11c5ef",
   "metadata": {},
   "source": [
    "##### Department Vs Salary "
   ]
  },
  {
   "cell_type": "code",
   "execution_count": 120,
   "id": "9f19ab9c",
   "metadata": {},
   "outputs": [
    {
     "name": "stdout",
     "output_type": "stream",
     "text": [
      "{('Administration', 50000): [0], ('Designing', 20000): [4], ('Marketing', 25000): [1], ('Planning', 20000): [3], ('Technical', 10000): [2]}\n"
     ]
    }
   ],
   "source": [
    "ds = data_em.groupby(['Department', 'Salary'])\n",
    "print(ds.groups)"
   ]
  },
  {
   "cell_type": "code",
   "execution_count": 121,
   "id": "3d6e866f",
   "metadata": {
    "scrolled": true
   },
   "outputs": [
    {
     "data": {
      "text/plain": [
       "Department\n",
       "Administration    50000\n",
       "Designing         20000\n",
       "Marketing         25000\n",
       "Planning          20000\n",
       "Technical         10000\n",
       "Name: Salary, dtype: int64"
      ]
     },
     "execution_count": 121,
     "metadata": {},
     "output_type": "execute_result"
    }
   ],
   "source": [
    "data_em.groupby('Department')['Salary'].mean()"
   ]
  },
  {
   "cell_type": "code",
   "execution_count": 122,
   "id": "470ae367",
   "metadata": {},
   "outputs": [
    {
     "name": "stdout",
     "output_type": "stream",
     "text": [
      "{('Administration', 50000): [0], ('Designing', 20000): [4], ('Marketing', 25000): [1], ('Planning', 20000): [3], ('Technical', 10000): [2]}\n"
     ]
    }
   ],
   "source": [
    "grouping = data_em.groupby(['Department', 'Salary', 'Experience (years)'])\n",
    "print(ds.groups)"
   ]
  },
  {
   "cell_type": "code",
   "execution_count": 123,
   "id": "f44e7a03",
   "metadata": {},
   "outputs": [
    {
     "name": "stderr",
     "output_type": "stream",
     "text": [
      "<ipython-input-123-820ab998853e>:1: FutureWarning: Indexing with multiple keys (implicitly converted to a tuple of keys) will be deprecated, use a list instead.\n",
      "  data_em.groupby('Department')['Salary', 'Experience (years)'].mean()\n"
     ]
    },
    {
     "data": {
      "text/html": [
       "<div>\n",
       "<style scoped>\n",
       "    .dataframe tbody tr th:only-of-type {\n",
       "        vertical-align: middle;\n",
       "    }\n",
       "\n",
       "    .dataframe tbody tr th {\n",
       "        vertical-align: top;\n",
       "    }\n",
       "\n",
       "    .dataframe thead th {\n",
       "        text-align: right;\n",
       "    }\n",
       "</style>\n",
       "<table border=\"1\" class=\"dataframe\">\n",
       "  <thead>\n",
       "    <tr style=\"text-align: right;\">\n",
       "      <th></th>\n",
       "      <th>Salary</th>\n",
       "      <th>Experience (years)</th>\n",
       "    </tr>\n",
       "    <tr>\n",
       "      <th>Department</th>\n",
       "      <th></th>\n",
       "      <th></th>\n",
       "    </tr>\n",
       "  </thead>\n",
       "  <tbody>\n",
       "    <tr>\n",
       "      <th>Administration</th>\n",
       "      <td>50000</td>\n",
       "      <td>3</td>\n",
       "    </tr>\n",
       "    <tr>\n",
       "      <th>Designing</th>\n",
       "      <td>20000</td>\n",
       "      <td>1</td>\n",
       "    </tr>\n",
       "    <tr>\n",
       "      <th>Marketing</th>\n",
       "      <td>25000</td>\n",
       "      <td>1</td>\n",
       "    </tr>\n",
       "    <tr>\n",
       "      <th>Planning</th>\n",
       "      <td>20000</td>\n",
       "      <td>1</td>\n",
       "    </tr>\n",
       "    <tr>\n",
       "      <th>Technical</th>\n",
       "      <td>10000</td>\n",
       "      <td>0</td>\n",
       "    </tr>\n",
       "  </tbody>\n",
       "</table>\n",
       "</div>"
      ],
      "text/plain": [
       "                Salary  Experience (years)\n",
       "Department                                \n",
       "Administration   50000                   3\n",
       "Designing        20000                   1\n",
       "Marketing        25000                   1\n",
       "Planning         20000                   1\n",
       "Technical        10000                   0"
      ]
     },
     "execution_count": 123,
     "metadata": {},
     "output_type": "execute_result"
    }
   ],
   "source": [
    "data_em.groupby('Department')['Salary', 'Experience (years)'].mean()"
   ]
  },
  {
   "cell_type": "markdown",
   "id": "e08cf872",
   "metadata": {},
   "source": [
    "### $\\text{Input/Output Tools}$"
   ]
  },
  {
   "cell_type": "markdown",
   "id": "94c4ea19",
   "metadata": {},
   "source": [
    "* *Pandas allows to read/write easily different file formats*\n",
    "\n",
    "* *Pandas can load a variety of files into its dataframe. For instance, cvs, excel, text, XML etc*"
   ]
  },
  {
   "cell_type": "markdown",
   "id": "197774e6",
   "metadata": {},
   "source": [
    "\n"
   ]
  },
  {
   "cell_type": "markdown",
   "id": "0a259ec0",
   "metadata": {},
   "source": [
    "###  Lets importing file a CSV File"
   ]
  },
  {
   "cell_type": "code",
   "execution_count": 124,
   "id": "4d7a3d3c",
   "metadata": {},
   "outputs": [],
   "source": [
    "import pandas as pd"
   ]
  },
  {
   "cell_type": "markdown",
   "id": "cb8336f3",
   "metadata": {},
   "source": [
    "#### Importing csv file"
   ]
  },
  {
   "cell_type": "code",
   "execution_count": 125,
   "id": "69fc9ac5",
   "metadata": {},
   "outputs": [],
   "source": [
    "data = pd.read_csv('train.csv')"
   ]
  },
  {
   "cell_type": "code",
   "execution_count": 126,
   "id": "a05d32ea",
   "metadata": {
    "scrolled": true
   },
   "outputs": [
    {
     "data": {
      "text/html": [
       "<div>\n",
       "<style scoped>\n",
       "    .dataframe tbody tr th:only-of-type {\n",
       "        vertical-align: middle;\n",
       "    }\n",
       "\n",
       "    .dataframe tbody tr th {\n",
       "        vertical-align: top;\n",
       "    }\n",
       "\n",
       "    .dataframe thead th {\n",
       "        text-align: right;\n",
       "    }\n",
       "</style>\n",
       "<table border=\"1\" class=\"dataframe\">\n",
       "  <thead>\n",
       "    <tr style=\"text-align: right;\">\n",
       "      <th></th>\n",
       "      <th>PassengerId</th>\n",
       "      <th>Survived</th>\n",
       "      <th>Pclass</th>\n",
       "      <th>Name</th>\n",
       "      <th>Sex</th>\n",
       "      <th>Age</th>\n",
       "      <th>SibSp</th>\n",
       "      <th>Parch</th>\n",
       "      <th>Ticket</th>\n",
       "      <th>Fare</th>\n",
       "      <th>Cabin</th>\n",
       "      <th>Embarked</th>\n",
       "    </tr>\n",
       "  </thead>\n",
       "  <tbody>\n",
       "    <tr>\n",
       "      <th>0</th>\n",
       "      <td>1</td>\n",
       "      <td>0</td>\n",
       "      <td>3</td>\n",
       "      <td>Braund, Mr. Owen Harris</td>\n",
       "      <td>male</td>\n",
       "      <td>22.0</td>\n",
       "      <td>1</td>\n",
       "      <td>0</td>\n",
       "      <td>A/5 21171</td>\n",
       "      <td>7.2500</td>\n",
       "      <td>NaN</td>\n",
       "      <td>S</td>\n",
       "    </tr>\n",
       "    <tr>\n",
       "      <th>1</th>\n",
       "      <td>2</td>\n",
       "      <td>1</td>\n",
       "      <td>1</td>\n",
       "      <td>Cumings, Mrs. John Bradley (Florence Briggs Th...</td>\n",
       "      <td>female</td>\n",
       "      <td>38.0</td>\n",
       "      <td>1</td>\n",
       "      <td>0</td>\n",
       "      <td>PC 17599</td>\n",
       "      <td>71.2833</td>\n",
       "      <td>C85</td>\n",
       "      <td>C</td>\n",
       "    </tr>\n",
       "    <tr>\n",
       "      <th>2</th>\n",
       "      <td>3</td>\n",
       "      <td>1</td>\n",
       "      <td>3</td>\n",
       "      <td>Heikkinen, Miss. Laina</td>\n",
       "      <td>female</td>\n",
       "      <td>26.0</td>\n",
       "      <td>0</td>\n",
       "      <td>0</td>\n",
       "      <td>STON/O2. 3101282</td>\n",
       "      <td>7.9250</td>\n",
       "      <td>NaN</td>\n",
       "      <td>S</td>\n",
       "    </tr>\n",
       "    <tr>\n",
       "      <th>3</th>\n",
       "      <td>4</td>\n",
       "      <td>1</td>\n",
       "      <td>1</td>\n",
       "      <td>Futrelle, Mrs. Jacques Heath (Lily May Peel)</td>\n",
       "      <td>female</td>\n",
       "      <td>35.0</td>\n",
       "      <td>1</td>\n",
       "      <td>0</td>\n",
       "      <td>113803</td>\n",
       "      <td>53.1000</td>\n",
       "      <td>C123</td>\n",
       "      <td>S</td>\n",
       "    </tr>\n",
       "    <tr>\n",
       "      <th>4</th>\n",
       "      <td>5</td>\n",
       "      <td>0</td>\n",
       "      <td>3</td>\n",
       "      <td>Allen, Mr. William Henry</td>\n",
       "      <td>male</td>\n",
       "      <td>35.0</td>\n",
       "      <td>0</td>\n",
       "      <td>0</td>\n",
       "      <td>373450</td>\n",
       "      <td>8.0500</td>\n",
       "      <td>NaN</td>\n",
       "      <td>S</td>\n",
       "    </tr>\n",
       "  </tbody>\n",
       "</table>\n",
       "</div>"
      ],
      "text/plain": [
       "   PassengerId  Survived  Pclass  \\\n",
       "0            1         0       3   \n",
       "1            2         1       1   \n",
       "2            3         1       3   \n",
       "3            4         1       1   \n",
       "4            5         0       3   \n",
       "\n",
       "                                                Name     Sex   Age  SibSp  \\\n",
       "0                            Braund, Mr. Owen Harris    male  22.0      1   \n",
       "1  Cumings, Mrs. John Bradley (Florence Briggs Th...  female  38.0      1   \n",
       "2                             Heikkinen, Miss. Laina  female  26.0      0   \n",
       "3       Futrelle, Mrs. Jacques Heath (Lily May Peel)  female  35.0      1   \n",
       "4                           Allen, Mr. William Henry    male  35.0      0   \n",
       "\n",
       "   Parch            Ticket     Fare Cabin Embarked  \n",
       "0      0         A/5 21171   7.2500   NaN        S  \n",
       "1      0          PC 17599  71.2833   C85        C  \n",
       "2      0  STON/O2. 3101282   7.9250   NaN        S  \n",
       "3      0            113803  53.1000  C123        S  \n",
       "4      0            373450   8.0500   NaN        S  "
      ]
     },
     "execution_count": 126,
     "metadata": {},
     "output_type": "execute_result"
    }
   ],
   "source": [
    "data.head(5)"
   ]
  },
  {
   "cell_type": "markdown",
   "id": "935aa43c",
   "metadata": {},
   "source": [
    "In the next repository, some preprocesing and ploting will be done on this dataset"
   ]
  },
  {
   "cell_type": "markdown",
   "id": "cf5f96c8",
   "metadata": {},
   "source": [
    "### $\\text{Thank You}$"
   ]
  }
 ],
 "metadata": {
  "kernelspec": {
   "display_name": "Python 3",
   "language": "python",
   "name": "python3"
  },
  "language_info": {
   "codemirror_mode": {
    "name": "ipython",
    "version": 3
   },
   "file_extension": ".py",
   "mimetype": "text/x-python",
   "name": "python",
   "nbconvert_exporter": "python",
   "pygments_lexer": "ipython3",
   "version": "3.8.8"
  }
 },
 "nbformat": 4,
 "nbformat_minor": 5
}
